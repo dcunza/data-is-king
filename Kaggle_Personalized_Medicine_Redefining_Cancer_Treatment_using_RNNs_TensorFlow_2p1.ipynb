{
 "cells": [
  {
   "cell_type": "markdown",
   "metadata": {},
   "source": [
    "## Kaggle Competition: Personalized Medicine - Redefining Cancer Treatment\n",
    "### _Predict the effect of Genetic Variants to enable Personalized Medicine_\n",
    "#### Competition website: https://www.kaggle.com/c/msk-redefining-cancer-treatment/overview\n",
    "#### Competition description (from website):\n",
    "##### Once sequenced, a cancer tumor can have thousands of genetic mutations. But the challenge is distinguishing the mutations that contribute to tumor growth (drivers) from the neutral mutations (passengers). Currently this interpretation of genetic mutations is being done manually. This is a very time-consuming task where a clinical pathologist has to manually review and classify every single genetic mutation based on evidence from text-based clinical literature. For this competition MSKCC (Memorial Sloan Kettering Cancer Center) is making available an expert-annotated knowledge base where world-class researchers and oncologists have manually annotated thousands of mutations. We need your help to develop a Machine Learning algorithm that, using this knowledge base as a baseline, automatically classifies genetic variations.\n",
    "#### Competition evaluation (from website):\n",
    "##### Submissions are evaluated on MULTI-CLASS LOG LOSS between the predicted probability (of 9 different classes of genetic variations) and the observed target.\n",
    "#### Models' public test-set evaluation:\n",
    "##### Recall rate (multi-class weighted avg.), per standard medical statistical metrics. Recall formula: tp/(tp+fn)."
   ]
  },
  {
   "cell_type": "code",
   "execution_count": 1,
   "metadata": {},
   "outputs": [
    {
     "name": "stderr",
     "output_type": "stream",
     "text": [
      "C:\\Users\\dcunz\\Anaconda3\\envs\\tf_gpu\\lib\\site-packages\\sklearn\\utils\\deprecation.py:144: FutureWarning: The sklearn.metrics.classification module is  deprecated in version 0.22 and will be removed in version 0.24. The corresponding classes / functions should instead be imported from sklearn.metrics. Anything that cannot be imported from sklearn.metrics is now part of the private API.\n",
      "  warnings.warn(message, FutureWarning)\n"
     ]
    },
    {
     "name": "stdout",
     "output_type": "stream",
     "text": [
      "2.1.0\n"
     ]
    }
   ],
   "source": [
    "import numpy as np\n",
    "import pandas as pd\n",
    "import matplotlib.pyplot as plt\n",
    "%matplotlib inline\n",
    "\n",
    "import re\n",
    "\n",
    "from sklearn.model_selection import train_test_split\n",
    "\n",
    "from sklearn.preprocessing import OneHotEncoder\n",
    "from sklearn.metrics.classification import log_loss\n",
    "\n",
    "from IPython.display import Markdown as md\n",
    "\n",
    "import tensorflow as tf\n",
    "\n",
    "from tensorflow import keras\n",
    "\n",
    "from tensorflow.keras.preprocessing.text import Tokenizer\n",
    "from tensorflow.keras.preprocessing.sequence import pad_sequences\n",
    "from nltk.corpus import stopwords\n",
    "\n",
    "from sklearn.metrics import classification_report\n",
    "from sklearn.metrics import confusion_matrix\n",
    "from mlxtend.plotting import plot_confusion_matrix\n",
    "\n",
    "print(tf.__version__)"
   ]
  },
  {
   "cell_type": "code",
   "execution_count": 2,
   "metadata": {},
   "outputs": [
    {
     "name": "stdout",
     "output_type": "stream",
     "text": [
      "[name: \"/device:CPU:0\"\n",
      "device_type: \"CPU\"\n",
      "memory_limit: 268435456\n",
      "locality {\n",
      "}\n",
      "incarnation: 8095769243008158335\n",
      ", name: \"/device:GPU:0\"\n",
      "device_type: \"GPU\"\n",
      "memory_limit: 4828102656\n",
      "locality {\n",
      "  bus_id: 1\n",
      "  links {\n",
      "  }\n",
      "}\n",
      "incarnation: 9395030180808440325\n",
      "physical_device_desc: \"device: 0, name: GeForce RTX 2060, pci bus id: 0000:01:00.0, compute capability: 7.5\"\n",
      "]\n",
      "[PhysicalDevice(name='/physical_device:GPU:0', device_type='GPU')]\n"
     ]
    }
   ],
   "source": [
    "# setup and check for tensorflow access to CPU/GPU resources\n",
    "from tensorflow.python.client import device_lib\n",
    "\n",
    "print(device_lib.list_local_devices())\n",
    "print(tf.config.list_physical_devices('GPU'))"
   ]
  },
  {
   "cell_type": "code",
   "execution_count": 3,
   "metadata": {},
   "outputs": [],
   "source": [
    "# read in full training data\n",
    "training_variants=pd.read_csv('training_variants')\n",
    "training_text=pd.read_csv('training_text',sep='\\|\\|',engine='python',skiprows=1,names=['ID','Text'])"
   ]
  },
  {
   "cell_type": "code",
   "execution_count": 4,
   "metadata": {},
   "outputs": [
    {
     "data": {
      "text/html": [
       "<div>\n",
       "<style scoped>\n",
       "    .dataframe tbody tr th:only-of-type {\n",
       "        vertical-align: middle;\n",
       "    }\n",
       "\n",
       "    .dataframe tbody tr th {\n",
       "        vertical-align: top;\n",
       "    }\n",
       "\n",
       "    .dataframe thead th {\n",
       "        text-align: right;\n",
       "    }\n",
       "</style>\n",
       "<table border=\"1\" class=\"dataframe\">\n",
       "  <thead>\n",
       "    <tr style=\"text-align: right;\">\n",
       "      <th></th>\n",
       "      <th>ID</th>\n",
       "      <th>Gene</th>\n",
       "      <th>Variation</th>\n",
       "      <th>Class</th>\n",
       "    </tr>\n",
       "  </thead>\n",
       "  <tbody>\n",
       "    <tr>\n",
       "      <th>0</th>\n",
       "      <td>0</td>\n",
       "      <td>FAM58A</td>\n",
       "      <td>Truncating Mutations</td>\n",
       "      <td>1</td>\n",
       "    </tr>\n",
       "    <tr>\n",
       "      <th>1</th>\n",
       "      <td>1</td>\n",
       "      <td>CBL</td>\n",
       "      <td>W802*</td>\n",
       "      <td>2</td>\n",
       "    </tr>\n",
       "    <tr>\n",
       "      <th>2</th>\n",
       "      <td>2</td>\n",
       "      <td>CBL</td>\n",
       "      <td>Q249E</td>\n",
       "      <td>2</td>\n",
       "    </tr>\n",
       "    <tr>\n",
       "      <th>3</th>\n",
       "      <td>3</td>\n",
       "      <td>CBL</td>\n",
       "      <td>N454D</td>\n",
       "      <td>3</td>\n",
       "    </tr>\n",
       "    <tr>\n",
       "      <th>4</th>\n",
       "      <td>4</td>\n",
       "      <td>CBL</td>\n",
       "      <td>L399V</td>\n",
       "      <td>4</td>\n",
       "    </tr>\n",
       "  </tbody>\n",
       "</table>\n",
       "</div>"
      ],
      "text/plain": [
       "   ID    Gene             Variation  Class\n",
       "0   0  FAM58A  Truncating Mutations      1\n",
       "1   1     CBL                 W802*      2\n",
       "2   2     CBL                 Q249E      2\n",
       "3   3     CBL                 N454D      3\n",
       "4   4     CBL                 L399V      4"
      ]
     },
     "execution_count": 4,
     "metadata": {},
     "output_type": "execute_result"
    }
   ],
   "source": [
    "training_variants.head()"
   ]
  },
  {
   "cell_type": "code",
   "execution_count": 5,
   "metadata": {},
   "outputs": [
    {
     "data": {
      "text/html": [
       "<div>\n",
       "<style scoped>\n",
       "    .dataframe tbody tr th:only-of-type {\n",
       "        vertical-align: middle;\n",
       "    }\n",
       "\n",
       "    .dataframe tbody tr th {\n",
       "        vertical-align: top;\n",
       "    }\n",
       "\n",
       "    .dataframe thead th {\n",
       "        text-align: right;\n",
       "    }\n",
       "</style>\n",
       "<table border=\"1\" class=\"dataframe\">\n",
       "  <thead>\n",
       "    <tr style=\"text-align: right;\">\n",
       "      <th></th>\n",
       "      <th>ID</th>\n",
       "      <th>Text</th>\n",
       "    </tr>\n",
       "  </thead>\n",
       "  <tbody>\n",
       "    <tr>\n",
       "      <th>0</th>\n",
       "      <td>0</td>\n",
       "      <td>Cyclin-dependent kinases (CDKs) regulate a var...</td>\n",
       "    </tr>\n",
       "    <tr>\n",
       "      <th>1</th>\n",
       "      <td>1</td>\n",
       "      <td>Abstract Background  Non-small cell lung canc...</td>\n",
       "    </tr>\n",
       "    <tr>\n",
       "      <th>2</th>\n",
       "      <td>2</td>\n",
       "      <td>Abstract Background  Non-small cell lung canc...</td>\n",
       "    </tr>\n",
       "    <tr>\n",
       "      <th>3</th>\n",
       "      <td>3</td>\n",
       "      <td>Recent evidence has demonstrated that acquired...</td>\n",
       "    </tr>\n",
       "    <tr>\n",
       "      <th>4</th>\n",
       "      <td>4</td>\n",
       "      <td>Oncogenic mutations in the monomeric Casitas B...</td>\n",
       "    </tr>\n",
       "  </tbody>\n",
       "</table>\n",
       "</div>"
      ],
      "text/plain": [
       "   ID                                               Text\n",
       "0   0  Cyclin-dependent kinases (CDKs) regulate a var...\n",
       "1   1   Abstract Background  Non-small cell lung canc...\n",
       "2   2   Abstract Background  Non-small cell lung canc...\n",
       "3   3  Recent evidence has demonstrated that acquired...\n",
       "4   4  Oncogenic mutations in the monomeric Casitas B..."
      ]
     },
     "execution_count": 5,
     "metadata": {},
     "output_type": "execute_result"
    }
   ],
   "source": [
    "training_text.head()"
   ]
  },
  {
   "cell_type": "code",
   "execution_count": 6,
   "metadata": {},
   "outputs": [],
   "source": [
    "sample_submission=pd.read_csv('stage2_sample_submission.csv')"
   ]
  },
  {
   "cell_type": "code",
   "execution_count": 7,
   "metadata": {},
   "outputs": [
    {
     "data": {
      "text/html": [
       "<div>\n",
       "<style scoped>\n",
       "    .dataframe tbody tr th:only-of-type {\n",
       "        vertical-align: middle;\n",
       "    }\n",
       "\n",
       "    .dataframe tbody tr th {\n",
       "        vertical-align: top;\n",
       "    }\n",
       "\n",
       "    .dataframe thead th {\n",
       "        text-align: right;\n",
       "    }\n",
       "</style>\n",
       "<table border=\"1\" class=\"dataframe\">\n",
       "  <thead>\n",
       "    <tr style=\"text-align: right;\">\n",
       "      <th></th>\n",
       "      <th>ID</th>\n",
       "      <th>class1</th>\n",
       "      <th>class2</th>\n",
       "      <th>class3</th>\n",
       "      <th>class4</th>\n",
       "      <th>class5</th>\n",
       "      <th>class6</th>\n",
       "      <th>class7</th>\n",
       "      <th>class8</th>\n",
       "      <th>class9</th>\n",
       "    </tr>\n",
       "  </thead>\n",
       "  <tbody>\n",
       "    <tr>\n",
       "      <th>0</th>\n",
       "      <td>1</td>\n",
       "      <td>0</td>\n",
       "      <td>0</td>\n",
       "      <td>0</td>\n",
       "      <td>0</td>\n",
       "      <td>0</td>\n",
       "      <td>0</td>\n",
       "      <td>0</td>\n",
       "      <td>0</td>\n",
       "      <td>0</td>\n",
       "    </tr>\n",
       "    <tr>\n",
       "      <th>1</th>\n",
       "      <td>2</td>\n",
       "      <td>0</td>\n",
       "      <td>0</td>\n",
       "      <td>0</td>\n",
       "      <td>0</td>\n",
       "      <td>0</td>\n",
       "      <td>0</td>\n",
       "      <td>0</td>\n",
       "      <td>0</td>\n",
       "      <td>0</td>\n",
       "    </tr>\n",
       "    <tr>\n",
       "      <th>2</th>\n",
       "      <td>3</td>\n",
       "      <td>0</td>\n",
       "      <td>0</td>\n",
       "      <td>0</td>\n",
       "      <td>0</td>\n",
       "      <td>0</td>\n",
       "      <td>0</td>\n",
       "      <td>0</td>\n",
       "      <td>0</td>\n",
       "      <td>0</td>\n",
       "    </tr>\n",
       "    <tr>\n",
       "      <th>3</th>\n",
       "      <td>4</td>\n",
       "      <td>0</td>\n",
       "      <td>0</td>\n",
       "      <td>0</td>\n",
       "      <td>0</td>\n",
       "      <td>0</td>\n",
       "      <td>0</td>\n",
       "      <td>0</td>\n",
       "      <td>0</td>\n",
       "      <td>0</td>\n",
       "    </tr>\n",
       "    <tr>\n",
       "      <th>4</th>\n",
       "      <td>5</td>\n",
       "      <td>0</td>\n",
       "      <td>0</td>\n",
       "      <td>0</td>\n",
       "      <td>0</td>\n",
       "      <td>0</td>\n",
       "      <td>0</td>\n",
       "      <td>0</td>\n",
       "      <td>0</td>\n",
       "      <td>0</td>\n",
       "    </tr>\n",
       "  </tbody>\n",
       "</table>\n",
       "</div>"
      ],
      "text/plain": [
       "   ID  class1  class2  class3  class4  class5  class6  class7  class8  class9\n",
       "0   1       0       0       0       0       0       0       0       0       0\n",
       "1   2       0       0       0       0       0       0       0       0       0\n",
       "2   3       0       0       0       0       0       0       0       0       0\n",
       "3   4       0       0       0       0       0       0       0       0       0\n",
       "4   5       0       0       0       0       0       0       0       0       0"
      ]
     },
     "execution_count": 7,
     "metadata": {},
     "output_type": "execute_result"
    }
   ],
   "source": [
    "sample_submission.head()"
   ]
  },
  {
   "cell_type": "code",
   "execution_count": 8,
   "metadata": {},
   "outputs": [
    {
     "name": "stdout",
     "output_type": "stream",
     "text": [
      "9\n"
     ]
    }
   ],
   "source": [
    "classes=sample_submission.shape[1]-1\n",
    "print(classes)"
   ]
  },
  {
   "cell_type": "markdown",
   "metadata": {},
   "source": [
    "### Create random classification probabilities to establish baseline max. MULTICLASS LOG-LOSS metric"
   ]
  },
  {
   "cell_type": "code",
   "execution_count": 9,
   "metadata": {},
   "outputs": [
    {
     "name": "stdout",
     "output_type": "stream",
     "text": [
      "[0.82887037 0.55054247 0.13597265 0.8751015  0.12468699 0.7349898\n",
      " 0.14392034 0.56654376 0.14812853]\n",
      "4.108756414791285\n",
      "[0.20173266 0.13399248 0.03309338 0.21298452 0.03034665 0.17888376\n",
      " 0.03502771 0.13788692 0.03605191]\n",
      "1.0\n",
      "1.0\n"
     ]
    }
   ],
   "source": [
    "#test code for creating array of probabilities that add up to 1.0\n",
    "a=np.random.rand(9)\n",
    "print(a)\n",
    "print(a.sum())\n",
    "a=a/a.sum()\n",
    "print(a)\n",
    "b=a.sum()\n",
    "print(b)\n",
    "if b>1.0:\n",
    "    a[0]=a[0]-(b-1.0) #correct for numerical error in sum\n",
    "print(a.sum())"
   ]
  },
  {
   "cell_type": "code",
   "execution_count": 10,
   "metadata": {},
   "outputs": [
    {
     "data": {
      "text/plain": [
       "(3321, 9)"
      ]
     },
     "execution_count": 10,
     "metadata": {},
     "output_type": "execute_result"
    }
   ],
   "source": [
    "random_classification_probabilities=np.zeros((training_variants.shape[0],classes))\n",
    "random_classification_probabilities.shape"
   ]
  },
  {
   "cell_type": "code",
   "execution_count": 11,
   "metadata": {},
   "outputs": [
    {
     "data": {
      "text/plain": [
       "(3321, 9)"
      ]
     },
     "execution_count": 11,
     "metadata": {},
     "output_type": "execute_result"
    }
   ],
   "source": [
    "for i in range(random_classification_probabilities.shape[0]):\n",
    "    a=np.random.rand(classes)\n",
    "    a=a/a.sum()\n",
    "    b=a.sum()\n",
    "    if b>1.0:\n",
    "        a[0]=a[0]-(b-1.0) #correct for numerical error in sum\n",
    "    random_classification_probabilities[i]=a\n",
    "random_classification_probabilities.shape"
   ]
  },
  {
   "cell_type": "code",
   "execution_count": 12,
   "metadata": {},
   "outputs": [
    {
     "data": {
      "text/plain": [
       "array([[0.01243347, 0.19548559, 0.0568395 , 0.05804933, 0.05203745,\n",
       "        0.26321927, 0.22396116, 0.12799843, 0.00997581],\n",
       "       [0.10506636, 0.17613128, 0.0290379 , 0.17258963, 0.15490925,\n",
       "        0.10102236, 0.09848294, 0.1018825 , 0.06087778],\n",
       "       [0.10435634, 0.13604905, 0.02340455, 0.09642764, 0.18957841,\n",
       "        0.1674571 , 0.07039953, 0.20424651, 0.00808087],\n",
       "       [0.14735177, 0.14310519, 0.05020079, 0.09891393, 0.13941441,\n",
       "        0.07184641, 0.10559425, 0.05857719, 0.18499607],\n",
       "       [0.08453184, 0.08432344, 0.09921862, 0.09989717, 0.16039868,\n",
       "        0.15546076, 0.06451697, 0.14867312, 0.10297939]])"
      ]
     },
     "execution_count": 12,
     "metadata": {},
     "output_type": "execute_result"
    }
   ],
   "source": [
    "random_classification_probabilities[:5,:]"
   ]
  },
  {
   "cell_type": "code",
   "execution_count": 13,
   "metadata": {},
   "outputs": [
    {
     "data": {
      "text/plain": [
       "array([1, 2, 2, ..., 1, 4, 4], dtype=int64)"
      ]
     },
     "execution_count": 13,
     "metadata": {},
     "output_type": "execute_result"
    }
   ],
   "source": [
    "y_true=training_variants.Class.values #convert Series to array\n",
    "y_true"
   ]
  },
  {
   "cell_type": "code",
   "execution_count": 14,
   "metadata": {},
   "outputs": [],
   "source": [
    "random_multiclass_log_loss=log_loss(y_true,random_classification_probabilities,labels=[1,2,3,4,5,6,7,8,9])"
   ]
  },
  {
   "cell_type": "code",
   "execution_count": 15,
   "metadata": {},
   "outputs": [
    {
     "data": {
      "text/markdown": [
       ">Baseline worst-case (random) multi-class log-loss: 2.496368"
      ],
      "text/plain": [
       "<IPython.core.display.Markdown object>"
      ]
     },
     "execution_count": 15,
     "metadata": {},
     "output_type": "execute_result"
    }
   ],
   "source": [
    "md(\">Baseline worst-case (random) multi-class log-loss: {}\".format(round(random_multiclass_log_loss,6)))"
   ]
  },
  {
   "cell_type": "code",
   "execution_count": 16,
   "metadata": {},
   "outputs": [],
   "source": [
    "#merge both training dataframes\n",
    "training_full=training_variants.merge(training_text, on='ID', how='inner')"
   ]
  },
  {
   "cell_type": "code",
   "execution_count": 17,
   "metadata": {},
   "outputs": [
    {
     "data": {
      "text/html": [
       "<div>\n",
       "<style scoped>\n",
       "    .dataframe tbody tr th:only-of-type {\n",
       "        vertical-align: middle;\n",
       "    }\n",
       "\n",
       "    .dataframe tbody tr th {\n",
       "        vertical-align: top;\n",
       "    }\n",
       "\n",
       "    .dataframe thead th {\n",
       "        text-align: right;\n",
       "    }\n",
       "</style>\n",
       "<table border=\"1\" class=\"dataframe\">\n",
       "  <thead>\n",
       "    <tr style=\"text-align: right;\">\n",
       "      <th></th>\n",
       "      <th>ID</th>\n",
       "      <th>Gene</th>\n",
       "      <th>Variation</th>\n",
       "      <th>Class</th>\n",
       "      <th>Text</th>\n",
       "    </tr>\n",
       "  </thead>\n",
       "  <tbody>\n",
       "    <tr>\n",
       "      <th>0</th>\n",
       "      <td>0</td>\n",
       "      <td>FAM58A</td>\n",
       "      <td>Truncating Mutations</td>\n",
       "      <td>1</td>\n",
       "      <td>Cyclin-dependent kinases (CDKs) regulate a var...</td>\n",
       "    </tr>\n",
       "    <tr>\n",
       "      <th>1</th>\n",
       "      <td>1</td>\n",
       "      <td>CBL</td>\n",
       "      <td>W802*</td>\n",
       "      <td>2</td>\n",
       "      <td>Abstract Background  Non-small cell lung canc...</td>\n",
       "    </tr>\n",
       "    <tr>\n",
       "      <th>2</th>\n",
       "      <td>2</td>\n",
       "      <td>CBL</td>\n",
       "      <td>Q249E</td>\n",
       "      <td>2</td>\n",
       "      <td>Abstract Background  Non-small cell lung canc...</td>\n",
       "    </tr>\n",
       "    <tr>\n",
       "      <th>3</th>\n",
       "      <td>3</td>\n",
       "      <td>CBL</td>\n",
       "      <td>N454D</td>\n",
       "      <td>3</td>\n",
       "      <td>Recent evidence has demonstrated that acquired...</td>\n",
       "    </tr>\n",
       "    <tr>\n",
       "      <th>4</th>\n",
       "      <td>4</td>\n",
       "      <td>CBL</td>\n",
       "      <td>L399V</td>\n",
       "      <td>4</td>\n",
       "      <td>Oncogenic mutations in the monomeric Casitas B...</td>\n",
       "    </tr>\n",
       "  </tbody>\n",
       "</table>\n",
       "</div>"
      ],
      "text/plain": [
       "   ID    Gene             Variation  Class  \\\n",
       "0   0  FAM58A  Truncating Mutations      1   \n",
       "1   1     CBL                 W802*      2   \n",
       "2   2     CBL                 Q249E      2   \n",
       "3   3     CBL                 N454D      3   \n",
       "4   4     CBL                 L399V      4   \n",
       "\n",
       "                                                Text  \n",
       "0  Cyclin-dependent kinases (CDKs) regulate a var...  \n",
       "1   Abstract Background  Non-small cell lung canc...  \n",
       "2   Abstract Background  Non-small cell lung canc...  \n",
       "3  Recent evidence has demonstrated that acquired...  \n",
       "4  Oncogenic mutations in the monomeric Casitas B...  "
      ]
     },
     "execution_count": 17,
     "metadata": {},
     "output_type": "execute_result"
    }
   ],
   "source": [
    "training_full.head()"
   ]
  },
  {
   "cell_type": "code",
   "execution_count": 18,
   "metadata": {},
   "outputs": [
    {
     "data": {
      "text/html": [
       "<div>\n",
       "<style scoped>\n",
       "    .dataframe tbody tr th:only-of-type {\n",
       "        vertical-align: middle;\n",
       "    }\n",
       "\n",
       "    .dataframe tbody tr th {\n",
       "        vertical-align: top;\n",
       "    }\n",
       "\n",
       "    .dataframe thead th {\n",
       "        text-align: right;\n",
       "    }\n",
       "</style>\n",
       "<table border=\"1\" class=\"dataframe\">\n",
       "  <thead>\n",
       "    <tr style=\"text-align: right;\">\n",
       "      <th></th>\n",
       "      <th>ID</th>\n",
       "      <th>Gene</th>\n",
       "      <th>Variation</th>\n",
       "      <th>Class</th>\n",
       "      <th>Text</th>\n",
       "    </tr>\n",
       "  </thead>\n",
       "  <tbody>\n",
       "    <tr>\n",
       "      <th>3316</th>\n",
       "      <td>3316</td>\n",
       "      <td>RUNX1</td>\n",
       "      <td>D171N</td>\n",
       "      <td>4</td>\n",
       "      <td>Introduction  Myelodysplastic syndromes (MDS) ...</td>\n",
       "    </tr>\n",
       "    <tr>\n",
       "      <th>3317</th>\n",
       "      <td>3317</td>\n",
       "      <td>RUNX1</td>\n",
       "      <td>A122*</td>\n",
       "      <td>1</td>\n",
       "      <td>Introduction  Myelodysplastic syndromes (MDS) ...</td>\n",
       "    </tr>\n",
       "    <tr>\n",
       "      <th>3318</th>\n",
       "      <td>3318</td>\n",
       "      <td>RUNX1</td>\n",
       "      <td>Fusions</td>\n",
       "      <td>1</td>\n",
       "      <td>The Runt-related transcription factor 1 gene (...</td>\n",
       "    </tr>\n",
       "    <tr>\n",
       "      <th>3319</th>\n",
       "      <td>3319</td>\n",
       "      <td>RUNX1</td>\n",
       "      <td>R80C</td>\n",
       "      <td>4</td>\n",
       "      <td>The RUNX1/AML1 gene is the most frequent targe...</td>\n",
       "    </tr>\n",
       "    <tr>\n",
       "      <th>3320</th>\n",
       "      <td>3320</td>\n",
       "      <td>RUNX1</td>\n",
       "      <td>K83E</td>\n",
       "      <td>4</td>\n",
       "      <td>The most frequent mutations associated with le...</td>\n",
       "    </tr>\n",
       "  </tbody>\n",
       "</table>\n",
       "</div>"
      ],
      "text/plain": [
       "        ID   Gene Variation  Class  \\\n",
       "3316  3316  RUNX1     D171N      4   \n",
       "3317  3317  RUNX1     A122*      1   \n",
       "3318  3318  RUNX1   Fusions      1   \n",
       "3319  3319  RUNX1      R80C      4   \n",
       "3320  3320  RUNX1      K83E      4   \n",
       "\n",
       "                                                   Text  \n",
       "3316  Introduction  Myelodysplastic syndromes (MDS) ...  \n",
       "3317  Introduction  Myelodysplastic syndromes (MDS) ...  \n",
       "3318  The Runt-related transcription factor 1 gene (...  \n",
       "3319  The RUNX1/AML1 gene is the most frequent targe...  \n",
       "3320  The most frequent mutations associated with le...  "
      ]
     },
     "execution_count": 18,
     "metadata": {},
     "output_type": "execute_result"
    }
   ],
   "source": [
    "training_full.tail()"
   ]
  },
  {
   "cell_type": "code",
   "execution_count": 19,
   "metadata": {},
   "outputs": [
    {
     "name": "stdout",
     "output_type": "stream",
     "text": [
      "<class 'pandas.core.frame.DataFrame'>\n",
      "Int64Index: 3321 entries, 0 to 3320\n",
      "Data columns (total 5 columns):\n",
      "ID           3321 non-null int64\n",
      "Gene         3321 non-null object\n",
      "Variation    3321 non-null object\n",
      "Class        3321 non-null int64\n",
      "Text         3316 non-null object\n",
      "dtypes: int64(2), object(3)\n",
      "memory usage: 155.7+ KB\n"
     ]
    }
   ],
   "source": [
    "training_full.info()"
   ]
  },
  {
   "cell_type": "code",
   "execution_count": 20,
   "metadata": {},
   "outputs": [
    {
     "data": {
      "text/html": [
       "<div>\n",
       "<style scoped>\n",
       "    .dataframe tbody tr th:only-of-type {\n",
       "        vertical-align: middle;\n",
       "    }\n",
       "\n",
       "    .dataframe tbody tr th {\n",
       "        vertical-align: top;\n",
       "    }\n",
       "\n",
       "    .dataframe thead th {\n",
       "        text-align: right;\n",
       "    }\n",
       "</style>\n",
       "<table border=\"1\" class=\"dataframe\">\n",
       "  <thead>\n",
       "    <tr style=\"text-align: right;\">\n",
       "      <th></th>\n",
       "      <th>ID</th>\n",
       "      <th>Gene</th>\n",
       "      <th>Variation</th>\n",
       "      <th>Class</th>\n",
       "      <th>Text</th>\n",
       "    </tr>\n",
       "  </thead>\n",
       "  <tbody>\n",
       "    <tr>\n",
       "      <th>1109</th>\n",
       "      <td>1109</td>\n",
       "      <td>FANCA</td>\n",
       "      <td>S1088F</td>\n",
       "      <td>1</td>\n",
       "      <td>NaN</td>\n",
       "    </tr>\n",
       "    <tr>\n",
       "      <th>1277</th>\n",
       "      <td>1277</td>\n",
       "      <td>ARID5B</td>\n",
       "      <td>Truncating Mutations</td>\n",
       "      <td>1</td>\n",
       "      <td>NaN</td>\n",
       "    </tr>\n",
       "    <tr>\n",
       "      <th>1407</th>\n",
       "      <td>1407</td>\n",
       "      <td>FGFR3</td>\n",
       "      <td>K508M</td>\n",
       "      <td>6</td>\n",
       "      <td>NaN</td>\n",
       "    </tr>\n",
       "    <tr>\n",
       "      <th>1639</th>\n",
       "      <td>1639</td>\n",
       "      <td>FLT1</td>\n",
       "      <td>Amplification</td>\n",
       "      <td>6</td>\n",
       "      <td>NaN</td>\n",
       "    </tr>\n",
       "    <tr>\n",
       "      <th>2755</th>\n",
       "      <td>2755</td>\n",
       "      <td>BRAF</td>\n",
       "      <td>G596C</td>\n",
       "      <td>7</td>\n",
       "      <td>NaN</td>\n",
       "    </tr>\n",
       "  </tbody>\n",
       "</table>\n",
       "</div>"
      ],
      "text/plain": [
       "        ID    Gene             Variation  Class Text\n",
       "1109  1109   FANCA                S1088F      1  NaN\n",
       "1277  1277  ARID5B  Truncating Mutations      1  NaN\n",
       "1407  1407   FGFR3                 K508M      6  NaN\n",
       "1639  1639    FLT1         Amplification      6  NaN\n",
       "2755  2755    BRAF                 G596C      7  NaN"
      ]
     },
     "execution_count": 20,
     "metadata": {},
     "output_type": "execute_result"
    }
   ],
   "source": [
    "#review missing values for 'Text'\n",
    "indices_of_missing_Text=training_full[training_full['Text'].isnull()==True].index\n",
    "training_full.iloc[indices_of_missing_Text]"
   ]
  },
  {
   "cell_type": "code",
   "execution_count": 21,
   "metadata": {},
   "outputs": [],
   "source": [
    "#remove leading and trailing spaces and lower-case 'Gene' and 'Variation' features\n",
    "training_full['Gene']=training_full['Gene'].apply(lambda x: x.strip())\n",
    "training_full['Gene']=training_full['Gene'].apply(lambda x: x.lower())\n",
    "training_full['Variation']=training_full['Variation'].apply(lambda x: x.strip())\n",
    "training_full['Variation']=training_full['Variation'].apply(lambda x: x.lower())"
   ]
  },
  {
   "cell_type": "code",
   "execution_count": 22,
   "metadata": {},
   "outputs": [
    {
     "data": {
      "text/html": [
       "<div>\n",
       "<style scoped>\n",
       "    .dataframe tbody tr th:only-of-type {\n",
       "        vertical-align: middle;\n",
       "    }\n",
       "\n",
       "    .dataframe tbody tr th {\n",
       "        vertical-align: top;\n",
       "    }\n",
       "\n",
       "    .dataframe thead th {\n",
       "        text-align: right;\n",
       "    }\n",
       "</style>\n",
       "<table border=\"1\" class=\"dataframe\">\n",
       "  <thead>\n",
       "    <tr style=\"text-align: right;\">\n",
       "      <th></th>\n",
       "      <th>ID</th>\n",
       "      <th>Gene</th>\n",
       "      <th>Variation</th>\n",
       "      <th>Class</th>\n",
       "      <th>Text</th>\n",
       "    </tr>\n",
       "  </thead>\n",
       "  <tbody>\n",
       "    <tr>\n",
       "      <th>1109</th>\n",
       "      <td>1109</td>\n",
       "      <td>fanca</td>\n",
       "      <td>s1088f</td>\n",
       "      <td>1</td>\n",
       "      <td>fanca s1088f</td>\n",
       "    </tr>\n",
       "    <tr>\n",
       "      <th>1277</th>\n",
       "      <td>1277</td>\n",
       "      <td>arid5b</td>\n",
       "      <td>truncating mutations</td>\n",
       "      <td>1</td>\n",
       "      <td>arid5b truncating mutations</td>\n",
       "    </tr>\n",
       "    <tr>\n",
       "      <th>1407</th>\n",
       "      <td>1407</td>\n",
       "      <td>fgfr3</td>\n",
       "      <td>k508m</td>\n",
       "      <td>6</td>\n",
       "      <td>fgfr3 k508m</td>\n",
       "    </tr>\n",
       "    <tr>\n",
       "      <th>1639</th>\n",
       "      <td>1639</td>\n",
       "      <td>flt1</td>\n",
       "      <td>amplification</td>\n",
       "      <td>6</td>\n",
       "      <td>flt1 amplification</td>\n",
       "    </tr>\n",
       "    <tr>\n",
       "      <th>2755</th>\n",
       "      <td>2755</td>\n",
       "      <td>braf</td>\n",
       "      <td>g596c</td>\n",
       "      <td>7</td>\n",
       "      <td>braf g596c</td>\n",
       "    </tr>\n",
       "  </tbody>\n",
       "</table>\n",
       "</div>"
      ],
      "text/plain": [
       "        ID    Gene             Variation  Class                         Text\n",
       "1109  1109   fanca                s1088f      1                 fanca s1088f\n",
       "1277  1277  arid5b  truncating mutations      1  arid5b truncating mutations\n",
       "1407  1407   fgfr3                 k508m      6                  fgfr3 k508m\n",
       "1639  1639    flt1         amplification      6           flt1 amplification\n",
       "2755  2755    braf                 g596c      7                   braf g596c"
      ]
     },
     "execution_count": 22,
     "metadata": {},
     "output_type": "execute_result"
    }
   ],
   "source": [
    "#impute missing value for 'Text', by combining its corresponding 'Gene', 'Variation' features (separated by one white space)\n",
    "training_full.Text.fillna((training_full.Gene+' '+training_full.Variation),inplace=True)\n",
    "training_full.iloc[indices_of_missing_Text]"
   ]
  },
  {
   "cell_type": "code",
   "execution_count": 23,
   "metadata": {},
   "outputs": [
    {
     "data": {
      "text/plain": [
       "brca1     264\n",
       "tp53      163\n",
       "egfr      141\n",
       "pten      126\n",
       "brca2     125\n",
       "         ... \n",
       "arid5b      1\n",
       "cebpa       1\n",
       "rad51b      1\n",
       "kdm5a       1\n",
       "rybp        1\n",
       "Name: Gene, Length: 264, dtype: int64"
      ]
     },
     "execution_count": 23,
     "metadata": {},
     "output_type": "execute_result"
    }
   ],
   "source": [
    "pd.value_counts(training_full.Gene)"
   ]
  },
  {
   "cell_type": "code",
   "execution_count": 24,
   "metadata": {},
   "outputs": [
    {
     "data": {
      "text/plain": [
       "truncating mutations    93\n",
       "deletion                74\n",
       "amplification           71\n",
       "fusions                 34\n",
       "overexpression           6\n",
       "                        ..\n",
       "v1804d                   1\n",
       "l265p                    1\n",
       "g118d                    1\n",
       "r812a                    1\n",
       "m1652t                   1\n",
       "Name: Variation, Length: 2996, dtype: int64"
      ]
     },
     "execution_count": 24,
     "metadata": {},
     "output_type": "execute_result"
    }
   ],
   "source": [
    "pd.value_counts(training_full.Variation)"
   ]
  },
  {
   "cell_type": "code",
   "execution_count": 25,
   "metadata": {},
   "outputs": [
    {
     "data": {
      "text/plain": [
       "7    953\n",
       "4    686\n",
       "1    568\n",
       "2    452\n",
       "6    275\n",
       "5    242\n",
       "3     89\n",
       "9     37\n",
       "8     19\n",
       "Name: Class, dtype: int64"
      ]
     },
     "execution_count": 25,
     "metadata": {},
     "output_type": "execute_result"
    }
   ],
   "source": [
    "pd.value_counts(training_full.Class)"
   ]
  },
  {
   "cell_type": "code",
   "execution_count": 26,
   "metadata": {},
   "outputs": [
    {
     "data": {
      "text/plain": [
       "Text(0.5, 1.0, 'Class counts in full training data')"
      ]
     },
     "execution_count": 26,
     "metadata": {},
     "output_type": "execute_result"
    },
    {
     "data": {
      "image/png": "[encoded data removed]",
      "text/plain": [
       "<Figure size 720x288 with 1 Axes>"
      ]
     },
     "metadata": {
      "needs_background": "light"
     },
     "output_type": "display_data"
    }
   ],
   "source": [
    "plt.figure(figsize=(10,4))\n",
    "unique_classes, classes_array = np.unique(training_full['Class'],return_inverse=True)\n",
    "counts = np.bincount(classes_array)\n",
    "plt.bar(unique_classes,counts,width=0.9)\n",
    "plt.xticks(unique_classes)\n",
    "plt.xlabel('Class')\n",
    "plt.ylabel('Counts (training_full)')\n",
    "plt.title('Class counts in full training data')"
   ]
  },
  {
   "cell_type": "markdown",
   "metadata": {},
   "source": [
    "#### Comment: This shows an IMBALANCED training set, which we may attempt to address via 'over-sampling' technique - 'under-sampling' is not an option in this case, since the training dataset is too small (<~10K)."
   ]
  },
  {
   "cell_type": "code",
   "execution_count": 27,
   "metadata": {},
   "outputs": [],
   "source": [
    "# upon inspection, 'Variation' and 'Text' features will be cleaned-up in a similar way"
   ]
  },
  {
   "cell_type": "code",
   "execution_count": 28,
   "metadata": {},
   "outputs": [],
   "source": [
    "# text preprocessor cleanup code, prior to applying the tensorflow Tokenizer\n",
    "\n",
    "def text_preprocessor_tokenizer(text):\n",
    "    # remove leading & trailing white spaces\n",
    "    text=text.strip()\n",
    "    \n",
    "    # remove all HTML markup\n",
    "    text = re.sub('<[^>]*>', '', text)\n",
    "    \n",
    "    # find and store emoticons\n",
    "    emoticons = re.findall('(?::|;|=)(?:-)?(?:\\)|\\(|D|P)', text)\n",
    "\n",
    "    # remove non-word characters\n",
    "    # convert text to lower-case\n",
    "    # also want to replace '_' with ' ', per inspections of 'Variation' & 'Text' features\n",
    "    # add back emoticons at the end of string, remove \"nose\"='-' of emoticons\n",
    "    text = re.sub('[\\W]+', ' ', text.lower()).replace('_',' ') + ' '.join(emoticons).replace('-', '')\n",
    "    \n",
    "    # correction for if emoticon is first/last term\n",
    "    text = text.strip()\n",
    "    \n",
    "    return text"
   ]
  },
  {
   "cell_type": "code",
   "execution_count": 29,
   "metadata": {},
   "outputs": [
    {
     "data": {
      "text/plain": [
       "'this is a test 123 xyz abc123 def4 5ghi6 789 jkl0 ;) ;) :( :) ;)'"
      ]
     },
     "execution_count": 29,
     "metadata": {},
     "output_type": "execute_result"
    }
   ],
   "source": [
    "# test text_preprocessor_tokenizer function\n",
    "text_preprocessor_tokenizer(\" ;) </a>This ;) is :( a test :-)! 123 XyZ AbC123* dEf4-5GhI6 789_JkL0 ;) \")\n",
    "#text_preprocessor_tokenizer(\" </a>This is a test! 123 XyZ AbC123* dEf4-5GhI6 789_JkL0 \")"
   ]
  },
  {
   "cell_type": "code",
   "execution_count": 30,
   "metadata": {},
   "outputs": [],
   "source": [
    "# clean up text data on BOTH 'Variation' and 'Text' features, prior to applying the tensorflow Tokenizer\n",
    "training_full['Variation'] = training_full['Variation'].apply(text_preprocessor_tokenizer)\n",
    "training_full['Text'] = training_full['Text'].apply(text_preprocessor_tokenizer)"
   ]
  },
  {
   "cell_type": "code",
   "execution_count": 31,
   "metadata": {},
   "outputs": [
    {
     "data": {
      "text/html": [
       "<div>\n",
       "<style scoped>\n",
       "    .dataframe tbody tr th:only-of-type {\n",
       "        vertical-align: middle;\n",
       "    }\n",
       "\n",
       "    .dataframe tbody tr th {\n",
       "        vertical-align: top;\n",
       "    }\n",
       "\n",
       "    .dataframe thead th {\n",
       "        text-align: right;\n",
       "    }\n",
       "</style>\n",
       "<table border=\"1\" class=\"dataframe\">\n",
       "  <thead>\n",
       "    <tr style=\"text-align: right;\">\n",
       "      <th></th>\n",
       "      <th>ID</th>\n",
       "      <th>Gene</th>\n",
       "      <th>Variation</th>\n",
       "      <th>Class</th>\n",
       "      <th>Text</th>\n",
       "    </tr>\n",
       "  </thead>\n",
       "  <tbody>\n",
       "    <tr>\n",
       "      <th>0</th>\n",
       "      <td>0</td>\n",
       "      <td>fam58a</td>\n",
       "      <td>truncating mutations</td>\n",
       "      <td>1</td>\n",
       "      <td>cyclin dependent kinases cdks regulate a varie...</td>\n",
       "    </tr>\n",
       "    <tr>\n",
       "      <th>1</th>\n",
       "      <td>1</td>\n",
       "      <td>cbl</td>\n",
       "      <td>w802</td>\n",
       "      <td>2</td>\n",
       "      <td>abstract background non small cell lung cancer...</td>\n",
       "    </tr>\n",
       "    <tr>\n",
       "      <th>2</th>\n",
       "      <td>2</td>\n",
       "      <td>cbl</td>\n",
       "      <td>q249e</td>\n",
       "      <td>2</td>\n",
       "      <td>abstract background non small cell lung cancer...</td>\n",
       "    </tr>\n",
       "    <tr>\n",
       "      <th>3</th>\n",
       "      <td>3</td>\n",
       "      <td>cbl</td>\n",
       "      <td>n454d</td>\n",
       "      <td>3</td>\n",
       "      <td>recent evidence has demonstrated that acquired...</td>\n",
       "    </tr>\n",
       "    <tr>\n",
       "      <th>4</th>\n",
       "      <td>4</td>\n",
       "      <td>cbl</td>\n",
       "      <td>l399v</td>\n",
       "      <td>4</td>\n",
       "      <td>oncogenic mutations in the monomeric casitas b...</td>\n",
       "    </tr>\n",
       "  </tbody>\n",
       "</table>\n",
       "</div>"
      ],
      "text/plain": [
       "   ID    Gene             Variation  Class  \\\n",
       "0   0  fam58a  truncating mutations      1   \n",
       "1   1     cbl                  w802      2   \n",
       "2   2     cbl                 q249e      2   \n",
       "3   3     cbl                 n454d      3   \n",
       "4   4     cbl                 l399v      4   \n",
       "\n",
       "                                                Text  \n",
       "0  cyclin dependent kinases cdks regulate a varie...  \n",
       "1  abstract background non small cell lung cancer...  \n",
       "2  abstract background non small cell lung cancer...  \n",
       "3  recent evidence has demonstrated that acquired...  \n",
       "4  oncogenic mutations in the monomeric casitas b...  "
      ]
     },
     "execution_count": 31,
     "metadata": {},
     "output_type": "execute_result"
    }
   ],
   "source": [
    "training_full.head()"
   ]
  },
  {
   "cell_type": "code",
   "execution_count": 32,
   "metadata": {},
   "outputs": [
    {
     "data": {
      "text/html": [
       "<div>\n",
       "<style scoped>\n",
       "    .dataframe tbody tr th:only-of-type {\n",
       "        vertical-align: middle;\n",
       "    }\n",
       "\n",
       "    .dataframe tbody tr th {\n",
       "        vertical-align: top;\n",
       "    }\n",
       "\n",
       "    .dataframe thead th {\n",
       "        text-align: right;\n",
       "    }\n",
       "</style>\n",
       "<table border=\"1\" class=\"dataframe\">\n",
       "  <thead>\n",
       "    <tr style=\"text-align: right;\">\n",
       "      <th></th>\n",
       "      <th>ID</th>\n",
       "      <th>Gene</th>\n",
       "      <th>Variation</th>\n",
       "      <th>Class</th>\n",
       "      <th>Text</th>\n",
       "    </tr>\n",
       "  </thead>\n",
       "  <tbody>\n",
       "    <tr>\n",
       "      <th>3316</th>\n",
       "      <td>3316</td>\n",
       "      <td>runx1</td>\n",
       "      <td>d171n</td>\n",
       "      <td>4</td>\n",
       "      <td>introduction myelodysplastic syndromes mds are...</td>\n",
       "    </tr>\n",
       "    <tr>\n",
       "      <th>3317</th>\n",
       "      <td>3317</td>\n",
       "      <td>runx1</td>\n",
       "      <td>a122</td>\n",
       "      <td>1</td>\n",
       "      <td>introduction myelodysplastic syndromes mds are...</td>\n",
       "    </tr>\n",
       "    <tr>\n",
       "      <th>3318</th>\n",
       "      <td>3318</td>\n",
       "      <td>runx1</td>\n",
       "      <td>fusions</td>\n",
       "      <td>1</td>\n",
       "      <td>the runt related transcription factor 1 gene r...</td>\n",
       "    </tr>\n",
       "    <tr>\n",
       "      <th>3319</th>\n",
       "      <td>3319</td>\n",
       "      <td>runx1</td>\n",
       "      <td>r80c</td>\n",
       "      <td>4</td>\n",
       "      <td>the runx1 aml1 gene is the most frequent targe...</td>\n",
       "    </tr>\n",
       "    <tr>\n",
       "      <th>3320</th>\n",
       "      <td>3320</td>\n",
       "      <td>runx1</td>\n",
       "      <td>k83e</td>\n",
       "      <td>4</td>\n",
       "      <td>the most frequent mutations associated with le...</td>\n",
       "    </tr>\n",
       "  </tbody>\n",
       "</table>\n",
       "</div>"
      ],
      "text/plain": [
       "        ID   Gene Variation  Class  \\\n",
       "3316  3316  runx1     d171n      4   \n",
       "3317  3317  runx1      a122      1   \n",
       "3318  3318  runx1   fusions      1   \n",
       "3319  3319  runx1      r80c      4   \n",
       "3320  3320  runx1      k83e      4   \n",
       "\n",
       "                                                   Text  \n",
       "3316  introduction myelodysplastic syndromes mds are...  \n",
       "3317  introduction myelodysplastic syndromes mds are...  \n",
       "3318  the runt related transcription factor 1 gene r...  \n",
       "3319  the runx1 aml1 gene is the most frequent targe...  \n",
       "3320  the most frequent mutations associated with le...  "
      ]
     },
     "execution_count": 32,
     "metadata": {},
     "output_type": "execute_result"
    }
   ],
   "source": [
    "training_full.tail()"
   ]
  },
  {
   "cell_type": "markdown",
   "metadata": {},
   "source": [
    "### Pre-process 'Text' by removing \"STOPWORDS\", prior to using the Tensorflow/Keras Tokenizer:"
   ]
  },
  {
   "cell_type": "code",
   "execution_count": 33,
   "metadata": {},
   "outputs": [
    {
     "name": "stdout",
     "output_type": "stream",
     "text": [
      "179\n"
     ]
    }
   ],
   "source": [
    "STOPWORDS = set(stopwords.words('english'))\n",
    "print(len(STOPWORDS))"
   ]
  },
  {
   "cell_type": "code",
   "execution_count": 34,
   "metadata": {},
   "outputs": [],
   "source": [
    "dummy=[]\n",
    "training_full_Text_list=[]\n",
    "\n",
    "for i in range(len(training_full)):\n",
    "    for word in training_full.Text[i].split():\n",
    "        if word not in list(STOPWORDS):\n",
    "            dummy.append(word)\n",
    "    training_full_Text_list.append(dummy)\n",
    "    dummy=[]"
   ]
  },
  {
   "cell_type": "code",
   "execution_count": 35,
   "metadata": {},
   "outputs": [],
   "source": [
    "training_full_Text_str=[]\n",
    "for i in range(len(training_full)):\n",
    "    training_full_Text_str.append(' '.join(training_full_Text_list[i]))"
   ]
  },
  {
   "cell_type": "code",
   "execution_count": 36,
   "metadata": {},
   "outputs": [
    {
     "name": "stdout",
     "output_type": "stream",
     "text": [
      "3321\n",
      "<class 'list'>\n",
      "<class 'str'>\n"
     ]
    }
   ],
   "source": [
    "print(len(training_full_Text_str))\n",
    "print(type(training_full_Text_str))\n",
    "print(type(training_full_Text_str[0]))"
   ]
  },
  {
   "cell_type": "code",
   "execution_count": 37,
   "metadata": {},
   "outputs": [
    {
     "data": {
      "text/plain": [
       "'frequent mutations associated leukemia recurrent somatic chromosomal translocations inversions many involve polyomavirus enhancer binding protein core binding factor transcriptional regulation complex pebp2 cbf several translocations involve î subunit complex runx1 gene also called aml1 cbfî 2 pebp2î b chromosome 21q22 1 8 21 3 21 12 21 additionally î² subunit complex pebp2î² also called cbfî² disrupted inv 16 p13 q22 1 abundance evidence points existence genes predispose hematologic malignancies however large multiple generation families hematologic malignancies alone rare 2 2 loci familial hematologic malignancies identified date 1 chromosome 21q22 13 16q22 4 5 loci contain runx1 andpebp2î² cbfî² respectively studies families demonstrate single gene inheritance leukemia predisposition help identify genes mechanisms involved first steps leukemia development autosomal dominant familial platelet disorder fpd aml acute myelogenous leukemia online mendelian inheritance man 601399 good model validate hypothesis addition developing thrombocytopenia patients show propensity progression myelodysplasia acute myeloid leukemia 6 9 affected individuals within family may present variable clinical severity varying ages fpd aml linked 21q22 1 22 2 3 9 including region contains runx1 germline runx1 mutations subsequently identified 6 pedigrees 10heterozygous missense mutations biallelic nonsense frameshift mutations runx1 also identified sporadic leukemias 11 point mutations characterized patients m0 aml various myeloid malignancies 12 including acquired trisomy tetrasomy chromosome 21 13 missense mutations abolish dna binding transactivation activities runx1 affect heterodimerization pebp2î² cbfî² addition mutant proteins inhibit wild type runx1 cotransfection studies 11 12the evolutionarily conserved 128 amino acid runt domain present runx1 isoforms involved dna binding heterodimerization pebp2î² cbfî² 14 15heterodimerization runx1 pebp2î² cbfî² promotes dna binding stabilizing interaction complex dna 16 17 runx1 point mutations described fpd aml patients10 runx1 point mutations patients sporadic leukemias11 13 within runt domain alter amino acids essential dna binding heterodimerization 18 19 longer runx1 proteins also contain transactivation domain domains involved self regulation protein protein interaction cellular localization 20 runx1 regulates activity several important hematopoietic genes macrophage colony stimulating factor csf receptor 21 cell receptor î î² 22 granulocyte macrophage gm â csf 23myeloperoxidase 24 neutrophil elastase 25by binding core sequence tgt cggt found promoters enhancers proposed haploinsufficiency runx1 responsible fpd aml 10 however hyperactivating inhibitory loss function runx1 point mutations reported sporadic leukemia 11 diversity mechanisms pathogenesis sporadic aml runx1 mutations suggested fpd aml runx1 mutations warranted functional studies describe 3 new runx1 mutations fpd aml potential mechanisms involved pathogenesis disease based vitro studies 7 runx1 fpd aml mutations materials methodssample collection genomic dna isolationour fpd aml pedigrees shown figure1 pedigree 1 extensively described 7 fourteen members family hemorrhagic diathesis characterized long bleeding time abnormal platelet aggregation decreased numbers platelet dense bodies among affected individuals 3 documented cases myeloblastic leukemia 2 documented cases myelomonoblastic leukemia 3 cases leukemia history fig 1 download figureopen new tabdownload powerpointfig 1 fpd aml pedigrees unique study 3 pedigrees show linkage fpd aml locus 21q22 1 22 2 half filled symbols represent individuals bleeding disorder studied platelet defect well completely filled symbols represent affected individuals developed leukemia pedigree 2 previously unreported 8 affected individuals 4 generations clinical history prolonged bleeding constitutional thrombocytopenia found 5 members 3 extensive platelet evaluations documenting aspirinlike aggregation defects dense granule abnormality demonstrable electron microscopic morphology quinacrine fluorescence three individuals developed aml fourth said died â œpernicious anemia â pedigree 3 consists 15 affected individuals 4 generations family bleeding disorder characterized impaired platelet aggregation associated decreased numbers contents platelet dense î granules26 27 well unique platelet phospholipid defect decreased î 2 adrenergic receptors 28 29 platelet counts family slightly lower limit normal 26 27 two members family developed aml another reported died leukemia 29blood samples obtained healthy affected individuals obtaining informed consent accordance institutional guidelines human subjects dna isolated blood leukocytes using standard protocols linkage analysisgenotype information generated polymerase chain reaction pcr amplification chromosome 21 microsatellite markers genome database http www gdb org linkage analysis previously described 4 5 least 7 microsatellite repeat polymorphisms fpd aml critical region chromosome 21q22 1â 3 genotyped family mutation analysesall 9 exons runx1 amplified genomic dna using primers designed flanking region exon single strand conformational polymorphism analysis performed pcr fragments less 400 base pairs using genephor apparatus genegel 12 5 kit amersham pharmacia biotech freiburg germany exons showing conformational changes directly sequenced directions using bigdye terminator cycle sequencing applied biosystems foster city ca analyzed abi377 sequencer rt pcrfirst strand complementary dna cdna synthesized patient individuals iv 2 v 2 pedigree 2 control rna using superscript ii reverse transcriptase pcr performed using primers aml1rtf3 figure 2d primer c 5â ² ctgctccgtgctgcctacgcactg 3â ² exon 3 aml1b amlrtr1 5â ² cgcagctgctccagttcactgagc 3â ² exon 6 reverse primer double stranded cdnas cloned ta vector sequenced cryptic splice site observed one clone primers covering cryptic splice junction exon 4 5 f2amlmf4 figure 2d primer 5â ² taatgacctcagggaaaagcttc 3â ² within nucleotides exon 4 excluded mutant transcript f2amlf1 figure 2d primer b 5â ² tgtcggtcgaagtggaagagg 3â ² designed used aml1rtr1 amplify pcr product patients cdna mutant transcript observed control cdna fig 2 download figureopen new tabdownload powerpointfig 2 mutation analysis fpd aml pedigrees electropherograms affected control individuals showing g substitution leading k83e missense mutation pedigree 1 c substitution resulting nonsense mutation y260x pedigree 3 b deletion 3 position splice donor site intron 4 pedigree 2 ivs4â â 3dela c arrows indicate point mutations schematic representation cryptic splice site within exon 4 used mutated transcript pedigree 2 rt pcrs used analyze splicing b c represent forward primers used rt pcr experiment primer specific mutated form primer b specific wild type form primer c used control reverse primer used reaction 23 nucleotides exon 4 excluded mutant transcript indicated black box e rt pcr patient control rna described panel primer specific mutated form show amplification control rna f sequence analysis mutant exon 4â exon 5 junction electrophoretic mobility shift assayamino acids 24 189 runx1 including runt domain expressed escherichia coli purified subjected electrophoretic mobility shift assay emsa essentially described previously 11 wild type expression plasmid previously described 11 mutant runx1 plasmids obtained site directed mutagenesis wild type pqe9 runx1 using strategene â œquick changeâ method according manufacturer instruction manual stratagene amsterdam netherlands k90fsx101 alternative vector pqe13 used instead express fusion bulky n terminal appendage containing hexahistidines dihydrofolate reductase mutant constructs confirmed sequencing affinity assay runx1 pebp2î² cbfî² associationthe heterodimerization activity runx1 mutants impaired dna binding assayed magextractor kit toyobo osaka japan briefly hexahistidine tagged runx1 fragment 1 î¼g incubated tagless pebp2î² cbfî² 1 î¼g mixed nickel coated magnetic beads mixture successively washed buffers containing 30 mm imidazole eluted buffer supplied manufacturer proteins fraction analyzed previously described 11subcellular localizationfor functional studies mutated runx1 proteins wild type runx1 sequence 1 453 inserted pef bos mammalian expression plasmid construction runx1 mutants carried using megaprimers method 30 resultant plasmids transfected nih3t3 ref52 h58n k83n r177q r177x cells using nonliposomal transfection reagent fugene6 boehringer mannheim germany immunofluorescence labeling runx1 pebp2î²cbfî² microscopy previously described 11 transfection 50 cells visualized transactivation assaysthe luciferase reporter plasmid pm csf r luc effector plasmid pef aml1 containing 453 amino acid isoform runx1 mutations studied transfected fixed ratio 0 5 0 8 î¼g per assay respectively u937 hl60 jurkat cells cell extracts prepared 48 hours transfection assayed essentially described 11 study inhibitory effect mutant runx1 proteins wild type runx1 reporter gene activation 0 5 î¼g pm csf r luc 0 1 0 8 î¼g pef constructs expressing either runx1 without mutations pebp2î² myh11 cotransfected u937 hl60 jurkat cells total amount dna transfected kept constant 1 3 î¼g supplementing appropriate amounts backbone pef plasmid thereby avoiding potential artifacts due unbalanced dna dosages partial rescue repression obtained transfecting varying doses pebp2î²cbfî² repressive dose wild type mutant proteins resultslinkage mutation analyses 3 new pedigreeseach 3 families demonstrated features typical fpd aml candidate region genetic linkage analysis provided maximum 2 point log odds ratio scores 3 14 2 15 2 43 î â â 0 markers d21s1413 pedigree 1 ifnar pedigree 2 d21s65 pedigree 3 extended haplotype analysis family indicated approximate 3 megabase common nonrecombinant interval human chromosome 21q22 1 containing runx1 affected individuals pedigree 1 showed g substitution exon 3 resulting missense mutation k83e figure 2a mutation segregates disorder family absent 188 unrelated control chromosomes pedigree 2 showed one base deletion splice donor site intron 4 ivs4â â 3dela figure 2c mutation segregates disorder family absent 184 unrelated control chromosomes reverse transcriptase rt â pcr rna affected individuals showed use cryptic donor splice site used control rna 23 nucleotides upstream normal splice site figure 2d f novel transcript generated use cryptic splice site results frameshift amino acid 135 addition 41 unrelated residues termination codon 177 r135fsx177 pedigree 3 showed c substitution exon 7b resulting nonsense mutation y260x figure 2b mutation segregated disease family members tested effects runx1 fpd aml mutations dna binding heterodimerization activities runt domainwe examined function runt domain 2 new k83e r135fsx177 swiss prot q01196 5 described r139q r174q k90fsx101 r174x r177x 10 fpd aml point mutations emsa analyses r139q r174x r177x alone showed barely detectable dna binding produced supershift band increased intensity presence pebp2î² cbfî² indicating heterodimerization mutants pebp2î² cbfî² still occurs figure3a k83e r135fsx177 r174q k90fsx101 showed detectable dna binding presence absence pebpî² cbfî² affinity assay mutants heterodimerization pebp2î² cbfî² revealed missense mutants retained ability heterodimerize whereas frameshift mutants figure 3b fig 3 download figureopen new tabdownload powerpointfig 3 alterations dna binding heterodimerization activities runt domain fpd aml runx1 mutations partial runx1 proteins indicated subjected emsa presence absence âˆ pebp2î² cbfî² wt indicates wild type runx1 position runx1 runx1 cbfî² complexes dna indicated b affinity assay indicated partial runx1 proteins pebp2î² cbfî² indicates molecular weight marker indicated left right î² pebp2î² cbfî² input runx1 protein w unbound proteins washed fractions e bound proteins eluted 250 mm imidazole bands marked arrows indicate î² subunits associated runx1 proteins subcellular localization fpd aml runx1 mutants colocalization pebp2î² cbfî²in runx1 nuclear localization signal nls present amino acids 167 183 end runt domain runx1 wild type protein localized nucleus diffuse pattern excluded nucleoli figure 4a transfection mutant full length cdnas nih3t3 cells immunostaining expressed runx1 proteins revealed frameshift r135fsx177 k90fsx101 nls nonsense r174x r177x half nls missing mutants localized almost exclusively cytoplasm consistent importance basic amino acids nls r174q r177q sporadic mutation described osato et al11 showed cytoplasmic localization 20 5 observed cells respectively figure 4a fig 4 download figureopen new tabdownload powerpointfig 4 subcellular localization mutant runx1 proteins colocalization pebp2î² cbfî² subcellular localization indicated runx1 proteins detected immunofluorescence staining anti î b1 schematic runx1 protein shown runt transactivation domains indicated sequence nls indicated b double staining mutant runx1 pebp2î² cbfî² reveals subunits colocalized cytoplasm within speckled dotlike structures missense mutants diffuse staining pattern frameshift nonsense mutations examples figure nih3t3 cells original magnification ã 400 k83e r139q mutations within known nls mutant proteins showed reduced nuclear localization k83e showed cytoplasmic localization 30 transfected cells contrast normal nuclear localization seen k83n sporadic mutation figure 4a 11 observation may suggest k83e mutation k positive hydrophilic c6 e negative hydrophilic c5 results greater loss function k83n mutation n polar hydrophobic c4 r139q mutation site involved dna binding18 expected affect dna binding rather nuclear localization however cytoplasmic localization observed 40 cells observed defect nuclear localization k83e r139q consistent earlier studies31 may point existence additional unidentified n terminal domain critical nuclear localization contrast runx1 pebp2î² cbfî² normally localized cytoplasm heterodimerization32 enter nucleus runx1 31 however regulation heterodimerization remains unknown shown proteins may different cellular localizations transfected cells 31 missense mutants showed speckled dotlike distribution cytoplasm markedly different diffuse pattern truncated nonsense mutants double staining î î² subunits revealed colocalized within speckled patterns figure 4b transactivation abilities fpd aml runx1 mutantsthe transactivation potential mutant runx1 proteins measured using reporter construct based csf receptor promoter myeloid specific runx1 target 33 34wild type runx1 demonstrated 100 fold transactivation compared fpd aml mutants showed significant transactivation without pebp2î² cbfî² figure5a despite retention dna binding activity c terminal activation domains r139q failed transactivate several mutants showed persistently lower luciferase activities mock transfected plasmid indicating mutants could hinder function endogenous runx1 u937 cells allow measurement inhibition wild type transactivational activities caused mutant proteins reporter construct fixed amount nonsaturating wild type runx1 plasmid cotransfected varying amounts fpd aml mutant plasmids encoding mutant proteins dna pebp2î² cbfî² binding activity pebp2î² cbfî² myh11 k83n repressed csf receptor promoter previously reported 11 35 exception r177x mutants showed varying degrees interference wild type protein function cell lines tested u937 hl60 jurkat notably k83e r174q showed potent inhibition similar pebp2î² cbfî² myh11 figure 5b results cotransfection reporter assays using frameshift mutants reproducible within cell lines fig 5 download figureopen new tabdownload powerpointfig 5 transactivation csf receptor promoter exogenously expressed runx1 proteins cells transfected luciferase reporter plasmid indicated runx1 expression constructs luciferase activities measured presented fold increase relative control transfected backbone expression vector b wild type runx1 missense runx1 mutants coexpressed varying doses indicated luciferase activities expressed fold changes relative activity observed standard dose 0 3 î¼g wild type runx1 alone c pebp2î² cbfî² transfected varying doses repressive dose wild type mutant runx1 proteins panels c value represents mean 3 separate experiments luciferase activity axis panel c shown relative luciferase units rlu deviations measurements given thin vertical bars chimeric protein pebp2î² cbfî² myh11 sporadic mutation k83n used controls experiment examples figure u937 cells inhibitory mutants maintained ability heterodimerize colocalized pebp2î² cbfî² sequestration pebp2î² cbfî² mutant runx1 proteins may major inhibitory mechanism test hypothesis pebp2î² cbfî² cotransfected increasing amounts together inhibitory amounts mutant runx1 resulting restoration near normal reporter gene activity figure 5c discussionfive runx1 point mutations deletion entire runx1 gene previously described fpd aml report 3 new runx1 point mutations associated disease y260x pedigree 3 beginning transactivating domain removes part negative regulatory region dna binding 20 31 first described familial runx1 mutation outside runt domain studies described paper appropriate test functional implications mutation functional analyses 7 mutants 2 frameshift 2 nonsense 3 missense mutations performed investigate mechanisms contribute fpd aml particularly propensity develop aml capacity bind dna reduced abolished mutant proteins expected sites substitutions runt domain missense nonsense mutant proteins largely intact runt domain retained capacity heterodimerize pebp2î² cbfî² frameshift mutant proteins lack substantial part runt domain failed heterodimerize reported sporadic runx1 aml nonsense mutation s114x 11 observations consistent known crystal structure predicted binding domain mouse runx1 positions 3 missense mutations critical structural integrity dimerization site whereas frameshift mutant proteins predicted fold abnormally lack runt domain residues required heterodimerization 18do mechanisms pathogenesis sporadic leukemias provide clues mechanisms pathogenesis fpd aml many sporadic hematologic malignancies chromosomal rearrangements consistently appear supporting hypothesis events prerequisite tumor induction somatic mutations acquired leukemia translocations inversions heterozygous affected cells normal copies translocated genes still present consequently mechanism disease pathogenesis may include 1 gain function chimeric fusion proteins 2 haploinsufficiency 3 dominant negative effect chimeric fusion proteins 4 combination mechanisms however unlikely mutations described gain function activity haploinsufficiency runx proteinsthe importance gene dosage normal function cbf transcriptional regulators seen autosomal dominant human bone disorder cleidocranial dysplasia caused mutations inrunx2 also called cbfî 1 36 37runx2 âˆ mice show skeletal defects similar cleidocranial dysplasia 38 runx2 mutations may heterozygous missense mutations insertions deletions either runt dna binding domain c terminal domains responsible transactivation 39 runx2 point mutations predicted affect folding stability runx2 18 resulting haploinsufficiency runx2 defects bone formation 36 40 43complete deletion runx1 results haploinsufficiency fpd aml 10 2 fpd aml splice site mutations resulting frameshifts r135fsx177 k90fsx101 cause loss dna binding heterodimerization nuclear localization transactivation functions also likely act simple haploinsufficiency dominant negative effects mutant runx proteins translocations involving runx1 produce chimeric proteins notably runx1 aml1 eto mtg8 aml 8 21 tel runx1 aml1 12 21 chimeric proteins retain entire runt domain shown interfere transactivation normal runx1 dominant negative manner 44 46 runx1 aml1 eto related fusion proteins shown form complexes pebp2î² cbfî² nuclear proteins efficiently wild type runx1 47 49 moreover naturally occurring isoforms runx1 proteins contain runt domain also suppress transactivation full length runx1 50 deletion negative regulatory domain heterodimerization c terminal region full length runx1 amino acids 372 451 results efficient heterodimer formation 31 thus chimeric runx1 proteins resulting translocations isoforms runx1 without transactivation domain50 may act manner dimerizing pebp2î² cbfî² efficiently wild type cotransfection equal amounts wild type mutant plasmids closely mimics vivo situation one normal one mutant allele fpd aml runx1 missense nonsense mutants studied except r177x show decrease transactivation capacities inhibitory effect wild type runx1 upon cotransfection thus also seem act dominant negative inhibitors missense nonsense mutants still interact pebp2î² cbfî² nonsense mutants studied lack negative regulatory domain heterodimerization r139q 2 nonsense mutant proteins maintain degree dna binding although dna binding nonsense mutations may irrelevant vivo due cytoplasmic localization resulting direct disruption nls missense mutants appropriately translocated nucleus time also show cytoplasmic staining inhibitory nature mutants likely due competition wild type dimerization pebp2î² cbfî² sequestration case r174x must occur cytoplasm whereas missense mutations may occur nucleus cytoplasm r177x differs r174x 3 amino acids show significant repression wild type runx1 cotransfection assay may considered haploinsufficient structural analysis c terminal end runt domain nuclear magnetic resonance suggested region conformational flexibility 51 r174x lacks 3 amino acids region might show decreased flexibility increased affinity pebp2î² cbfî² r177x alternatively lack inhibition r177x could due technical difficulties inherent assay seen inconclusive results observed frameshift mutations one notable features fpd aml runx1 missense mutants studied colocalization runx1 pebp2î² cbfî² cytoplasmic speckles sequestration pebp2î² cbfî² could occur correlation colocalization pebp2î² cbfî² interaction vitro level inhibitory effect pattern seen nonsense frameshift mutants prematurely terminated within runt domain presence c terminal region must required aggregation runx1 speckled cytoplasmic patterns raises possibility speckled structures could result c terminalâ associating molecules could also sequestered cytoplasm recently shown dimerization pebp2î² cbfî² protects runx1 ubiquitin proteasomeâ mediated degradation substitution k83 r shown increase half life runx1 lysine residues ubiquitylated 52 preferential binding mutant runx1 proteins pebp2î² cbfî² may increase half lives k83e may potent nonchimeric mutant inhibitor wild type runx1 described far k83 residue important ubiquitinylation mice heterozygous runx1 aml1 eto pebp2î² cbfî² myh11 knocked ins showed defects definitive hematopoiesis similar observed runx1âˆ âˆ pebp2î² cbfî²âˆ âˆ mice 53 54 thus expression strong dominant negative inhibitors runx1 seems produce embryonic lethal phenotype dominant transmission runx1 mutations fpd aml implies strong dominant negative runx1 mutations would also expected lethal another study recently showed dominant negative mutations incebpa encoding c ebpî transcription factor sporadic aml however dominant negative effects predominantly frameshift mutations described study inhibitory effect increased formation secondary protein product use downstream initiating methionine 55progression leukemia fpd amlhaploidy runx1 clearly sufficient normal development possibly insufficient tumor suppression runx1âˆ âˆ mice show complete lack definitive hematopoietic cells fetal liver death occurring hemorrhages central nervous system 12 5 days coitus 56runx1 âˆ mice demonstrate minimal changes phenotype 56 58 although closer hematologic analysis revealed trend bone marrow progenitor cells increased sensitivity g csf possibly reflecting propensity develop myelogenous leukemia 59the presence biallelic runx1 mutations sporadic leukemias may indicate runx1 functions classical tumor suppressor gene 11 13 however cases sporadic leukemia monoallelic runx1 mutations described 11 13 also fpd aml leukemic patientsâ one families complete runx1 deletion r177x annotated r203x song et al10 â analysis leukemic cells failed detect runx1 mutations deletion second runx1 allele two tumor suppressor genes p53 p27kip1 shown haploinsufficient tumor suppression hemizygous mice potential complication dominant negative mutations excluded 60 61 revision knudson model proposed accommodate haploinsufficiency normal level biologic activity tumorigenic gene tightly controlled increase decrease activity leads increased tumor susceptibility multiprotein complex molecular cascade hemizygous loss 2 partners molecules pathway may almost tumorigenic homozygous loss one partner 62while mutations early acting genes runx1 predispose development hematologic malignancies affected lineage consequent type malignancy may depend upon genes subsequently sustain downstream â œhitsâ additional somatic mutation example combined positivity antigens cd34 c kit hla dr characterizes cbf leukemias aml m2 runx1 aml1 eto 8 21 aml m4eo pebp2î² cbfî² myh11 inv 16 63 c kit cd117 transmembrane tyrosine kinase receptor stem cell factor required normal hematopoiesis mutations c kit described various sporadic hematologic malignancies diseases 63 67 example mutations residue d816 exon 17 c kit detected 6 15 patients either 8 21 aml m2 inv 16 aml m4eo 68it difficult make robust correlation type mutation proportion patients develop leukemia fpd aml families limited number individuals identified lack detailed clinical information would appear however families mutations acting simply via haploinsufficiency deletions frameshift mutations show smaller proportion affected individuals develop leukemia families transmitting mutations may act dominant negative fashion figure6 consistent hypothesis second mutation occur runx1 genes cause leukemia among individuals harboring inheritedrunx1 mutation mutations likely occur individuals lower biologic activity runx1 example 2 largest fpd aml pedigrees markedly higher rate leukemia seen family strong predicted dominant negative k83e mutation 57 compared pedigree complete deletion runx1 24 fig 6 download figureopen new tabdownload powerpointfig 6 summary fpd aml runx1 mutants studies presented paper fpd aml runx1 mutants listed descending order pebp2 cbf activity runt transactivation domains indicated mutant proteins appropriate pedigrees 1 6 song et al 10 a1 a2 described paper results emsa dna binding affinity assay pebp2î² cbfî² subunit interaction subcellular localization transactivation studies summarized ratio leukemic fpd individuals fpd affected individuals pedigree indicated right largest fpd aml pedigrees markedly higher rate leukemia seen family strong predicted dominant negative k83e mutation pedigree a1 dominant negative 57 compared pedigree complete deletion runx1 pedigree 1 haploinsufficiency 24 thus propose less functional pebp cbf transcriptional regulation complex present hematopoietic cell due variable inhibitory effects heterozygous mutations mutations alleles higher propensity develop leukemia mechanism valid fpd aml sporadic leukemia patients clearly biallelic mutations would prone leukemia development although additional genetic changes may still required genes analyses additional fpd aml sporadic leukemia cases additional clinical molecular data including mutation analyses genes coding partners pebp cbf molecules tumorigenic pathway help provide evidence hypothesis runx1 aml1 gene frequent target chromosomal translocation leukemia addition recent studies demonstrated point mutations runx1 gene another mode genetic alteration development leukemia monoallelic germline mutations runx1 result familial platelet disorder predisposed acute myelogenous leukemia fpd aml sporadic point mutations frequently found three leukemia entities aml m0 subtype mds aml secondary therapy related mds aml therapy related leukemias resulting anticancer treatments uncommon incidence runx1 point mutations appears comparable incidence 8 21 aml m2 subtype inv 16 aml m4eo subtype half point mutations m0 cases biallelic although frequency varies ethnicity runx1 mutations clustered runt domain result defective dna binding active beta subunit binding consistent three dimensional structural findings may explain dominant inhibitory effects unlike classical tumor suppressor genes requiring biallelic inactivation haploinsufficient runx1 apparently leukemogenic however runx1 abnormalities per se insufficient cause full blown leukemia intensive investigation cooperating genetic alterations elucidate leukemic mechanisms keywords runx aml1 pebp2 point mutation familial leukemia top page introduction since discovery philadelphia chromosome 9 22 chronic myelogenous leukemia 1960 leukemia researchers physicians paid much attention investigation chromosomal translocations resultant chimeric genes also case runx1 aml1 related leukemia also known cbf leukemia hereafter referred runx leukemia miyoshi et al 1991 identified aml1 gene located breakpoint chromosomal translocation 8 21 1991 since leukemia research aml1 runx1 exclusively concentrated investigating 8 21 resultant aml1 runx1 eto mtg8 3 21 runx1 evi1 12 21 tel etv6 runx1 inv 16 pebp2beta cbfbeta myh11 1999 osato et al 1999 song et al 1999 reported runx1 point mutation sporadic familial myeloid leukemia respectively subsequent studies identified point mutations acute myeloid leukemia aml predominantly m0 subtype different ethnic groups preudhomme et al 2000 langabeer et al 2002 matsuno et al 2003 roumier et al 2003a 2003b silva et al 2003 recently mutations believed cluster within runt domain however mutations c terminal region outside runt domain also identified predominantly mds aml harada et al 2004 finally runx1 point mutations turned occur comparable frequency first mode runx1 alterations namely 8 21 inv 16 12 21 secondary mds aml harada et al 2003 accordingly runx1 point mutation fully recognized second mode leukemogenesis runx leukemia review summarize currently available cases point mutations discuss leukemogenesis mediated runx1 status top page frequency distribution point mutations runx1 gene consists 10 exons exons 1â 6 7a 7b 7c 8 two promoters followed distinct initiation codon exon 1 exon 3 proximal promoter driven transcript starts exon 3 encodes 453 amino acids aa full length 453 whereas distal promoter driven transcript exon 1 encodes 480 aa full length 480 full length 480 contains additional 32 aa instead 5 aa full length 453 n terminal end thus full lengths share exons 3â 6 7b 8 nearly complete coding sequence runt domain highly conserved 128 aa protein motif responsible dna binding heterodimerization beta subunit pebp2beta cbfbeta spans aa 50â 178 full length 453 located exons 3â 5 runx1 mutation screening studies covered exons 3â 5 included intron sequences flanking exon studies screened exons 1 2 well half studies cover exons 6â 8 encoding c terminal moiety transactivation domain spanning aa 291â 371 located types human leukemia except chronic lymphocytic leukemia cll extensively investigated addition significant number cell lines including established solid tumors well healthy volunteers also included mutation screenings table 1 langabeer et al 2002 vegesna et al 2002 harada et al 2003 taketani et al 2003 total 102 cases 1786 tested runx1 alteration including point mutation gene deletion nucleotide changes resulted amino acid changes clear functional defects shown figure 1 however mutations failed show apparent functional alterations nucleotide change may constitutive leukemia specific nucleotide changes lead amino acid change synonymous may generate abnormal splicing donor acceptor site resulting nonfunctional protein enigmatic cases listed variation table 1 numbers mutations table 1 include variation cases mutations clustered within runt domain figure 1 n terminal region 9 8 6 runt domain 84 80 8 c terminal region 11 10 5 total number mutations table 1 figure 1 differs 104 vs 102 compiled mutants figure 1 include 11 cases fpd aml listed table 1 conversely gene deletion included figure 1 biallelic case table 1 provides two distinct mutations simultaneously figure 1 figure 1 unfortunately unable provide accessible alternative text require assistance access image please contact help nature com author distribution functional consequences runx1 gene mutations mutations bold disease subtypes compiled left corresponding amino acid indicated center amino acids runt domain dark green green bar representing exons listed consecutive manner outside runt domain missense termination frameshift mutations highlighted yellow dark gray gray respectively functional consequences dna binding beta subunit binding dominant negative effects listed right indicates function retention normal hypernormal functions pink red respectively dominant negative effects shown light blue dark blue right end column strong cases dark blue full figure legend 235k table 1 frequency mutations runx1 aml1 gene various cancer patients healthy volunteers table 1 frequency mutations runx1 aml1 gene various cancer patients healthy volunteers unfortunately unable provide accessible alternative text require assistance access image please contact help nature com author full table top page functional consequence haploinsufficiency entire gene deletions early truncated type mutations frameshift nonsense mutations found significant frequency missense mutations also lost dna binding transcriptional activities figure 1 right middle column since majority cases heterozygous haploinsufficiency appears basis pathogenesis notion strongly supported whole gene deletion fpd aml runx1 status likely provide cells growth advantage overcome selective pressure subject however mechanism mutations would distributed throughout gene without hot spots therefore clustering runt domain suggests mechanism genuine haploinsufficiency important leukemogenesis top page dominant negative effect retained bold italic beta binding activity runt domain eight regions hot spots affected twice figure 1 two different mechanisms probably least partly responsible first primary sequence particular sites seems preferably targeted mutation mechanism r139 r174 r177 encoded triplets containing cpg dinucleotides extremely prone transition type mutations mechanism facilitated methylation cytidine residue rodenhiser et al 1997 yoshida et al 2003 second certain mutation sites considered provide cells stronger growth advantage selective pressure mapping missense mutations strongly supports notion three regions recurrently affected missense mutations exclusively correspond three loop containing regions responsible dna binding betap1â loop betap1â betab betae â loop betae â betaf betap2â loop betap2â c terminus figure 2 nagata et al 1999 osato et al 2001 tahirov et al 2001 consequently mutants defective dna binding packing heterodimerization figure 1 may explain dominant negative effects runx1 mutants cotransfection assays missense nonsense mutants showed inhibitory effects towards transactivation mediated wild type runx1 mutants bound pebp2beta cbfbeta efficiently wild type runx1 imai et al 2000 michaud et al 2002 addition pebp2beta protects runx1 ubiquitinâ proteasome mediated degradation huang et al 2001 thus preferential binding mutant runx1 proteins pebp2beta may turn increase protein half life hence augment dominant negative effects right end column figure 1 general correlation seen retained beta binding activity inhibitory potential mutant correlation clearly indicated comparison distribution missense mutations runx1 runx2 figure 2 germline mutation runx2 causes bone disease cleidocranial dysplasia ccd mundlos et al 1997 missense mutations runx2 distributed throughout runt domain affected overall folding architecture cases marked asterisks figure 2 resulting impairment dna binding heterodimerization activity packing defect mutations underlined figure 2 showed defects beta binding alone clear contrast mutations resulting defective packing beta binding found runx1 far reported cases mapped residues responsible packing suspected cases functional analyses yet performed suspected case defect beta binding alone reported conversely mutations mapping first dna interacting region betap1 loop betap1 betab seen runx1 runx2 figure 2 yoshida et al 2003 runx1 mutants r80c k83n k83e showed strong affinity beta subunit hence strong dominant negative effect suggesting haploinsufficiency dominant mechanism runx2 mutants whereas dominant negative effect important runx1 mutants sequestration beta subunit may one important mechanism dominant negative effect caused runx1 mutants figure 2 figure 2 unfortunately unable provide accessible alternative text require assistance access image please contact help nature com author structural mappings missense mutations detected leukemia bone disease ccd runx1 mutants leukemia rectangular outline orange mapped exclusively three regions involved dna binding whereas runx2 mutations ccd blue distributed runt domain except loop betap1 betaf mutations associated packing asterisk beta binding underline defects found ccd adapted nagata et al 1999 full figure legend 307k top page lower runx1 activity higher leukemogenicity dominant negative effect mentioned relate leukemogenesis although limited number individuals minimal clinical information evaluated prohibit robust conclusion families mutations acting simply via haploinsufficiency lower incidence leukemia families mutations acting dominant negative fashion two largest fpd aml pedigrees leukemia occurred markedly higher rate family strong dominant negative k83e mutation 57 compared pedigree complete deletion runx1 24 table 2 song et al 1999 michaud et al 2002 thus low runx1 activity appears correlate high leukemogenicity hypothesis may expanded extent leukemogenesis induced chimeric genes majority current findings indicate major function chimeric genes transdominant inhibition wild type runx1 resulting severely decreased runx1 activity affected cells currently 10 partner genes fused runx1 identified chromosomal translocations although chimeric gene may leukemogenic mechanism runx1 insufficiency may common underlying mechanism runx leukemias table 2 runx1 mutations familial leukemia fpd aml table 2 runx1 mutations familial leukemia fpd aml unfortunately unable provide accessible alternative text require assistance access image please contact help nature com author full table acquired trisomy 21 underscores notion runx1 mutant alleles appear duplicated frequently finding may also lend supporting evidence hypothesis reduced runx1 activity increases leukemogenic status argument discussed later top page mutation status â disease phenotype sporadic leukemias biallelic mutation aml m0 subtype runx1 point mutations frequently found aml m0 subtype table 1 addition 22 39 56 4 m0 cases showed biallelic type mutation table 3 conversely two 80 runx1 mutation cases leukemia subtypes biallelic type therefore clear runx1 point mutations biallelic type tightly associated aml m0 subtype mice heterozygous runx1 mtg8 pebp2beta cbfbeta myh11 chimeric genes showed defects definitive hematopoiesis similar runx1 mice suggesting chimeric genes act strong transdominant inhibitors remaining normal runx1 allele castilla et al 1996 okuda et al 1996 yergeau et al 1997 therefore leukemogenic potential biallelic runx1 mutants considered equivalent chimeric genes hand 8 21 inv 16 biallelic point mutations related distinct m2 m4eo m0 subtypes myeloid leukemias respectively different disease phenotypes quite interesting contribution partner gene thought considerable may also explained different residual activities runx1 affected adult hematopoietic cells conditional runx1 knockout mice showed apparent defects hematopoiesis ichikawa et al 2004 whereas hematopoiesis conditional heterozygous runx1 eto knockin mice nearly normal higuchi et al 2002 suggesting runx1 induces severe effects runx1 eto chimeric gene adult hematopoiesis m0 subtype shows minimally differentiated morphology m2 subtype characteristically well differentiated therefore differing residual activities runx1 seem important addition influence activities runx family genes must considered runx1 mtg8 pebp2beta cbfbeta myh11 chimeric genes could inhibit runx2 runx3 well runx1 status defect runx1 alone careful study resolve intriguing issue table 3 runx1 mutations aml m0 subtype table 3 runx1 mutations aml m0 subtype unfortunately unable provide accessible alternative text require assistance access image please contact help nature com author full table note biallelic type mutation strictly confined status two copies runx1 biallelic mutation trisomy 21 associated aml m0 subtype associated myeloid malignancies m0 phenotypic difference discussed later entire distribution including c terminal moiety mds aml secondary leukemia runx1 point mutations also frequently found mds subsequent overt leukemia referred review mds aml tables 1 4 mutations characteristically distributed also detected c terminal region rarely targeted types leukemias harada et al 2004 since distribution recently identified c terminal mutations overlooked number previous studies half studies investigate exons 7b 8 c terminal region regard mds aml incidence covering exons 3â 6 exons 3â 8 evaluated less frequently exons 3â 8 alone table 4 thus c terminal mutations may underestimated mds aml however c terminal mutations still seem rare aml since c terminal mutations identified study relatively large number cases therefore runx1 point mutations including c terminal moiety appear found predominantly mds aml table 4 runx1 mutations mds table 4 runx1 mutations mds unfortunately unable provide accessible alternative text require assistance access image please contact help nature com author full table harada et al 2003 hiroshima one two cities suffered atomic bomb reported two implications runx1 mutations secondary mds aml referred review mds aml including therapy related atomic bomb related mds aml firstly relationship radiation seems important terms social issue addition victims two cities estimated 220 000 us soldiers significant number local residents passengers irradiated aboveground nuclear weapon test sites nevada bikini atoll others late 1940s 1950s many people thought succumbed mds aml caused runx1 point mutation secondly involvement therapy related mds aml seems general impact improvement treatments primary cancer incidence therapy related mds aml continues increase therapy related mds aml accounts roughly 10â 20 new cases mds aml standard hospitals therefore incidence secondary mds aml runx1 mutation comparable 8 21 aml m2 subtype inv 16 aml m4eo subtype table 5 considering poor prognosis clinical implication runx1 point mutation secondary mds aml would rather significant expected table 5 estimated frequency leukemia runx1 point mutation table 5 estimated frequency leukemia runx1 point mutation unfortunately unable provide accessible alternative text require assistance access image please contact help nature com author full table leukemic incidence rates based several textbooks public databases cdc national cancer institute nih cll accounts 10â 30 may explain relatively low incidences 8 21 inv 16 12 21 acquired congenital trisomy 21 non mo myeloid malignancy preudhomme et al 2000 first reported relationship trisomy 21 runx1 point mutation table 6 sporadic cases myeloid lymphoid malignancy trisomy 21 associated high frequency runx1 point mutations taketani et al 2002 subsequently surveyed runx1 mutation congenital cases trisomy 21 syndrome related hematopoietic diseases however point mutation congenital cases appears rare except enigmatic h58n variation nearly normal function allelic analysis sporadic cases acquired trisomy 21 showed following combination 2â 3 mutant vs 0â 1 wild type co occurrence mutation trisomy 21 associated allelic combination one mutant two wt combination however combination never found findings suggest trisomy 21 increases copy number mutant allele already exists status two copies runx1 words trisomy 21 thought secondary change runx1 status trisomy 21 second hit discussed later table 6 trisomy 21 runx1 mutation table 6 trisomy 21 runx1 mutation unfortunately unable provide accessible alternative text require assistance access image please contact help nature com author full table mentioned earlier biallelic runx1 mutations tightly liked aml m0 subtype however interestingly acquired 21 carrying runx1 point mutation never observed aml m0 subtype even cases biallelic mutations table 6 discrepancy explained differing residual activities runx1 half m0 cases runx1 mutation monoallelic leukemic phenotype may determined yet undetermined mechanism top page familial leukemia fpd aml heterozygous germline mutation runx1 gene causes familial leukemia familial platelet disorder predisposition acute myelogenous leukemia fpd aml total 12 pedigrees identified far mainly individuals european descent table 2 fpd alone onset aml fatal significantly inhibits blood clotting could life threatening surgery injury dental treatment childbirth incidence leukemia among affected individuals varies 20 50 average 35 highest familial leukemia syndromes including fanconi anemia bloom syndrome kostman syndrome affected subjects seem develop myeloid malignancies throughout life span later life described previous reports leukemia developed age 10 years four 11 cases features fpd aml compared similar dominant hereditary disease huntington disease hd subjects hd healthy disease onset 30â 50 years age die 10â 15 years later addition low penetrance low severity symptoms late onset key factor hereditary disease since patients often children disease symptoms appear hands fpd aml seems detrimental subjects factors hereditary disease pedigree full drawbacks exist fpd aml may persist disease due easy mutability runx1 discussed runx1 indeed contains easy mutable primary sequences triplets containing cpg dinucleotides extremely prone transition type mutations facilitated methylation cytidine residue rodenhiser et al 1997 yoshida et al 2003 mechanism could work particularly well germ cells fpd aml pedigree may readily disappear human population de novo pedigree could continually generated comparable frequency consistent argument ccd cases caused runx2 mutation approximately half de novo familial type zhou et al 1999 irradiation readily generates ccd like phenotypes mice due runx2 alterations runx2 shares noted easy mutable sequences case runx1 healthy british subjects two kinds variations l29s s21syn 5 3 frequency respectively langabeer et al 2002 japanese subjects also several recurrent enigmatic variations g42r i87syn h58n interestingly g42r identified leukemia patients healthy volunteers harada et al 2003 taketani et al 2003 variations probably including polymorphisms might reflect noted easy mutability runx1 mentioned fpd aml extremely rare worldwide therefore clinical entity overlooked physicians recently bone marrow transplantaion carried affected sibling mild fpd symptoms patient suffering aml buijs et al 2001 recipient succumbed leukemia clearly hematopoietic cells derived donor top page genetic alterations cooperating runx1 status mentioned earlier runx1 status frequently found aml m0 subtype thus runx1 may appear act classical tumor suppressor gene requiring inactivation two alleles according knudson two hits theory however biallelic inactivation required cases leukemogenesis fact overall frequency biallelic cases relatively low 27 102 cases 26 biallelic cases fpd aml never reported therefore runx1 per se appears leukemogenic dominant negative effect associated missense mutations might play role leukemogenesis extent gene inactivation case heterozygous mutation appears step towards leukemogenesis therefore mutation wild type runx1 remaining allele considered second hit addition runx1 status furthermore acquired congenital trisomy 21 also thought second hit discussed earlier link 21 runx1 mutation interpreted follows mutation takes place two copy status mutant allele duplicated accordance 21 runx1 21 cases acquirement another mutant allele therefore thought additional genetic alteration cooperating runx1 status figure 3 figure 3 figure 3 unfortunately unable provide accessible alternative text require assistance access image please contact help nature com author leukemogenesis runx1 biallelic mutations runx1 runx1 tightly liked aml m0 subtype however acquired 21 carrying runx1 point mutation runx1 never observed m0 despite cases biallelic mutations mutation likely takes place two copy status runx1 mutant allele duplicated accordance 21 resulting myeloid malignancies m0 flt 3 mutations frequently found m0 cases runx1 point mutations genetic alterations mapped based observations full figure legend 55k line 21 cytogenetics helps identify second hits patients runx1 point mutations show following concurrent abnormalities 12 cases showed 7 6 8 5 13 tables 2 3 4 loss chromosome 7 suspected strong predisposing factor second hit runx1 flt 3 mutations frequently observed even monoallelic runx1 mutations m0 patients table 3 matsuno et al 2003 roumier et al 2003a 2003b hence flt 3 mutation also cooperating genetic alteration figure 3 flt 3 mutation results constitutively active form known stimulate cell proliferation therefore differentiation blockade runx1 alteration growth stimulation flt3 mutation would synergistically contribute substantial fraction aml m0 subtype cases interesting enough flt 3 mutations known rare runx leukemias 8 21 inv 16 certain runx leukemias seem cooperate distinct second hits elucidation mechanism might shed light development runx leukemias top page current problems region mutation screening discussed previously half screening studies cover c terminal exons 7b 8 therefore overlooked c terminal mutations mds aml c terminal screening unlikely reveal information aml recommended likewise exons 1 2 might affected particular types leukemia theoretically promoter untranslated regions could also targeted variations significant numbers variations reported shown table 1 figure 1 functional analyses yet performed cases variation must studied determine mutation polymorphism analyses polymorphisms might help characterize susceptibility leukemia dominant negative effect c terminal mutants mds aml reporter assay c terminal mutants found mds aml showed inhibitory effects transdominant manner like missense mutants runt domain harada et al 2004 however similar c terminal runx2 mutations ccd patients retain partial transactivation activity show much milder phenotypes compared standard ccd phenotypes caused simple gene deletions yoshida et al 2002 discrepancy may due distinct cell context promoter used assay however correlation mds aml might indicate c terminal mutants milder inhibitory effects runt domain mutants biological assay reporter assay may address issue cooperative genetic alterations flt 3 mutation 21 thought second hits mds aml runx1 mutations high frequency chromosome 7 loss suggests inactivation unknown gene chromosome 7 plays synergistic role runx1 mutations however overall frequency mutations account cases furthermore induce leukemia three five genetic alterations considered required based current evidence therefore number genetic alterations must identified understand whole leukemogenic mechanism runx leukemia laboratory recently established mouse system appears quite useful myeloid leukemia prone mice mimicking fpd aml generated backcrossing runx1 onto bxh2 strain retroviral insertional mutagenesis occurs spontaneously eventual development myeloid leukemia 90 cases li et al 1999 proviral integration sites leukemias provide powerful genetic tags disease gene identification therefore collaborating oncogenes runx1 would readily detected loss function runx1 widely believed common underlying mechanism runx leukemia runx1 status considered minimum alteration required several forms runx leukemias therefore mouse model fpd aml mentioned useful searching cooperative genetic alterations runx leukemias 8 21 inv 16 genetic alterations identified retroviral tagging system might explain leukemogenic mechanisms runx1 point mutations also runx leukemias top page future directions runx1 status leukemogenic question seems fundamental question runx1 point mutation also runx leukemias determining means runx1 leukemogenic may possible currently used approaches evaluate differentiation proliferation apoptosis cellular level transcriptional control molecular level novel approach warranted example alteration stemness investigated runx1 status stemness could provide cells time window sufficient sequential genetic alterations intrinsic molecular functions relevant leukemogenesis transcriptional control might identified novel approaches'"
      ]
     },
     "execution_count": 37,
     "metadata": {},
     "output_type": "execute_result"
    }
   ],
   "source": [
    "# now each training_full_Text_str[x] contains a single string, representing each of the studies, with all STOPWORDS removed\n",
    "training_full_Text_str[3320]"
   ]
  },
  {
   "cell_type": "markdown",
   "metadata": {},
   "source": [
    "#### Re-create full training dataframe by replacing 'Text' with the newly-processed text strings as above:"
   ]
  },
  {
   "cell_type": "code",
   "execution_count": 38,
   "metadata": {},
   "outputs": [],
   "source": [
    "Text_preprocessed=pd.DataFrame(training_full_Text_str,columns=['Text_preprocessed'])\n",
    "training_full_df=pd.concat([training_full,Text_preprocessed],axis=1).drop(columns=['Text'])"
   ]
  },
  {
   "cell_type": "code",
   "execution_count": 39,
   "metadata": {},
   "outputs": [
    {
     "data": {
      "text/html": [
       "<div>\n",
       "<style scoped>\n",
       "    .dataframe tbody tr th:only-of-type {\n",
       "        vertical-align: middle;\n",
       "    }\n",
       "\n",
       "    .dataframe tbody tr th {\n",
       "        vertical-align: top;\n",
       "    }\n",
       "\n",
       "    .dataframe thead th {\n",
       "        text-align: right;\n",
       "    }\n",
       "</style>\n",
       "<table border=\"1\" class=\"dataframe\">\n",
       "  <thead>\n",
       "    <tr style=\"text-align: right;\">\n",
       "      <th></th>\n",
       "      <th>ID</th>\n",
       "      <th>Gene</th>\n",
       "      <th>Variation</th>\n",
       "      <th>Class</th>\n",
       "      <th>Text_preprocessed</th>\n",
       "    </tr>\n",
       "  </thead>\n",
       "  <tbody>\n",
       "    <tr>\n",
       "      <th>0</th>\n",
       "      <td>0</td>\n",
       "      <td>fam58a</td>\n",
       "      <td>truncating mutations</td>\n",
       "      <td>1</td>\n",
       "      <td>cyclin dependent kinases cdks regulate variety...</td>\n",
       "    </tr>\n",
       "    <tr>\n",
       "      <th>1</th>\n",
       "      <td>1</td>\n",
       "      <td>cbl</td>\n",
       "      <td>w802</td>\n",
       "      <td>2</td>\n",
       "      <td>abstract background non small cell lung cancer...</td>\n",
       "    </tr>\n",
       "    <tr>\n",
       "      <th>2</th>\n",
       "      <td>2</td>\n",
       "      <td>cbl</td>\n",
       "      <td>q249e</td>\n",
       "      <td>2</td>\n",
       "      <td>abstract background non small cell lung cancer...</td>\n",
       "    </tr>\n",
       "    <tr>\n",
       "      <th>3</th>\n",
       "      <td>3</td>\n",
       "      <td>cbl</td>\n",
       "      <td>n454d</td>\n",
       "      <td>3</td>\n",
       "      <td>recent evidence demonstrated acquired uniparen...</td>\n",
       "    </tr>\n",
       "    <tr>\n",
       "      <th>4</th>\n",
       "      <td>4</td>\n",
       "      <td>cbl</td>\n",
       "      <td>l399v</td>\n",
       "      <td>4</td>\n",
       "      <td>oncogenic mutations monomeric casitas b lineag...</td>\n",
       "    </tr>\n",
       "    <tr>\n",
       "      <th>...</th>\n",
       "      <td>...</td>\n",
       "      <td>...</td>\n",
       "      <td>...</td>\n",
       "      <td>...</td>\n",
       "      <td>...</td>\n",
       "    </tr>\n",
       "    <tr>\n",
       "      <th>3316</th>\n",
       "      <td>3316</td>\n",
       "      <td>runx1</td>\n",
       "      <td>d171n</td>\n",
       "      <td>4</td>\n",
       "      <td>introduction myelodysplastic syndromes mds het...</td>\n",
       "    </tr>\n",
       "    <tr>\n",
       "      <th>3317</th>\n",
       "      <td>3317</td>\n",
       "      <td>runx1</td>\n",
       "      <td>a122</td>\n",
       "      <td>1</td>\n",
       "      <td>introduction myelodysplastic syndromes mds het...</td>\n",
       "    </tr>\n",
       "    <tr>\n",
       "      <th>3318</th>\n",
       "      <td>3318</td>\n",
       "      <td>runx1</td>\n",
       "      <td>fusions</td>\n",
       "      <td>1</td>\n",
       "      <td>runt related transcription factor 1 gene runx1...</td>\n",
       "    </tr>\n",
       "    <tr>\n",
       "      <th>3319</th>\n",
       "      <td>3319</td>\n",
       "      <td>runx1</td>\n",
       "      <td>r80c</td>\n",
       "      <td>4</td>\n",
       "      <td>runx1 aml1 gene frequent target chromosomal tr...</td>\n",
       "    </tr>\n",
       "    <tr>\n",
       "      <th>3320</th>\n",
       "      <td>3320</td>\n",
       "      <td>runx1</td>\n",
       "      <td>k83e</td>\n",
       "      <td>4</td>\n",
       "      <td>frequent mutations associated leukemia recurre...</td>\n",
       "    </tr>\n",
       "  </tbody>\n",
       "</table>\n",
       "<p>3321 rows × 5 columns</p>\n",
       "</div>"
      ],
      "text/plain": [
       "        ID    Gene             Variation  Class  \\\n",
       "0        0  fam58a  truncating mutations      1   \n",
       "1        1     cbl                  w802      2   \n",
       "2        2     cbl                 q249e      2   \n",
       "3        3     cbl                 n454d      3   \n",
       "4        4     cbl                 l399v      4   \n",
       "...    ...     ...                   ...    ...   \n",
       "3316  3316   runx1                 d171n      4   \n",
       "3317  3317   runx1                  a122      1   \n",
       "3318  3318   runx1               fusions      1   \n",
       "3319  3319   runx1                  r80c      4   \n",
       "3320  3320   runx1                  k83e      4   \n",
       "\n",
       "                                      Text_preprocessed  \n",
       "0     cyclin dependent kinases cdks regulate variety...  \n",
       "1     abstract background non small cell lung cancer...  \n",
       "2     abstract background non small cell lung cancer...  \n",
       "3     recent evidence demonstrated acquired uniparen...  \n",
       "4     oncogenic mutations monomeric casitas b lineag...  \n",
       "...                                                 ...  \n",
       "3316  introduction myelodysplastic syndromes mds het...  \n",
       "3317  introduction myelodysplastic syndromes mds het...  \n",
       "3318  runt related transcription factor 1 gene runx1...  \n",
       "3319  runx1 aml1 gene frequent target chromosomal tr...  \n",
       "3320  frequent mutations associated leukemia recurre...  \n",
       "\n",
       "[3321 rows x 5 columns]"
      ]
     },
     "execution_count": 39,
     "metadata": {},
     "output_type": "execute_result"
    }
   ],
   "source": [
    "training_full_df"
   ]
  },
  {
   "cell_type": "code",
   "execution_count": 40,
   "metadata": {},
   "outputs": [
    {
     "name": "stdout",
     "output_type": "stream",
     "text": [
      "X_train_df shape: (2656, 4)\n",
      "y_train shape: (2656,)\n",
      "X_test_df shape: (665, 4)\n",
      "y_test shape: (665,)\n"
     ]
    }
   ],
   "source": [
    "# perform the main train-test splits\n",
    "\n",
    "# create X,y, not including 'Variation','Text'\n",
    "y=training_full_df.Class\n",
    "X=training_full_df.drop(columns=['Class'])\n",
    "\n",
    "training_ratio = 0.8\n",
    "test_ratio = 1.0 - training_ratio\n",
    "\n",
    "# 80%/20% train-test split\n",
    "X_train,X_test,y_train,y_test=train_test_split(X,y,test_size=test_ratio,random_state=42,stratify=y)\n",
    "\n",
    "#reset indices starting from 0, since 'ID' column no longer matches index\n",
    "X_train_df=X_train.reset_index(drop=True)\n",
    "y_train=y_train.reset_index(drop=True)\n",
    "X_test_df=X_test.reset_index(drop=True)\n",
    "y_test=y_test.reset_index(drop=True)\n",
    "\n",
    "print('X_train_df shape: {0}'.format(X_train.shape))\n",
    "print('y_train shape: {0}'.format(y_train.shape))\n",
    "\n",
    "print('X_test_df shape: {0}'.format(X_test.shape))\n",
    "print('y_test shape: {0}'.format(y_test.shape))"
   ]
  },
  {
   "cell_type": "code",
   "execution_count": 41,
   "metadata": {},
   "outputs": [
    {
     "name": "stdout",
     "output_type": "stream",
     "text": [
      "0    4\n",
      "1    4\n",
      "2    4\n",
      "3    7\n",
      "4    4\n",
      "Name: Class, dtype: int64\n"
     ]
    },
    {
     "data": {
      "text/html": [
       "<div>\n",
       "<style scoped>\n",
       "    .dataframe tbody tr th:only-of-type {\n",
       "        vertical-align: middle;\n",
       "    }\n",
       "\n",
       "    .dataframe tbody tr th {\n",
       "        vertical-align: top;\n",
       "    }\n",
       "\n",
       "    .dataframe thead th {\n",
       "        text-align: right;\n",
       "    }\n",
       "</style>\n",
       "<table border=\"1\" class=\"dataframe\">\n",
       "  <thead>\n",
       "    <tr style=\"text-align: right;\">\n",
       "      <th></th>\n",
       "      <th>ID</th>\n",
       "      <th>Gene</th>\n",
       "      <th>Variation</th>\n",
       "      <th>Text_preprocessed</th>\n",
       "    </tr>\n",
       "  </thead>\n",
       "  <tbody>\n",
       "    <tr>\n",
       "      <th>0</th>\n",
       "      <td>2570</td>\n",
       "      <td>brca1</td>\n",
       "      <td>d1739g</td>\n",
       "      <td>abstract germline mutations inactivate tumor s...</td>\n",
       "    </tr>\n",
       "    <tr>\n",
       "      <th>1</th>\n",
       "      <td>2448</td>\n",
       "      <td>brca1</td>\n",
       "      <td>t37r</td>\n",
       "      <td>published analyses effects missense mutations ...</td>\n",
       "    </tr>\n",
       "    <tr>\n",
       "      <th>2</th>\n",
       "      <td>1262</td>\n",
       "      <td>pik3r1</td>\n",
       "      <td>k459 s460delinsn</td>\n",
       "      <td>abstract cancer specific mutations ish2 inter ...</td>\n",
       "    </tr>\n",
       "    <tr>\n",
       "      <th>3</th>\n",
       "      <td>3168</td>\n",
       "      <td>raf1</td>\n",
       "      <td>amplification</td>\n",
       "      <td>studies comparative genomic hybridization reve...</td>\n",
       "    </tr>\n",
       "    <tr>\n",
       "      <th>4</th>\n",
       "      <td>3087</td>\n",
       "      <td>notch1</td>\n",
       "      <td>r1594q</td>\n",
       "      <td>since notch phenotypes drosophila melanogaster...</td>\n",
       "    </tr>\n",
       "  </tbody>\n",
       "</table>\n",
       "</div>"
      ],
      "text/plain": [
       "     ID    Gene         Variation  \\\n",
       "0  2570   brca1            d1739g   \n",
       "1  2448   brca1              t37r   \n",
       "2  1262  pik3r1  k459 s460delinsn   \n",
       "3  3168    raf1     amplification   \n",
       "4  3087  notch1            r1594q   \n",
       "\n",
       "                                   Text_preprocessed  \n",
       "0  abstract germline mutations inactivate tumor s...  \n",
       "1  published analyses effects missense mutations ...  \n",
       "2  abstract cancer specific mutations ish2 inter ...  \n",
       "3  studies comparative genomic hybridization reve...  \n",
       "4  since notch phenotypes drosophila melanogaster...  "
      ]
     },
     "execution_count": 41,
     "metadata": {},
     "output_type": "execute_result"
    }
   ],
   "source": [
    "print(y_train.head())\n",
    "X_train_df.head()"
   ]
  },
  {
   "cell_type": "code",
   "execution_count": 42,
   "metadata": {},
   "outputs": [
    {
     "name": "stdout",
     "output_type": "stream",
     "text": [
      "0    2\n",
      "1    6\n",
      "2    7\n",
      "3    7\n",
      "4    7\n",
      "Name: Class, dtype: int64\n"
     ]
    },
    {
     "data": {
      "text/html": [
       "<div>\n",
       "<style scoped>\n",
       "    .dataframe tbody tr th:only-of-type {\n",
       "        vertical-align: middle;\n",
       "    }\n",
       "\n",
       "    .dataframe tbody tr th {\n",
       "        vertical-align: top;\n",
       "    }\n",
       "\n",
       "    .dataframe thead th {\n",
       "        text-align: right;\n",
       "    }\n",
       "</style>\n",
       "<table border=\"1\" class=\"dataframe\">\n",
       "  <thead>\n",
       "    <tr style=\"text-align: right;\">\n",
       "      <th></th>\n",
       "      <th>ID</th>\n",
       "      <th>Gene</th>\n",
       "      <th>Variation</th>\n",
       "      <th>Text_preprocessed</th>\n",
       "    </tr>\n",
       "  </thead>\n",
       "  <tbody>\n",
       "    <tr>\n",
       "      <th>0</th>\n",
       "      <td>3219</td>\n",
       "      <td>ntrk1</td>\n",
       "      <td>bcan ntrk1 fusion</td>\n",
       "      <td>abstract glioblastoma multiforme gbm aggressiv...</td>\n",
       "    </tr>\n",
       "    <tr>\n",
       "      <th>1</th>\n",
       "      <td>2672</td>\n",
       "      <td>brca1</td>\n",
       "      <td>k45t</td>\n",
       "      <td>germline mutations breast cancer 1 brca1 gene ...</td>\n",
       "    </tr>\n",
       "    <tr>\n",
       "      <th>2</th>\n",
       "      <td>1706</td>\n",
       "      <td>whsc1</td>\n",
       "      <td>e1099k</td>\n",
       "      <td>acute lymphoblastic leukemia neoplasm lymphocy...</td>\n",
       "    </tr>\n",
       "    <tr>\n",
       "      <th>3</th>\n",
       "      <td>3126</td>\n",
       "      <td>kras</td>\n",
       "      <td>y64a</td>\n",
       "      <td>growth factor receptors activate ras recruitin...</td>\n",
       "    </tr>\n",
       "    <tr>\n",
       "      <th>4</th>\n",
       "      <td>1677</td>\n",
       "      <td>flt3</td>\n",
       "      <td>e612 f613insgyvdfreyeydlkwefrprenlef</td>\n",
       "      <td>internal tandem duplication itd flt3 gene foun...</td>\n",
       "    </tr>\n",
       "  </tbody>\n",
       "</table>\n",
       "</div>"
      ],
      "text/plain": [
       "     ID   Gene                             Variation  \\\n",
       "0  3219  ntrk1                     bcan ntrk1 fusion   \n",
       "1  2672  brca1                                  k45t   \n",
       "2  1706  whsc1                                e1099k   \n",
       "3  3126   kras                                  y64a   \n",
       "4  1677   flt3  e612 f613insgyvdfreyeydlkwefrprenlef   \n",
       "\n",
       "                                   Text_preprocessed  \n",
       "0  abstract glioblastoma multiforme gbm aggressiv...  \n",
       "1  germline mutations breast cancer 1 brca1 gene ...  \n",
       "2  acute lymphoblastic leukemia neoplasm lymphocy...  \n",
       "3  growth factor receptors activate ras recruitin...  \n",
       "4  internal tandem duplication itd flt3 gene foun...  "
      ]
     },
     "execution_count": 42,
     "metadata": {},
     "output_type": "execute_result"
    }
   ],
   "source": [
    "print(y_test.head())\n",
    "X_test_df.head()"
   ]
  },
  {
   "cell_type": "markdown",
   "metadata": {},
   "source": [
    "### Tokenize Text_preprocessed via Tensorflow/Keras Tokenizer"
   ]
  },
  {
   "cell_type": "code",
   "execution_count": 43,
   "metadata": {},
   "outputs": [],
   "source": [
    "vocab_size = 10000 #the most common words in corpus\n",
    "embedding_dim = 128\n",
    "max_length_seq = 400\n",
    "trunc_type = 'post'\n",
    "padding_type = 'post'\n",
    "oov_tok = '<OOV>' #special value when unseen word is encountered, that is, a word that is not on word_index"
   ]
  },
  {
   "cell_type": "code",
   "execution_count": 44,
   "metadata": {},
   "outputs": [
    {
     "name": "stdout",
     "output_type": "stream",
     "text": [
      "{'<OOV>': 1, 'mutations': 2, 'cells': 3, '1': 4, '2': 5, 'cell': 6, '3': 7, 'et': 8, 'al': 9, 'mutation': 10}\n",
      "{'studies8': 145397, 'mgt16': 145398, 'myeloidâ': 145399, 'nervyâ': 145400, 'œsquelchâ': 145401, 'pansorb': 145402, 'sw50': 145403, 'duel': 145404, 'pah2': 145405}\n"
     ]
    }
   ],
   "source": [
    "tokenizer = Tokenizer(num_words = vocab_size, oov_token=oov_tok)\n",
    "tokenizer.fit_on_texts(training_full_df.Text_preprocessed)\n",
    "word_index = tokenizer.word_index\n",
    "print(dict(list(word_index.items())[0:10]))\n",
    "print(dict(list(word_index.items())[-10:-1]))"
   ]
  },
  {
   "cell_type": "code",
   "execution_count": 45,
   "metadata": {},
   "outputs": [],
   "source": [
    "X_train_Text_preprocessed_sequences = tokenizer.texts_to_sequences(X_train_df.Text_preprocessed)"
   ]
  },
  {
   "cell_type": "code",
   "execution_count": 46,
   "metadata": {},
   "outputs": [
    {
     "name": "stdout",
     "output_type": "stream",
     "text": [
      "6704\n",
      "400\n",
      "[3533  346    2 2846   29  396   32   37   57  126  334  161  139  689\n",
      "   68 1889  315  108   30   64   56  565 1775  158 1470  269 1029 3211\n",
      "   14 4440  108    2    1 1390  118  191  907  384 3124   78  119  205\n",
      " 9260  406 4973 2125 4572   66 1498  907  555   78 1878  408  108    2\n",
      " 2033   11  160 9044   88  145   77   37  181   50  162  406  817   31\n",
      " 3124   78 2672  883  278   78  480 1971    2 1152  293  826   81  131\n",
      "  293  826   48   78 1017 1155 1629  123  253 1589  142  247  109 1268\n",
      " 1103   91 1611  154  406   78  958  364    1  247  278 3428 5779   37\n",
      "  108   30  685  641    5  246   16  139   14   96 3395  346    2   37\n",
      "   32    4    5   28  775  126  334  481  604   14    7   22   37 5768\n",
      "   29  396   32   38   24  282    1 1754   46  346   10 1030   16   45\n",
      "   28  389   38   24   37   56   29    6   72   48   63  169    6  366\n",
      " 1003   51   60  154  346   37    2  493  266   32  744  711  720   37\n",
      "   91   30    1  139   14  355  494 2174    1 1402 1185    2  454 2698\n",
      " 1680 3497  535    2  611   92  243   43  548  215 4480   11  160   88\n",
      "  145   77  148  266 1915  139   14  110    2  179 2846   37   58   90\n",
      "  353 1933   96   82  334   57  108   30 5350   95 1123 1720 1161  315\n",
      "  334  378 1117 5048   37  174  343  266 8203   98   96  909  107  315\n",
      "  147  637 1061  278 3113  781  108  282  126   14  334   81  174  278\n",
      " 1039  155 7159 8099 1033    2   89 2174  224  147  463    1  139   14\n",
      "  265 2535  448  147  637   44  510 4588 8374 1910 2836 1723  353   37\n",
      "   10 1030   44    1 7858 8839 7920    1    1  878 1879  870  143   14\n",
      " 1872 1069  278  456   37   57   46 2907 6614  428  866   46 2049 4970\n",
      "  100  124  180  154  343  710 2092 1936 6287   14 4440   37  308  270\n",
      " 1390  275 3332  737  749 1757   66 2715  854   58   37   15 1482  372\n",
      "   50  342   36  472  199 1197 2450 1029 1020  152 2476  518 2189  203\n",
      "  300  152  179 3045    1 2511  854   78   37 4954 5016  319 6012  174\n",
      "  854 1649  345  108   30   37 2174  577 1701   19    1   30   19    1\n",
      " 1629 4954  989  594   91 1611  818    1]\n"
     ]
    }
   ],
   "source": [
    "X_train_Text_preprocessed_sequences_padded=pad_sequences(X_train_Text_preprocessed_sequences, maxlen=max_length_seq, padding=padding_type, truncating=trunc_type)\n",
    "\n",
    "print(len(X_train_Text_preprocessed_sequences[0]))\n",
    "print(len(X_train_Text_preprocessed_sequences_padded[0]))\n",
    "print(X_train_Text_preprocessed_sequences_padded[0])"
   ]
  },
  {
   "cell_type": "code",
   "execution_count": 47,
   "metadata": {},
   "outputs": [],
   "source": [
    "X_test_Text_preprocessed_sequences = tokenizer.texts_to_sequences(X_test_df.Text_preprocessed)"
   ]
  },
  {
   "cell_type": "code",
   "execution_count": 48,
   "metadata": {},
   "outputs": [
    {
     "name": "stdout",
     "output_type": "stream",
     "text": [
      "2533\n",
      "400\n",
      "[3533 1980 7336 1604 1879  311 1027   29  883  466  341 1910  216 1375\n",
      "  475   79 1250   46  101  172   61 1039 1020 1060 1174 2826  618 8232\n",
      " 4054 6508  273  172   61 3469 1699  292 1864   33 7148 1604   21  277\n",
      "   14  518 3487 1300   64  267  146  352 9900  156   25  105   24    4\n",
      " 2351  569 2613 1813  246  146  352   61  317  162 4705  689    1    1\n",
      "    1    1  690 6370 1575   25  149 2351  736 2351 3582 1345  216   70\n",
      " 6007   63  221 5181  148  743   64 1206  677   56   14 3469 1772 3167\n",
      " 2351   20  172  204 3469  162  172 1283  106 2840  101  922 2351  112\n",
      "   18 2819 1160    1 2351  172   32  457  809    3  126  168  142  907\n",
      "  258 1496 1458   29  258  133  286  721  172 3930 1551 2476  172  204\n",
      " 3469  200   44 5111  302  219  426  685 1980 7336 1604  265 1879  311\n",
      " 1027   29 1084  723  184  144    1   19 2875 3358 5196    1    1   19\n",
      " 1061 2805    1  154  405 1298  216  482 1604   21 7421    4 1598 6577\n",
      "  219   90  148  185 1605 3469   54  209 1063 6715 3446    4  200    1\n",
      " 1400  480  383  185  618  504 1604 1551  331   32  172  148  504   14\n",
      " 1060   10    1 1698   46    5  475   79   49  172  793   28  510  470\n",
      "  385 1250   46    7   19   45  315  475 9745  690    1 5453 1634  130\n",
      "   14  518 1190 3305   16   45 1548 3293  255 1495  130   33 4241   14\n",
      "  130 6635   14  518 3487 1300   51 1112  383  172   61  210 1105  793\n",
      " 5577 4462  173  444 9179    1 2068 2610  177 6508   32  690 3469 1300\n",
      "   33 2021  236    1 2351  172   32  239  457  809    3  946 2351  172\n",
      " 1967 2330  133  286  721  172 7631  128 1060  152 1551  331  172 1587\n",
      " 3469  426   48 6508   32  690 3469 2471  383   32  690 1604  196 1851\n",
      "  792  292 1864   33 7148 1604   21  277 1300   51  717 8278    1 5660\n",
      "   60 8064 1007  273  690  123  102   19    1 2694 1962   19 4246 2694\n",
      " 1962 1851  792 1441 1196  246  146  267  146 1441 1141   86   61 1324\n",
      " 1261  172   61  102 4246 2694 1962  977   32   20  250   40  342   61\n",
      "  548  304   20  141    1  318 2865  204 4246 1962  283   87  690 1796\n",
      " 1560   35  640 4583   64   40  177  107]\n"
     ]
    }
   ],
   "source": [
    "X_test_Text_preprocessed_sequences_padded=pad_sequences(X_test_Text_preprocessed_sequences, maxlen=max_length_seq, padding=padding_type, truncating=trunc_type)\n",
    "\n",
    "print(len(X_test_Text_preprocessed_sequences[0]))\n",
    "print(len(X_test_Text_preprocessed_sequences_padded[0]))\n",
    "print(X_test_Text_preprocessed_sequences_padded[0])"
   ]
  },
  {
   "cell_type": "code",
   "execution_count": 49,
   "metadata": {},
   "outputs": [],
   "source": [
    "# visualize an original (pre-processed) article, and the article after tokenization & padding\n",
    "\n",
    "reverse_word_index = dict([(value, key) for (key, value) in word_index.items()])\n",
    "\n",
    "def decode_text(text):\n",
    "    return ' '.join([reverse_word_index.get(i, '?') for i in text])"
   ]
  },
  {
   "cell_type": "code",
   "execution_count": 50,
   "metadata": {},
   "outputs": [
    {
     "name": "stdout",
     "output_type": "stream",
     "text": [
      "abstract germline mutations inactivate tumor suppressor gene brca1 associated increased risk cancers breast tissues functional consequence many missense variants found human population uncertain several predictive methods proposed distinguish cancer predisposing missense mutations harmless polymorphisms including small colony phenotype scp assay performed model organism yeast saccharomyces cerevisiae goal study evaluate colony size assay constructed 28 missense mutations throughout c terminal 305 amino acid residues brca1 mutated proteins expressed yeast evaluated using scp assay conclude yet evidence assay identify inactivating mutations upstream brct repeats however within brct repeats results assay general agreement predictions based structural modeling vitro vivo assays cross species sequence conservation thus yeast assay appears provide confirmatory vivo evidence aid characterizing brca1 missense variants introduction approximately 2 5â 5 breast cancer cases attributed germline mutations brca1 gene 1 2 also confer increased risk ovarian prostate cancer 3 4 brca1 hallmarks tumor suppressor gene wild type allele characteristically lost tumors germline mutation carriers 5 6 also transfection wild type brca1 human tumor cell lines results growth inhibition cell cycle arrest 7 8 thus germline brca1 mutations expected result gene inactivation indeed 80 brca1 sequence variants catalogued breast cancer information core bic database9 frameshift nonsense mutations resulting premature translation termination regulatory mutations splice site alterations 10 since deletion eleven c terminal amino acid residues known result predisposition breast cancer 11 mutations likely inactivate brca1 function well confirmed numerous cases 9 risk associated missense variants 350 described much difficult predict many risk individuals currently receive brca1 genetic test result ambiguous 12 cases testing samples many family members provides evidence linkage particular missense allele increased cancer risk however genetic evidence often either unavailable inconclusive half mutations reported bic single family individual noninherited breast cancer common clusters affected family members may occur chance uncertainty substantial health implications confirmed brca1 mutation carriers may elect presymptomatic interventions prophylactic mastectomy oophorectomy frequent aggressive screening 13 cancer discovered increasing evidence suggests brca1 associated tumors genetically phenotypically distinct sporadic tumors respond differently treatment 14 18 thus test series tests capable distinguishing cancer predisposing brca1 alleles neutral polymorphisms would great value despite extensive study precise biochemical function brca1 protein unclear association proteins involved dna repair transcription chromatin modification proposed play role maintenance genome integrity 19 22 role likely multi faceted making biochemical assay brca1 functionality challenging absence conclusive genetic biochemical means classification missense variants brca1 bic database listed â œunclassified variants â tentative predictions functionality made basis sequence conservation www landesbioscience com cancer biology therapy 453 species structural modeling complete sequences brca1 orthologs available chimpanzee 23 dog 24 mouse 24 rat 25 cow 26 chicken 27 african clawed frog xenopus laevis 28 alteration residues highly conserved species humans expected likely affect brca1 function comparison several additional species made internal region gene 29 structural predictions made two regions brca1 protein n terminal ring finger30 two c terminal brct domains three dimensional structures two brct domains human rat solved x ray crystallography 31 32 brct domain contains four stranded parallel î² sheet surrounded three î helices sequence alterations predicted disrupt folding one brct domains considered likely affect proteinâ function therefore diseaseassociated direct vitro biophysical measurement structural consequences missense mutations also reported 33 34 predictive methods valuable vivo assay would provide additional information shown transfected wild type brca1 decreases sensitivity ionizing radiation brca1 mouse cell line whereas disease associated missense alleles 35 missense alleles also shown affect chromatin unfolding engineered mammalian cell line 36 assays shows great promise complex results yet reported small number already classified alleles simpler assays may also contribute characterizing growing number sequence variants two vivo activities associated c terminal region brca1 identified region expressed yeast saccharomyces cerevisiae first fused dna binding domain allows transcriptional activation heterologous promoters 37 41 second confers small colony phenotype scp yeast transformants 42 growth phenotype discovered serendipitously course two hybrid experiments enhanced fusion brct domains transcription activation domain yeast gal4 sv40 large antigen nuclear localization signal expression yeast human bard1 contains two brct domains also results growth inhibition 43 upstream region brca1 amino acid residues 1293 1559 also exerts negative effect yeast growth well transcription activation function yeast mammalian cells 44 thus two yeast phenotypes may mechanistically related brca1 yeast phenotypes abolished truncations missense mutations known disease associated insensitive mutations known represent benign polymorphisms phenotypic differences result altered protein stability variants shown western blotting present equivalent amounts 37 39 42 although biochemical basis small colony phenotype yet understood manifestation appears rely expression functionally intact brca1 c terminal region apparently brct domains required since truncation c terminal domain missense mutations either abrogates phenotype therefore proposed small colony transcriptional activation phenotypes may offer simple assays predicting functional status brca1 sequence variants brct region 45 purposes experiments reported characterize scp assay evaluate potential brca1 sequence variant classification materials methods site directed mutagenesis construct desired mutation two complementary oligonucleotide primers synthesized containing required base pair change center one two alternate methods used splice overlap extension method performed described vallejo et al46 using mutagenic primers flanking primers actseq2 5â ctagcttgggtggtcatatg 3â actseq3 5â cggggtttttcagtatctacg 3â plasmid padbrca1âˆ 242 template mutated brca1 pcr product digested ecori bamhi inserted sites plasmid pact2â 42 alternatively â œquick changeâ method applied directly plasmid pad brca1âˆ 2 recommended manufactuer stratagene inc dna sequencing plasmid entire brca1 insert sequenced strands confirm presence targeted nucleotide substitution absence untargeted mutations using either abi 310 abi 377 automated dna sequencer applied biosystems inc sequences assembled using sequencher software gene codes corp yeast transformation cerevisiae strain l40 mata his3d200 trp1 901 leu2 3 112 ade2 lys2 lexaop 4 his3 ura3 lexaop 8 lacz 47 transformed using standard lithium acetate procedures48 spread synthetic yeast medium lacking leucine colonies grown approximately 48 hours 30ëšc restreaking colony size quantification two randomly selected colonies initial transformation plate restreaked incubated 30ëšc exactly 54 hours two colonies streak separately resuspended sterile distilled water using pipettor cells counted using hemocytometer results using pcr mediated site directed mutagenesis introduced 28 missense variants within c terminal 305 amino acid residues brca1 table 1 variant inserted translational fusion expression vector previously described 42 plasmid well several controls transformed yeast strain l40 47 expression scp found quite strain dependent l40 provided clearly visible distinction small large colonies fig 1 colony size determined described materials methods results presented figure 2 mutations upstream brct repeats humphrey et al 42 reported growth inhibition associated expression c terminal 213 amino acid residues 1651 1863 contain brct domains however expression longer brca1 fragment 305 c terminal residues 1559 1863 caused additional two fold reduction colony size mammalian cross species sequence conservation 92 residue region upstream brct n n terminal brct considerably lower within brct domains meaningful sequence alignment apparent human brca1 chicken xenopus orthologs 27 28 confirmed disease associated missense allele mapped region tested whether missense mutations within region could detectably alter scp one previously tested mutation p1637l 42 ten new mutations region tested shown table 1 seven eleven alleles detected humans four including double mutation lk1600 01ee selected drastically alter hydrophobic basic acidic residues conserved six sequenced mammalian orthologs shown figure 2 none eleven mutations caused significant increase size yeast colonies one mutations s1613c reported abolish transcriptional activation yeast 40 conclude results yet evidence scp assay identify inactivating missense mutations region upstream brct domains contrast least one predicted inactivating mutation mapped region using yeast transcription activation assay yeast assay brca1 missense variant characterization 454 cancer biology therapy 2004 vol 3 issue 5 www landesbioscience com cancer biology therapy 455 yeast assay brca1 missense variant characterization mutations within brct region eleven eighteen novel point mutations within brct region showed increased yeast colony size compared yeast expressing wild type brca1 indicating probable disruption brct structure function among mutations approximately 2 5 fold range colony size previouslytested control 11 residue truncation allele y1853x showed greatest difference wild type brca1 possible colony size correlates severity missense mutations study required determine correlation level cross species sequence conservation effect mutation scp striking mutations altering eight nine residues conserved eight species table 1 result abrogation scp v1653m one exception conversely mutations altering two 1652 1783 nine positions multiple residues â œallowedâ result abrogation substitutions position 1652 result opposite effects yeast transcription activation assay depending substituted residue m1652k abolishes transcription activation 38 whereas m1652i effect 40 m1652i also effect scp 42 whereas results suggest m1652k m1652t deleterious thus appears mutations position need especially carefully evaluated furthermore results scp assay eighteen alleles consistent nearly every prediction made based structural modeling vitro biophysical characterization transcription activation phenotype see allele specific references table 1 exceptions four disagreements predictions mirkovic et al 49 based set structure based rules d1739e m1783t v1833m predicted rules likely benign replacements whereas scp assay indicates possible functional structural defects conversely structure based algorithm predicts deleterious effect v1804d mutation shows similar scp wild type brca1 particular interest modest aspartate glutamate substitution residue 1739 two brct repeats although human crystal structure region residue unresolved 31 corresponding region rat structure shows short î² sheet predicted stabilize interface two brct repeats 32 determination structural consequences modest substitution may reveal basis effect scp resolve status likely disease association discussion results suggest structural integrity brct region approximately c terminal 213 amino acid residues brca1 critical determinant yeast scp assay none tested missense mutations 92 residue region upstream brct c including ones affecting conserved positions one abolishes transcription activation yeast mammalian cells detectable effect growth thus yet evidence scp assay may useful characterizing variants upstream residue 1652 within brct region mutations abolish scp interspersed effect seven mutations five positions display scp similar wild type brca1 one v1653m alter residues incompletely conserved orthologs eight vertebrate species fact three result substitution residue allowed another species corresponding position t1720i v1804a p1806a one exception v1804d49 scp assay predictions alleles consistent available predictions thus evidence favors assignment variants benign polymorphisms however amino acid substitutions may affect functional attributes detectable scp assay therefore figure 1 relative colony sizes yeast strain l40 transformed various plasmids individual transformants restreaked sectors plate incubated 30ëšc 54 hours clockwise starting top pad brca1âˆ 2 wild type g1788v k1601e pact2â vector figure 2 quantification colony sizes number cells per yeast colony transformed vector pact2â pad brca1âˆ 2 wild type brca1 brca1 plasmid carrying indicated mutation error bars indicate standard deviation value characterizing polymorphisms uncertain elucidation biochemical basis scp relation brca1â function human cells may help clarify issue contrast identified eleven variants nine positions within brct n brct c interval alleviate scp eleven affect residues completely conserved brca1 genes eight vertebrates two exceptions m1652 m1783 substituted chicken 27 predicted various means disrupt folding function brct domain thus scp assay provides confirmatory vivo evidence deleterious nature mutations although caution must exercised applying results directly clinical decision making conclude yeast scp assay may useful conjunction information evaluate selected alleles confirmation potential value scp assay highlights need understand biochemical basis understanding table 1 mutations characterized study secondary structure predicted structural references functional mutation allowed residues detected humans consequences predictions upstream brct l1600e l n unknown k1601e k n â œ lk1600 01ee lk n â œ k1606e q k r â œ a1608v e â œ s1613c n â œ 40 a1615d n â œ m1628v v r â œ m1628t v r â œ p1637l p â œ 42 a164it â œ brct region m1652t f adjacent î² sheet 1 brct n 32 40 50 m1652k f n â œ 32 38 40 49 50 v1653m v â œ 49 50 s1655f â œ 50 t1720a v î helix 3 brct n 38 49 50 t1720i v n â œ 38 49 50 v1736a v brct domains 38 49 d1739e â œ 49 d1739g â œ 49 50 m1775r î helix 1 brct c 31 34 36 37 40 49 51 surface disrupts interface m1783t î helix 1 brct c 34 49 51 intrahelical destabilizes fold g1788v g loop î helix 1 32 34 44 49 51 î² sheet 2 brct c incorrect folding v1804a v n loop î² 51 sheets 2 3 brct c v1804d v â œ 49 51 p1806a p l â œ 38 49 50 v1808a v î² sheet 3 brct c 34 49 51 destabilizes fold v1810g v â œ 49 50 n1819y n r n î helix 2 brct c 49 51 v1833m v î² sheet 4 brct c 34 38 49 51 destabilizes fold y1853x 11 residue truncation italicized underlined abrogate small colony phenotype thus predicted negatively affect brca1 structure function upstream brct allowed residues mammals within brct region allowed residues mammals chicken xenopus reference provides information different substitution residue adjacent insertion yeast assay brca1 missense variant characterization 456 cancer biology therapy 2004 vol 3 issue 5 www landesbioscience com cancer biology therapy 457 define limits assayâ usefulness may also shed light normal function brca1 human cells abstract brca1 gene individuals risk breast ovarian cancers screened presence mutations however cancer association alleles carrying missense mutations unknown thus creating significant problems genetic counseling increase ability identify cancer associated mutations brca1 set use principles protein three dimensional structure well correlation cancer associated mutations abolish transcriptional activation thirty one 37 missense mutations known impact transcriptional activation function brca1 readily rationalized structural terms loss function mutations involve nonconservative changes core brca1 c terminus brct fold localized groove presumably forms binding site involved transcriptional activation brca1 mutations abolish transcriptional activation either conservative changes core surface outside putative binding site next structure based rules predicting functional consequences given missense mutation applied 57 germ line brca1 variants unknown cancer association structure based approach may helpful integrated effort identify mutations predispose individuals cancer introduction many germ line mutations human brca1 gene associated inherited breast ovarian cancers 1 2 information allowed clinicians genetic counselors identify individuals high risk developing cancer however disease association 350 missense mutations remains unclear primarily relatively low frequency ethnic specificity limit usefulness population based statistical approaches identifying cancer causing mutations address problem use three dimensional structure human brca1 brct domains assess transcriptional activation functions brca1 mutants study made possible recently determined sequences 3 4 5 6 three dimensional structures brca1 homologs 7 8 addition benefited prior studies attempted rationalize predict functional effects mutations various proteins 9 10 11 12 including brca1 13 14 brca1 nuclear protein activates transcription facilitates dna damage repair 15 16 tandem brct domains cooh terminus brca1 involved several functions including modulation activity several transcription factors 15 binding rna polymerase ii holoenzyme 17 activating transcription reporter gene fused heterologous dna binding domain 18 19 importantly cancer associated mutations brct domains benign polymorphisms inactivate transcriptional activation binding rna polymerase ii 18 19 20 21 observations suggest abolishing transcriptional activation function brca1 leads tumor development provides genetic framework characterization brca1 brct variants materials methods multiple sequence alignment msa orthologous brca1 brct domains seven species including homo sapiens genbank accession number u14680 pan troglodytes af207822 mus musculus u68174 rattus norvegicus af036760 gallus gallus af355273 canis familiaris u50709 xenopus laevis af416868 obtained using program clustalw 22 contains one gapped position supplementary fig 1 according psi blast 23 latter six sequences sequences nonredundant protein sequence database national center biotechnology information 30 90 sequence identity human brca1 brct domains residues 1649â 1859 multiple structure based alignment native structures brct like domains obtained salign command modeller supplementary fig 2 included experimentally determined structures two human brca1 brct domains protein data bank code 1jnx refs 8 24 rat brca1 brct domains 1l0b ref 7 human p53 binding protein 1kzy ref 7 human dna ligase iiiî 1imo ref 25 human xrcc1 protein 1cdz ref 13 structure variability defined root mean square deviation among superposed cî positions calculated compare command modeller purpose calculations gain insight variability surface exposed residues left panel fig 2 â conjunction observed mutation clustering data may point putative functional site surface brct repeats comparative protein structure modeling satisfaction spatial restraints implemented program modeller 6 26 used produce three dimensional model 94 mutants crystallographic structure human wild type brca1 brct domains used template modeling 8 four residues missing crystallographic structure 1694 1817â 1819 modeled de novo 27 models available brca1 model set deposited modbase database comparative protein structure models 28 6 native structure human brct tandem repeat 94 mutant models number sequence structure features calculated features used classification tree fig 3 â values 94 mutations given supplementary tables 1 2 buriedness accessible surface area amino acid residue calculated program dssp 29 normalized maximum accessible surface area corresponding amino acid residue type residue considered exposed accessible surface area larger 40ã 2 relative accessible surface area larger 9 buried otherwise mutation exposed residue less likely change structure therefore function functional site putative functional site visually assigned surface groove contains deleterious mutants fig 2 â consists residue positions accessible surface area 9 follows 1654â 1657 1659 1662 1663 1666 1676 1678 1698â 1702 1773 1774 1811â 1813 1834 1836 mutation functional site likely abolish function residue rigidity residue isotropic temperature factor b factor mean atomic b factors determined x ray crystallography native structure also normalized mean standard deviation sd residue b factors protein chain mutation less rigid residue buried position less likely change structure therefore function neighborhood rigidity neighborhood residue defined residues least one atom within 5ã atom central residue neighborhood b factor residue defined mean value b factors residues neighborhood also normalized mean sd neighborhood b factors neighborhoods size mutation buried residue less rigid neighborhood less likely change structure therefore function volume change volume change defined solely type residue substitution 30 large change volume amino acid residue type considered destabilizing structure therefore function especially buried rigid position charge change charge change defined solely type residue substitution 30 mutations corresponding changes charge buried positions likely change structure therefore function polarity change polarity change defined solely type residue substitution amino acid residue types classified three classes according hydrophobicity 0 embedded image lifwcmvy 1 embedded image patgs 2 embedded image hqrkned 30 mutations corresponding changes polarity buried positions likely change structure therefore function mutation likelihood mutation likelihood residue substitution given msa position reflects â œbackgroundâ substitution probabilities blosum62 matrix well actually observed substitutions given position msa brca1 brct orthologs supplementary fig 1 refs 4 5 6 9 31 scores centered zero negative values corresponding less likely substitutions unlikely mutations likely change structure function phylogenetic entropy sequence variability defined every column msa brca1 brct orthologs supplementary fig 1 î p ln p p observed relative frequency residue type fig 2 â right panel mutations evolutionarily conserved positions likely change structure function helix turn breaker secondary structure assignment calculated dssp 29 â œhelix breakerâ mutation defined mutation glycine proline residues helical position â œturn breakerâ mutation defined replacement glycine proline residues turn position visualization analysis mutations facilitated program dino 7 transcriptional assays testing predictions performed described previously 21 wild type brca1 sequence residues 1396â 1863 fused frame lexa dna binding domain used wild type control introducing mutations m1775r y1853x m1689r w1718c site directed mutagenesis egy48 yeast cells cotransformed constructs prb1840 contains lacz reporter gene control lexa operator tested liquid î² galactosidase assays mammalian transcription assays brca1 constructs subcloned frame gal4 dna binding domain pcdna3 gal4 dna binding domain fusion constructs cotransfected human 293t cells pg5luc contains firefly luciferase gene control five gal4 binding sites reporter assay transfections normalized internal control phrg tk promega contains renilla luciferase gene constitutive thymidine kinase basal promoter results discussion tabulated total 94 missense mutations human brca1 brct domains tables 1 â 2 â fig 1 â mutations occurred naturally obtained via random mutagenesis transcriptional activation function 37 94 mutants tested fig 1 â rows 1 2 eight 37 mutants could tentatively classified either cancer associated benign following established genetic criteria ref 32 fig 1 â columns 1 2 basis classification outlined table 1 â fig 1 download figureopen new tabdownload powerpoint fig 1 classification 94 missense mutations human brca1 brct domains analyzed study mutants divided groups depending information cancer association transcriptional activation function tables 1 â 2 â mutations solvent exposed positions underlined â œmaterials methodsâ view inlineview popup table 1 functionally characterized missense mutations human brca1 brct domains amino acid residues 1652â 1855 view inlineview popup table 2 prediction cancer phenotype 57 functionally uncharacterized missense mutations human brca1 brct domains eight mutations intact transcriptional activation function evidence cancer association frequency control population equal higher cancer cases absence co segregation least one family fig 1 â row 2 table 1 â conversely none 29 tested mutations without transcriptional activation function thought benign following criteria fig 1 â row 2 table 1 â ref 32 observations indicate tumor suppression brca1 correlates ability activate transcription first rationalized functional consequences 37 tested mutations terms impact folding stability native structure terms integrity binding sites brct domains next used experience develop generic rules prediction functional impact missense mutation applied rules remaining 57 functionally uncharacterized mutations listed fig 1 â table 2 â tested two predictions functional assays segregation analysis missense mutations brca1 likely affect transcriptional activation either one following two ways exposed solvent may substantially change structure chemical nature functional sites bind molecules b buried core may prevent folding brct domains native fold less likely affect structure functional sites 37 mutations including 8 fig 1 â row 2 29 mutations fig 1 â row 1 without transcriptional activation function respectively mapped onto crystallographic structure human brca1 brct domains ref 8 fig 2 â addition structural mapping produced three dimensional protein structure model mutant calculated number sequence structure features â œmaterials methodsâ used feature values changes wild type mutant rationalize observed effect transcriptional activation table 1 â supplementary table 1 fig 2 download figureopen new tabdownload powerpoint fig 2 missense mutations surface human brca1 brct domains solvent exposed residues mutations known affect affect transcriptional activation activity brca1 contoured red yellow respectively fig 1 â remaining exposed mutation known functional impact p1806a hidden face structure conservation structure â œmaterials methods â supplementary fig 2 sequence see phylogenetic entropy â œmaterials methodsâ supplementary fig 1 indicated intensity blue left right panels respectively region violet left panel corresponds linker two domains nh2 cooh termini tandem domains marked right panel markedly reduced transcriptional activation activity 29 mutations fig 1 â row 1 readily explained likely disruption structure brct domain binding sites involved transcriptional activation twenty three 29 mutations occur buried positions involve amino acid residue types dissimilar charge hydrophobicity size secondary structure propensity fig 1 â row 1 underlined thus expected disrupt structure therefore function remaining six mutations resulting reduced transcriptional activation exposed fig 1 â row 1 underlined among six mutations r1699w r1699q replace conserved residue involved salt bridge brct repeats 8 another one six mutations g1743r occurs position absolutely conserved among available orthologs supplementary fig 1 remaining three exposed mutations abolish transcription propose disrupt interactions brca1 ligand located groove formed brct repeats l1657p k1702e ridge delimits groove e1660g suggest clustering residues single patch surface brca1 highlights binding site integrity necessary transcription moreover putative binding site relatively conserved sequence structure among brca1 homologs fig 2 â â œmaterials methodsâ results agreement vitro binding studies determined binding site brca1 rna polymerase holoenzyme via rna helicase 17 nonconservative substitutions amino acid residues comprise putative binding site also likely affect transcriptional activation existence functional region indicates tandem brct repeats comprise one structural functional unit accordance previous conclusions 7 lack impact eight mutations disrupt transcriptional activation function fig 1 â row 2 also rationalized structural terms three exposed face away putative binding site proposed whereas remaining five mutations conservative changes core fold table 1 â fig 2 â five mutations g1706a s1715n f1761i m1775v a1843t total set 37 impact transcriptional activation function known could readily explained possible reasons inability explain mutants discussed detail supplementary table 3 straightforward use three dimensional structure brca1 domains rationalize known functional impact 32 37 mutations derived set rules predicting whether given mutation inactivates transcriptional activation therefore correlates predisposition cancer rules rely sequence structural features proved informative explaining presence absence functional impact tested mutations example structural neighborhood around mutated residue rigid mutation introduce large change 30a3 side chain volume mutation likely destabilize distort local conformation thus effect function protein contrast flexible structural neighborhood expected accommodate substitution without major perturbations structure moreover rules allow possibility large changes side chain volume 90a3 significant effect even flexible neighborhood rules encoded hierarchically â œclassification treeâ scheme fig 3 â implemented web 8 fig 3 download figureopen new tabdownload powerpoint fig 3 classification tree annotating given missense mutation human brca1 brct domains classification begins top start ends one â œ â â œ â leaves â œ â â œ â indicate mutants intact benign abolished transcriptional activation function cancer associated respectively classification tree correctly rationalizes 32 37 functionally characterized variants table 1 â tree also applied 57 mutants yet characterized experiment table 2 â see â œmaterials methodsâ supplementary material detailed description features using classification tree predicted functional consequences 57 missense mutations brct domains presently lack definitive information cancer association breast cancer information core database 9 table 2 â supplementary table 2 prediction algorithm assigned functional impact 32 mutants whereas 25 predicted benign validate predictions tested prospectively two mutants fig 4 b â segregation data available w1718c mutation found family three generations affected women diagnosed either early onset vus clear m18t c 53t c vus deleterious 185delag c 68 69delag deleterious control deleterious b k45q c 133a c vus neutral c61g c 181t g deleterious control deleterious c64g c 190t g vus deleterious b d67y c 199g vus neutral y105c c 314a g neutral control neutral n132k c 396c vus neutral p142h c 425c vus neutral l147f c 441g c vus neutral l165p c 494t c vus neutral r170w c 508c vus neutral s186y c 557c vus neutral v191i c 571g vus neutral t231m c 692c vus neutral d245v c 734a vus neutral l246v c 736t g vus neutral v271l c 811g c vus neutral s308a c 922a g c 923g c artifi cial h clear l358r c360r e362h c 1073t g c 1078t c c 1084g c c 1086g artifi cial neutral l668f c 2002c vus neutral d695n c 2083g vus neutral p798l c 2393c vus neutral n810y c 2428a vus neutral t826k c 2477c vus neutral continued downloaded cancerdiscovery aacrjournals org may 26 2017 â 2013 american association cancer research published onlinefirst july 18 2013 doi 10 1158 2159 8290 cd 13 0094 october 2013cancer discoveryâ â 1147 functional analysis brca1 sequence variants research article continued variant dna change type mutation classifi cation r841q c 2522g vus neutral y856h c 2566t c vus neutral r866c c 2596c neutral control neutral s988a c 2962t g artifi cial neutral m1008i c 3024g vus neutral e1060a c 3179a c vus neutral s1101n c 3302g vus neutral k1110del c 3328 3330delaag vus neutral s1140g c 3418a g vus neutral e1214k c 3640g vus neutral n1236k c 3708t g vus neutral e1250k c 3748g neutral control neutral l1267s c 3800t c vus neutral e1282v c 3845a vus neutral s1297del c 3891 3893delttc vus neutral s1301r c 3903t vus neutral e1346k c 4036g vus neutral v1378i c 4132g vus neutral m1400v c 4198a g vus neutral l1407p c 4220t c vus neutral b m1411t c 4232t c vus neutral r1443g c 4327c g vus neutral s1448g c 4342a g vus neutral s1486c c 4456a vus neutral s1497a c 4489t g artifi cial neutral v1534m c 4600g vus neutral r1589p c 4766g c vus neutral m1628t c 4883t c vus neutral s1651p c 4951t c vus clear s1651f c 4952c vus clear m1652i c 4956g vus neutral s1655f c 4964c vus deleterious b h1686r c 5057a g vus deleterious h1686q c 5058t vus deleterious v1688del c 5062 5064delgtt vus deleterious t1691i c 5072c vus clear r1699w c 5095c deleterious control deleterious b r1699q c 5096g vus deleterious b g1706e c 5117g vus deleterious b g1706a c 5117g c vus neutral a1708e c 5123c deleterious control deleterious w1718c c 5154g vus deleterious t1720a c 5158a g vus neutral e1735k c 5203g vus clear table 1 â functional classifi cation brca1 vus based cisplatin response continued downloaded cancerdiscovery aacrjournals org may 26 2017 â 2013 american association cancer research published onlinefirst july 18 2013 doi 10 1158 2159 8290 cd 13 0094 1148â â cancer discovery october 2013 www aacrjournals org research article bouwman et al fig 3 variants showing increased cisplatin sensitivity tested least twice classifi ed positive negative controls classifi ed expected although known pathogenic truncation mutation 5382insc scored neutral one three assays stressing need repeat experiments also brca1 variants previously tested assays conducted expected noted artifi cial variants s308a s1497a rescued proliferation cisplatin responses mouse brca1 defi cient embryonic stem cells bac complementation assays predicted deleterious based effects embryonic stem cell differentiation response î³ irradiation respectively 7 v1804d mutation scored neutral variant assay line published data 8 9 except results embryonic stem cellâ based bac complementation assay 7 brca1 mutations classifi ed deleterious confi ned regions encoding conserved n c terminal domains fig 4 despite observation deletion central region encoded exon 11 leads genetic instability mice 12 remarkably three mutations diminish interaction brca1 palb2 10 c terminal region encoded exon 11 effect cisplatin sensitivity assay note general good correlation classifi cation align gvgd score supplementary table s4 notable exceptions neutral control variant r866c validated assay scored likely deleterious c65 using align gvgd g1770v scored likely neutral c0 align gvgd classi fi ed deleterious assay assay also classifi ed variants align gvgd scores less clear emphasizing usefulness functional assays complement silico analysis also analyzed possible effects brca1 variants mrna splicing may deleterious consequences cannot assessed cdna based assay predictive value exonic variants outside consensus splice sites questionable 19 20 four missense mutations present existing splice sites supplementary table s4 although c 5154g encoding w1718c deleterious three variants classifi ed neutral assay one c 441g c encoding l147f increased probability damage splice donor site exon 7 another variant c 5072c encoding t1691i might also affect splicing defect measured blood samples mutation carriers 19 third exonic splice site mutation classifi ed neutral cisplatin sensitivity assay c 133a c k45q predicted lead aberrant splicing results proliferation cisplatin sensitivity assays correlate hr activity brca1 variants brca1 brca2 involved dna repair via hr 12 21 together non homologous end joining nhej hr forms cellular defense dna double strand breaks dsb severe type dna damage lethal unrepaired although hr essentially error free nhej error prone therefore defects hr known lead genomic instability although clear whether variant dna change type mutation classifi cation v1736a c 5207t c vus clear b d1739g c 5216a g vus deleterious d1739v c 5216a vus deleterious h1746q c 5238c g vus clear r1753t c 5258g c vus clear b 5382insc c 5266dupc deleterious control clear b l1764p c 5291t c vus deleterious b c1767s c 5300g c vus neutral g1770v c 5309g vus deleterious b w1782c c 5346g vus neutral a1789t c 5365g vus deleterious e1794d c 5382g c vus neutral v1804d c 5411t vus neutral p1812r c 5435c g vus neutral w1837r c 5509t c vus deleterious h1862l c 5585a vus neutral type mutation indicates variant vus according bic database http research nhgri nih gov bic b functionally impaired dr gfp combined parp inhibitor cisplatin sensitivity assay table 1 â functional classifi cation brca1 vus based cisplatin response continued downloaded cancerdiscovery aacrjournals org may 26 2017 â 2013 american association cancer research published onlinefirst july 18 2013 doi 10 1158 2159 8290 cd 13 0094 october 2013cancer discoveryâ â 1149 functional analysis brca1 sequence variants research article figure 3 â waterfall chart cisplatin ic 50 values normalized wild type human brca1 empty rmce vector controls corrected cisplatin ic 50 values tested human brca1 variants controls including repeat experiments brca1 variants classifi ed functionally impaired neutral corrected ic 50 values similar either empty rmce vector wild type human brca1 controls p 65 protein remaining 10 î¼g ml trypsin digestion based criteria 26 117 missense mutations showed high sensitivity tryptic digestion 30 117 showed intermediate sensitivity 61 117 showed stability indistinguishable wild type supplementary figs s2a s3 also noted c1697r mutant showed particularly low protein expression level analysis phosphopeptide binding activity brct missense variants brca1 brct domain interacts bach1 several proteins selective recognition peptide motif pser x x phe 10â 14 44 mutations strongly linked disease using family based data a1708e m1775r 1 35 fail bind specifically pser x x pheâ containing peptides shown pilot study analyzed peptide binding activities 25 brca1 brct domain variants 14 indicates functional importance brca1 brct domain phosphopeptidebinding module tumor suppression examined ability brct domains containing missense variants bind peptides derived bach1 using pull assay biotinylated peptide bound streptavidin beads tested binding phosphorylated version peptide containing brca1 target sequence pser pro thr phe unphosphorylated version control results compared experiments wild type brca1 brct well peptide bindingâ deficient variants a1708e m1775r carried parallel present two analyses data first analysis define â œbinding activityâ fraction input protein bound phosphorylated peptide normalized binding wild type protein supplementary fig s2b second analysis define â œbinding specificityâ ratio variant bound phosphopeptide compared nonphosphorylated counterpart normalized wildtype control supplementary fig s2c classified way observed range binding activities specificities observed protein stability assays variants tended cluster near either 100 0 activity relatively variants displaying intermediate binding activities specificities supplementary fig s3 thirty eight 117 variants displayed binding activities 80 wild type levels whereas 35 117 variants displayed binding activities 80 wild type levels whereas 50 117 variants exhibited 80 wild type whereas 54 117 found 59 wild type phosphopeptide lee et al page 6 cancer res author manuscript available pmc 2011 june 15 nih pa author manuscript nih pa author manuscript nih pa author manuscript binding activities 67 wild type phosphopeptide specificity binding activities 49 wild type transcriptional activation function 76 wild type levels variants falling limits defined uncertain using limits defined structure functional activities variants fig 3 comparison results different assays overall classification next compared results different assays entire set variants fig 3 64 117 54 7 variants complete concordance different assays 35 117 29 9 giving protein stability peptide binding transcription activities within limits correspond neutral variants iarc classes 1 2 whereas 29 117 24 8 exhibited values range corresponding cancer associated iarc classes 4 5 variants assays based results classified variants groups based functional effect table 2 although classification straightforward variants complete agreement different assays variants complete agreement classification complex largest class discordant results includes variants exhibit defects binding transcription little folding defect 6 117 variants 5 1 variants likely directly affect phosphopeptide binding surface may affect residues exposed solvent preserving overall fold structure phosphopeptide recognition critical tumorsuppressive function brca1 14 48 therefore included variants strong functional effect class likewise severely destabilized variants show significant levels phosphorylation independent peptide binding strong transcriptional defect also categorized strong functional effect table 2 also described eight variants â œmoderate functional effectâ preponderance data points loss function include variants intermediate levels peptide binding specificity w1837g a1843p transcriptional activity v1696l g1706e h1746n strong defects assays addition included three additional mutants group show poor agreement different assays likely directly affect peptide binding surface s1655f predicted impede recognition phosphoserine bound peptide whereas g1656d could perturb structure phosphoserine binding pocket introduction negatively charged side chain region would expected inhibit phosphopeptide recognition r1699l would remove critical determinant recognition phenylalanine residue 3 position phosphopeptide indeed similar r1699w variant pathogenic iarc class 5 table 1 predict given variant neutral assays gives values similar wild type within limits defined comparison set variants characterized family history genetic data addition define set seven variants â œlow functional effectâ display intermediate activity one assays wild type levels three finally group 25 variants 21 4 define â œuncertain â general variants show poor level agreement different assays significant number assay results intermediate range correlation mutant classification predictions align gvgd align gvgd method http agvgd iarc fr agvgd input php uses protein multiple sequence alignment pmsa data provide cancer risk estimates brca1 mutations 33 method missense variant classified based observed amino acid lee et al page 7 cancer res author manuscript available pmc 2011 june 15 nih pa author manuscript nih pa author manuscript nih pa author manuscript fluctuation position pmsa grantham variance gv well comparison amino acid substitution range amino acids observed position grantham difference gd way seven classes variants c0 c15 c25 c35 c45 c55 c65 represent graded series gv gd scores defined variants c0 class correspond variants well conserved pmsa therefore predicted neutral whereas c65 class contains missense variants deviate pmsa likely associated increased cancer risk assess accuracy align gv gd method compared align gv gd scores results structure function assays fig 4 variants functional effect large majority 28 35 80 falls c0 class three classified c15 two classified c25 one g1706a received high score align gv gd c55 another variant position g1706e scored c65 variant classified moderate functional effect structure function assays results suggest substitution small side chain position 1 706 tolerated substitution larger charged glu variants strong functional effect 25 42 59 5 c65 class 16 spread throughout classes c15 c55 fig 4b one missense variant a1752p classified c0 variant shows strong defect assays substitution proline position 1 752 likely destabilizes linker î helix may responsible strong folding defect associated variant overall strong agreement align gv gd predictions results functional assays indicating sequence alignmentâ based predictive methods offer valuable measure risk assessment variants direct functional data discussion present first comprehensive assessment structural functional consequences 117 brca1 variants corresponding complete set brct missense variants detected date human population 100 coverage protein structure assay peptide binding transcriptional assays show remarkable degree agreement give us confidence validity results correlation experimental data available clinical family history data subset variants defines limits used tentatively predict functional effect likely reflected disease risk associated variants way show 42 7 variants fall â œclear functional effectâ â œmoderate functional effectâ categories table 2 likely associated increased cancer risk whereas 35 9 fall â œno functional effectâ â œlow functional effectâ categories remaining 21 4 falls uncertain category could perhaps represent low penetrance variants fact large proportion variants tested displayed functional effect lends support idea applying higher prior probabilities causality variants found brct domains 35 brca1 brct variant set provides useful set reagents detailed study variants particular interest example variants moderately well folded based proteolytic stability often purified studied detail circular dicroism spectroscopy differential scanning calorimetry used quantitatively assess fold stability v1696l r1699w m1775k m1775r m1783t v1808a v1809f v1833m 49â 51 although proteolytic assay indicated stability two variants r1699w v1808a indistinguishable wild type sensitive thermodynamic studies purified forms variants reveal small significant reduction fold stability addition quantitative assays phosphopeptide binding isothermal titration calorimetry reveal detailed thermodynamics peptide brct interactions 50 51 structural rearrangements induced three variants m1775r 47 m1775k 37 v1809f 14 visualized lee et al page 8 cancer res author manuscript available pmc 2011 june 15 nih pa author manuscript nih pa author manuscript nih pa author manuscript crystallographic structural analysis variants affect 3 specificity pocket formed interface two brct repeats m1775r m1775k substituted positively charged side chain adopts orientation fills specificity pocket blocks binding phe side chain 3 position target peptide intriguingly v1809f substitution occurs far 3 pocket induces series conformational adjustments results movement met1775 fill specificity pocket explaining loss peptide binding specificity transcriptional activity associated variant nonsynonymous single nucleotide polymorphisms snp lead amino acid substitutions likely diverse phenotypic consequences implications human disease although computational methods proposed assess effect individual snps 52 relatively little done experimental level provide insight effects snps database brca1 brca2 mutations provides important first look kind genetic diversity exists human population another example large mutation database assembled mutations found p53 human tumors detailed studies stability p53 dna binding domain indicate like brca1 brct domain relatively unstable domain sensitive mutations destabilize protein fold addition classes mutations significantly affect protein fold stability instead modify dna binding proteinprotein interaction surfaces 53 thus rapid general assays protein structure function proteolysis assay used could potentially prove useful rapid high throughput assessment effect snps protein function ultimately unambiguous classification variants proposed iarc unclassified genetic variants working group 41 need comprehensive integrative model incorporate data several sources robust integrative models proposed still lack coherent framework incorporate functional data major roadblock development model lack established series functional assays standardized controls validated available genetic data present study fills gap allows development better predictive models although systematic large scale classification brca1 variants iarc classes yet done expected large number fall class 3 uncertain due lack genetic based data conceivably even large scale efforts may able gather sufficient genetic data individual variants extremely rare thus anticipate use structural functional information instrumental move variants class 3 classes provide basis better risk assessment clinical decisions addition fact variants also functionally structurally rationalized provide impulse functional dissection tumor suppressive activities brca1 :( :(\n"
     ]
    }
   ],
   "source": [
    "print(X_train_df.Text_preprocessed[0])"
   ]
  },
  {
   "cell_type": "code",
   "execution_count": 51,
   "metadata": {},
   "outputs": [
    {
     "name": "stdout",
     "output_type": "stream",
     "text": [
      "abstract germline mutations inactivate tumor suppressor gene brca1 associated increased risk cancers breast tissues functional consequence many missense variants found human population uncertain several predictive methods proposed distinguish cancer predisposing missense mutations <OOV> polymorphisms including small colony phenotype scp assay performed model organism yeast saccharomyces cerevisiae goal study evaluate colony size assay constructed 28 missense mutations throughout c terminal 305 amino acid residues brca1 mutated proteins expressed yeast evaluated using scp assay conclude yet evidence assay identify inactivating mutations upstream brct repeats however within brct repeats results assay general agreement predictions based structural modeling vitro vivo assays cross species sequence conservation thus yeast assay appears provide <OOV> vivo evidence aid characterizing brca1 missense variants introduction approximately 2 5â 5 breast cancer cases attributed germline mutations brca1 gene 1 2 also confer increased risk ovarian prostate cancer 3 4 brca1 hallmarks tumor suppressor gene wild type allele <OOV> lost tumors germline mutation carriers 5 6 also transfection wild type brca1 human tumor cell lines results growth inhibition cell cycle arrest 7 8 thus germline brca1 mutations expected result gene inactivation indeed 80 brca1 sequence variants <OOV> breast cancer information core bic <OOV> frameshift nonsense mutations resulting premature translation termination regulatory mutations splice site alterations 10 since deletion eleven c terminal amino acid residues known result predisposition breast cancer 11 mutations likely inactivate brca1 function well confirmed numerous cases 9 risk associated missense variants 350 described much difficult predict many risk individuals currently receive brca1 genetic test result ambiguous 12 cases testing samples many family members provides evidence linkage particular missense allele increased cancer risk however genetic evidence often either unavailable inconclusive half mutations reported bic single family individual <OOV> breast cancer common clusters affected family members may occur chance uncertainty substantial health implications confirmed brca1 mutation carriers may <OOV> presymptomatic interventions prophylactic <OOV> <OOV> frequent aggressive screening 13 cancer discovered increasing evidence suggests brca1 associated tumors genetically phenotypically distinct sporadic tumors respond differently treatment 14 18 thus test series tests capable distinguishing cancer predisposing brca1 alleles neutral polymorphisms would great value despite extensive study precise biochemical function brca1 protein unclear association proteins involved dna repair transcription chromatin modification proposed play role maintenance genome integrity 19 22 role likely multi <OOV> making biochemical assay brca1 functionality challenging absence conclusive genetic biochemical means classification missense variants brca1 bic database listed â <OOV> variants â <OOV> predictions functionality made basis sequence conservation www <OOV>\n"
     ]
    }
   ],
   "source": [
    "print(decode_text(X_train_Text_preprocessed_sequences_padded[0]))"
   ]
  },
  {
   "cell_type": "markdown",
   "metadata": {},
   "source": [
    "### Predict classes based on 'Text' ONLY: Build Keras Sequential AND Functional models using LSTM RNN layer, within a Bidirectional wrapper"
   ]
  },
  {
   "cell_type": "code",
   "execution_count": 52,
   "metadata": {},
   "outputs": [],
   "source": [
    "# SEQUENTIAL API ('Text')"
   ]
  },
  {
   "cell_type": "code",
   "execution_count": 53,
   "metadata": {},
   "outputs": [
    {
     "name": "stdout",
     "output_type": "stream",
     "text": [
      "Model: \"sequential\"\n",
      "_________________________________________________________________\n",
      "Layer (type)                 Output Shape              Param #   \n",
      "=================================================================\n",
      "embedding (Embedding)        (None, None, 128)         1280000   \n",
      "_________________________________________________________________\n",
      "bidirectional (Bidirectional (None, 256)               263168    \n",
      "_________________________________________________________________\n",
      "dense (Dense)                (None, 128)               32896     \n",
      "_________________________________________________________________\n",
      "dropout (Dropout)            (None, 128)               0         \n",
      "_________________________________________________________________\n",
      "dense_1 (Dense)              (None, 9)                 1161      \n",
      "=================================================================\n",
      "Total params: 1,577,225\n",
      "Trainable params: 1,577,225\n",
      "Non-trainable params: 0\n",
      "_________________________________________________________________\n"
     ]
    }
   ],
   "source": [
    "model_seq_Text = tf.keras.Sequential([\n",
    "    # embedding layer expecting input vocab of size 10000, and output embedding dimension of size 128\n",
    "    tf.keras.layers.Embedding(input_dim=vocab_size, output_dim=embedding_dim),\n",
    "    # bidirectional wrapper on a single LSTM RNN layer, to run essentially run two layers on same inputs, one reading tokens\n",
    "    # left-to-right and the other right-to-left. then simply combine (concatenate) their outputs at each time step.\n",
    "    tf.keras.layers.Bidirectional(tf.keras.layers.LSTM(units=embedding_dim,return_sequences=False),merge_mode='concat'),\n",
    "    tf.keras.layers.Dense(units=embedding_dim, activation='relu'),\n",
    "    tf.keras.layers.Dropout(0.4),\n",
    "    # final dense layer with softmax activation to predict probability of each class\n",
    "    tf.keras.layers.Dense(units=9, activation='softmax')\n",
    "])\n",
    "\n",
    "model_seq_Text.summary()\n",
    "\n",
    "# observe the Bidirectional wrappers Output Shape as (None, embedding_dim*2)"
   ]
  },
  {
   "cell_type": "code",
   "execution_count": 54,
   "metadata": {},
   "outputs": [
    {
     "name": "stdout",
     "output_type": "stream",
     "text": [
      "(2656, 1)\n",
      "(665, 1)\n"
     ]
    }
   ],
   "source": [
    "# reshape labels to expected into one-column arrays\n",
    "y_train_array=np.reshape(np.array(y_train),(len(y_train),1))\n",
    "y_test_array=np.reshape(np.array(y_test),(len(y_test),1))\n",
    "\n",
    "print(y_train_array.shape)\n",
    "print(y_test_array.shape)"
   ]
  },
  {
   "cell_type": "code",
   "execution_count": 55,
   "metadata": {},
   "outputs": [],
   "source": [
    "# the Dense 9-unit 'softmax' layer will compare against [0:8]\n",
    "# thus need to re-assign (subtract 1) the [1:9] label integers accordingly\n",
    "y_train_array=y_train_array-1\n",
    "y_test_array=y_test_array-1"
   ]
  },
  {
   "cell_type": "code",
   "execution_count": 56,
   "metadata": {},
   "outputs": [
    {
     "name": "stdout",
     "output_type": "stream",
     "text": [
      "Train on 2656 samples, validate on 665 samples\n",
      "Epoch 1/3\n",
      "2656/2656 - 8s - loss: 1.8081 - accuracy: 0.3351 - val_loss: 1.5198 - val_accuracy: 0.4241\n",
      "Epoch 2/3\n",
      "2656/2656 - 5s - loss: 1.2322 - accuracy: 0.5493 - val_loss: 1.2956 - val_accuracy: 0.5444\n",
      "Epoch 3/3\n",
      "2656/2656 - 5s - loss: 0.9237 - accuracy: 0.6822 - val_loss: 1.2799 - val_accuracy: 0.5534\n"
     ]
    }
   ],
   "source": [
    "model_seq_Text.compile(optimizer='Adam',loss='sparse_categorical_crossentropy',metrics=['accuracy'])\n",
    "\n",
    "#epochs = 10\n",
    "epochs = 3\n",
    "history = model_seq_Text.fit(X_train_Text_preprocessed_sequences_padded,y_train_array,epochs=epochs,verbose=2,validation_data=(X_test_Text_preprocessed_sequences_padded,y_test_array))"
   ]
  },
  {
   "cell_type": "code",
   "execution_count": 57,
   "metadata": {},
   "outputs": [
    {
     "data": {
      "image/png": "[encoded data removed]",
      "text/plain": [
       "<Figure size 432x288 with 1 Axes>"
      ]
     },
     "metadata": {
      "needs_background": "light"
     },
     "output_type": "display_data"
    },
    {
     "data": {
      "image/png": "[encoded data removed]",
      "text/plain": [
       "<Figure size 432x288 with 1 Axes>"
      ]
     },
     "metadata": {
      "needs_background": "light"
     },
     "output_type": "display_data"
    }
   ],
   "source": [
    "def plot_Text_fitting_graph(history, string):\n",
    "  plt.plot(history.history[string])\n",
    "  plt.plot(history.history['val_'+string])\n",
    "  plt.xlabel(\"Epochs\")\n",
    "  plt.ylabel(string)\n",
    "  plt.legend([string, 'val_'+string])\n",
    "  plt.show()\n",
    "  \n",
    "plot_Text_fitting_graph(history, 'accuracy')\n",
    "plot_Text_fitting_graph(history, 'loss')\n",
    "\n",
    "# observe validation accuracy plateaus around 55% "
   ]
  },
  {
   "cell_type": "code",
   "execution_count": 58,
   "metadata": {},
   "outputs": [],
   "source": [
    "model_predict_proba=model_seq_Text.predict(X_test_Text_preprocessed_sequences_padded)"
   ]
  },
  {
   "cell_type": "code",
   "execution_count": 59,
   "metadata": {},
   "outputs": [
    {
     "name": "stdout",
     "output_type": "stream",
     "text": [
      "MultinomialNB multiclass_log_loss: 1.279941\n"
     ]
    }
   ],
   "source": [
    "# evaluate multi-class log-loss, JUST for predictions based on the 'Text' feature\n",
    "model_multiclass_log_loss=log_loss((y_test_array+1),model_predict_proba,labels=[1,2,3,4,5,6,7,8,9]) #correcting the class labels\n",
    "print('MultinomialNB multiclass_log_loss:',round(model_multiclass_log_loss,6))"
   ]
  },
  {
   "cell_type": "markdown",
   "metadata": {},
   "source": [
    "#### Notes: * Thus we achieve a reasonable performance against a log-loss metric using the 'Text'. * Before inserting the 'Gene', 'Variation' features into the model, will create an equivalent Functional API"
   ]
  },
  {
   "cell_type": "code",
   "execution_count": 60,
   "metadata": {},
   "outputs": [],
   "source": [
    "# FUNCTIONAL API ('Text')"
   ]
  },
  {
   "cell_type": "code",
   "execution_count": 61,
   "metadata": {},
   "outputs": [
    {
     "name": "stdout",
     "output_type": "stream",
     "text": [
      "Model: \"model\"\n",
      "_________________________________________________________________\n",
      "Layer (type)                 Output Shape              Param #   \n",
      "=================================================================\n",
      "Text_input (InputLayer)      [(None, 400)]             0         \n",
      "_________________________________________________________________\n",
      "embedding_1 (Embedding)      (None, 400, 128)          1280000   \n",
      "_________________________________________________________________\n",
      "bidirectional_1 (Bidirection (None, 256)               263168    \n",
      "_________________________________________________________________\n",
      "dense_2 (Dense)              (None, 128)               32896     \n",
      "_________________________________________________________________\n",
      "dropout_1 (Dropout)          (None, 128)               0         \n",
      "_________________________________________________________________\n",
      "dense_3 (Dense)              (None, 9)                 1161      \n",
      "=================================================================\n",
      "Total params: 1,577,225\n",
      "Trainable params: 1,577,225\n",
      "Non-trainable params: 0\n",
      "_________________________________________________________________\n"
     ]
    }
   ],
   "source": [
    "input_B = tf.keras.layers.Input(shape=(max_length_seq,), name='Text_input')\n",
    "\n",
    "# embedding layer expecting input vocab of size 10000, and output embedding dimension of size 128\n",
    "hidden_1 = tf.keras.layers.Embedding(input_dim=vocab_size, output_dim=embedding_dim)(input_B)\n",
    "\n",
    "# bidirectional wrapper on a single LSTM RNN layer, to run essentially run two layers on same inputs, one reading tokens\n",
    "# left-to-right and the other right-to-left. then simply combine (concatenate) their outputs at each time step.\n",
    "hidden_2 = tf.keras.layers.Bidirectional(tf.keras.layers.LSTM(units=embedding_dim,return_sequences=False),merge_mode='concat')(hidden_1)\n",
    "\n",
    "hidden_3 = tf.keras.layers.Dense(units=embedding_dim, activation='relu')(hidden_2)\n",
    "hidden_4 = tf.keras.layers.Dropout(0.4)(hidden_3)\n",
    "\n",
    "# NO CONCAT LAYER YET\n",
    "\n",
    "# final dense layer with softmax activation to predict probability of each class\n",
    "output = tf.keras.layers.Dense(units=9, activation='softmax')(hidden_4)\n",
    "\n",
    "model_func_Text = tf.keras.Model(inputs=[input_B],outputs=[output])\n",
    "\n",
    "model_func_Text.summary()\n",
    "\n",
    "# observe the Bidirectional wrappers Output Shape as (None, embedding_dim*2)"
   ]
  },
  {
   "cell_type": "code",
   "execution_count": 62,
   "metadata": {},
   "outputs": [
    {
     "name": "stdout",
     "output_type": "stream",
     "text": [
      "(2656, 1)\n",
      "(665, 1)\n"
     ]
    }
   ],
   "source": [
    "# reshape labels to expected into one-column arrays\n",
    "y_train_array=np.reshape(np.array(y_train),(len(y_train),1))\n",
    "y_test_array=np.reshape(np.array(y_test),(len(y_test),1))\n",
    "\n",
    "print(y_train_array.shape)\n",
    "print(y_test_array.shape)"
   ]
  },
  {
   "cell_type": "code",
   "execution_count": 63,
   "metadata": {},
   "outputs": [],
   "source": [
    "# the Dense 9-unit 'softmax' layer will compare against [0:8]\n",
    "# thus need to re-assign (subtract 1) the nine label integers accordingly\n",
    "y_train_array=y_train_array-1\n",
    "y_test_array=y_test_array-1"
   ]
  },
  {
   "cell_type": "code",
   "execution_count": 64,
   "metadata": {},
   "outputs": [
    {
     "name": "stdout",
     "output_type": "stream",
     "text": [
      "Train on 2656 samples, validate on 665 samples\n",
      "Epoch 1/3\n",
      "2656/2656 - 7s - loss: 1.7955 - accuracy: 0.3460 - val_loss: 1.4573 - val_accuracy: 0.4632\n",
      "Epoch 2/3\n",
      "2656/2656 - 5s - loss: 1.2144 - accuracy: 0.5580 - val_loss: 1.3237 - val_accuracy: 0.5444\n",
      "Epoch 3/3\n",
      "2656/2656 - 5s - loss: 0.9003 - accuracy: 0.6871 - val_loss: 1.3421 - val_accuracy: 0.5398\n"
     ]
    }
   ],
   "source": [
    "model_func_Text.compile(optimizer='Adam',loss='sparse_categorical_crossentropy',metrics=['accuracy'])\n",
    "\n",
    "#epochs = 10\n",
    "epochs = 3\n",
    "history = model_func_Text.fit(X_train_Text_preprocessed_sequences_padded,y_train_array,epochs=epochs,verbose=2,validation_data=(X_test_Text_preprocessed_sequences_padded,y_test_array))"
   ]
  },
  {
   "cell_type": "code",
   "execution_count": 65,
   "metadata": {},
   "outputs": [
    {
     "data": {
      "image/png": "[encoded data removed]",
      "text/plain": [
       "<Figure size 432x288 with 1 Axes>"
      ]
     },
     "metadata": {
      "needs_background": "light"
     },
     "output_type": "display_data"
    },
    {
     "data": {
      "image/png": "[encoded data removed]",
      "text/plain": [
       "<Figure size 432x288 with 1 Axes>"
      ]
     },
     "metadata": {
      "needs_background": "light"
     },
     "output_type": "display_data"
    }
   ],
   "source": [
    "def plot_Text_fitting_graph(history, string):\n",
    "  plt.plot(history.history[string])\n",
    "  plt.plot(history.history['val_'+string])\n",
    "  plt.xlabel(\"Epochs\")\n",
    "  plt.ylabel(string)\n",
    "  plt.legend([string, 'val_'+string])\n",
    "  plt.show()\n",
    "  \n",
    "plot_Text_fitting_graph(history, 'accuracy')\n",
    "plot_Text_fitting_graph(history, 'loss')\n",
    "\n",
    "# observe validation accuracy plateaus around 55% "
   ]
  },
  {
   "cell_type": "code",
   "execution_count": 66,
   "metadata": {},
   "outputs": [],
   "source": [
    "model_predict_proba=model_func_Text.predict(X_test_Text_preprocessed_sequences_padded)"
   ]
  },
  {
   "cell_type": "code",
   "execution_count": 67,
   "metadata": {},
   "outputs": [
    {
     "name": "stdout",
     "output_type": "stream",
     "text": [
      "MultinomialNB multiclass_log_loss: 1.342063\n"
     ]
    }
   ],
   "source": [
    "# evaluate multi-class log-loss, JUST for predictions based on the 'Text' feature\n",
    "model_multiclass_log_loss=log_loss((y_test_array+1),model_predict_proba,labels=[1,2,3,4,5,6,7,8,9]) #correcting the class labels\n",
    "print('MultinomialNB multiclass_log_loss:',round(model_multiclass_log_loss,6))"
   ]
  },
  {
   "cell_type": "markdown",
   "metadata": {},
   "source": [
    "#### Process the 'Gene' and 'Variation' features"
   ]
  },
  {
   "cell_type": "code",
   "execution_count": 68,
   "metadata": {},
   "outputs": [
    {
     "name": "stdout",
     "output_type": "stream",
     "text": [
      "train_1hot_cols is of type:  <class 'numpy.ndarray'>\n",
      "train_1hot_cols is of shape:  (2656, 2644)\n",
      "test_1hot_cols is of type:  <class 'numpy.ndarray'>\n",
      "test_1hot_cols is of shape:  (665, 2644)\n"
     ]
    }
   ],
   "source": [
    "# one-hot encode 'Gene', 'Variation' - will keep ALL one-hot columns\n",
    "\n",
    "cat_features=['Gene','Variation']\n",
    "\n",
    "onehotenc=OneHotEncoder(drop=None,sparse=False,handle_unknown='ignore')\n",
    "\n",
    "onehotenc.fit(X_train_df[cat_features].values.reshape(-1,len(cat_features)))\n",
    "\n",
    "train_1hot_cols=onehotenc.transform(X_train_df[cat_features].values.reshape(-1,len(cat_features)))\n",
    "test_1hot_cols=onehotenc.transform(X_test_df[cat_features].values.reshape(-1,len(cat_features)))\n",
    "\n",
    "print('train_1hot_cols is of type: ', type(train_1hot_cols))\n",
    "print('train_1hot_cols is of shape: ', train_1hot_cols.shape)\n",
    "print('test_1hot_cols is of type: ', type(test_1hot_cols))\n",
    "print('test_1hot_cols is of shape: ', test_1hot_cols.shape)"
   ]
  },
  {
   "cell_type": "code",
   "execution_count": 69,
   "metadata": {},
   "outputs": [
    {
     "name": "stdout",
     "output_type": "stream",
     "text": [
      "X_train_1hot_cols_df is of type:  <class 'pandas.core.frame.DataFrame'>\n",
      "X_train_1hot_cols_df is of shape:  (2656, 2644)\n",
      "X_test_1hot_cols_df is of type:  <class 'pandas.core.frame.DataFrame'>\n",
      "X_test_1hot_cols_df is of shape:  (665, 2644)\n"
     ]
    }
   ],
   "source": [
    "# create dataframes with only the one-hot columns\n",
    "X_train_1hot_cols_df=pd.DataFrame(train_1hot_cols.astype(int))\n",
    "X_test_1hot_cols_df=pd.DataFrame(test_1hot_cols.astype(int))\n",
    "\n",
    "print('X_train_1hot_cols_df is of type: ', type(X_train_1hot_cols_df))\n",
    "print('X_train_1hot_cols_df is of shape: ', X_train_1hot_cols_df.shape)\n",
    "print('X_test_1hot_cols_df is of type: ', type(X_test_1hot_cols_df))\n",
    "print('X_test_1hot_cols_df is of shape: ', X_test_1hot_cols_df.shape)"
   ]
  },
  {
   "cell_type": "code",
   "execution_count": 70,
   "metadata": {},
   "outputs": [],
   "source": [
    "#rename dataframes' one-hot columns\n",
    "X_train_1hot_cols_df.columns=onehotenc.get_feature_names()\n",
    "X_test_1hot_cols_df.columns=onehotenc.get_feature_names()"
   ]
  },
  {
   "cell_type": "code",
   "execution_count": 71,
   "metadata": {},
   "outputs": [
    {
     "name": "stdout",
     "output_type": "stream",
     "text": [
      "0       4\n",
      "1       4\n",
      "2       4\n",
      "3       7\n",
      "4       4\n",
      "       ..\n",
      "2651    7\n",
      "2652    2\n",
      "2653    1\n",
      "2654    4\n",
      "2655    4\n",
      "Name: Class, Length: 2656, dtype: int64\n"
     ]
    },
    {
     "data": {
      "text/html": [
       "<div>\n",
       "<style scoped>\n",
       "    .dataframe tbody tr th:only-of-type {\n",
       "        vertical-align: middle;\n",
       "    }\n",
       "\n",
       "    .dataframe tbody tr th {\n",
       "        vertical-align: top;\n",
       "    }\n",
       "\n",
       "    .dataframe thead th {\n",
       "        text-align: right;\n",
       "    }\n",
       "</style>\n",
       "<table border=\"1\" class=\"dataframe\">\n",
       "  <thead>\n",
       "    <tr style=\"text-align: right;\">\n",
       "      <th></th>\n",
       "      <th>x0_abl1</th>\n",
       "      <th>x0_acvr1</th>\n",
       "      <th>x0_ago2</th>\n",
       "      <th>x0_akt1</th>\n",
       "      <th>x0_akt2</th>\n",
       "      <th>x0_akt3</th>\n",
       "      <th>x0_alk</th>\n",
       "      <th>x0_apc</th>\n",
       "      <th>x0_ar</th>\n",
       "      <th>x0_araf</th>\n",
       "      <th>...</th>\n",
       "      <th>x1_y87c</th>\n",
       "      <th>x1_y87n</th>\n",
       "      <th>x1_y901c</th>\n",
       "      <th>x1_y931c</th>\n",
       "      <th>x1_y98h</th>\n",
       "      <th>x1_y98n</th>\n",
       "      <th>x1_yap1 fam118b fusion</th>\n",
       "      <th>x1_yap1 mamld1 fusion</th>\n",
       "      <th>x1_zc3h7b bcor fusion</th>\n",
       "      <th>x1_znf198 fgfr1 fusion</th>\n",
       "    </tr>\n",
       "  </thead>\n",
       "  <tbody>\n",
       "    <tr>\n",
       "      <th>0</th>\n",
       "      <td>0</td>\n",
       "      <td>0</td>\n",
       "      <td>0</td>\n",
       "      <td>0</td>\n",
       "      <td>0</td>\n",
       "      <td>0</td>\n",
       "      <td>0</td>\n",
       "      <td>0</td>\n",
       "      <td>0</td>\n",
       "      <td>0</td>\n",
       "      <td>...</td>\n",
       "      <td>0</td>\n",
       "      <td>0</td>\n",
       "      <td>0</td>\n",
       "      <td>0</td>\n",
       "      <td>0</td>\n",
       "      <td>0</td>\n",
       "      <td>0</td>\n",
       "      <td>0</td>\n",
       "      <td>0</td>\n",
       "      <td>0</td>\n",
       "    </tr>\n",
       "    <tr>\n",
       "      <th>1</th>\n",
       "      <td>0</td>\n",
       "      <td>0</td>\n",
       "      <td>0</td>\n",
       "      <td>0</td>\n",
       "      <td>0</td>\n",
       "      <td>0</td>\n",
       "      <td>0</td>\n",
       "      <td>0</td>\n",
       "      <td>0</td>\n",
       "      <td>0</td>\n",
       "      <td>...</td>\n",
       "      <td>0</td>\n",
       "      <td>0</td>\n",
       "      <td>0</td>\n",
       "      <td>0</td>\n",
       "      <td>0</td>\n",
       "      <td>0</td>\n",
       "      <td>0</td>\n",
       "      <td>0</td>\n",
       "      <td>0</td>\n",
       "      <td>0</td>\n",
       "    </tr>\n",
       "    <tr>\n",
       "      <th>2</th>\n",
       "      <td>0</td>\n",
       "      <td>0</td>\n",
       "      <td>0</td>\n",
       "      <td>0</td>\n",
       "      <td>0</td>\n",
       "      <td>0</td>\n",
       "      <td>0</td>\n",
       "      <td>0</td>\n",
       "      <td>0</td>\n",
       "      <td>0</td>\n",
       "      <td>...</td>\n",
       "      <td>0</td>\n",
       "      <td>0</td>\n",
       "      <td>0</td>\n",
       "      <td>0</td>\n",
       "      <td>0</td>\n",
       "      <td>0</td>\n",
       "      <td>0</td>\n",
       "      <td>0</td>\n",
       "      <td>0</td>\n",
       "      <td>0</td>\n",
       "    </tr>\n",
       "    <tr>\n",
       "      <th>3</th>\n",
       "      <td>0</td>\n",
       "      <td>0</td>\n",
       "      <td>0</td>\n",
       "      <td>0</td>\n",
       "      <td>0</td>\n",
       "      <td>0</td>\n",
       "      <td>0</td>\n",
       "      <td>0</td>\n",
       "      <td>0</td>\n",
       "      <td>0</td>\n",
       "      <td>...</td>\n",
       "      <td>0</td>\n",
       "      <td>0</td>\n",
       "      <td>0</td>\n",
       "      <td>0</td>\n",
       "      <td>0</td>\n",
       "      <td>0</td>\n",
       "      <td>0</td>\n",
       "      <td>0</td>\n",
       "      <td>0</td>\n",
       "      <td>0</td>\n",
       "    </tr>\n",
       "    <tr>\n",
       "      <th>4</th>\n",
       "      <td>0</td>\n",
       "      <td>0</td>\n",
       "      <td>0</td>\n",
       "      <td>0</td>\n",
       "      <td>0</td>\n",
       "      <td>0</td>\n",
       "      <td>0</td>\n",
       "      <td>0</td>\n",
       "      <td>0</td>\n",
       "      <td>0</td>\n",
       "      <td>...</td>\n",
       "      <td>0</td>\n",
       "      <td>0</td>\n",
       "      <td>0</td>\n",
       "      <td>0</td>\n",
       "      <td>0</td>\n",
       "      <td>0</td>\n",
       "      <td>0</td>\n",
       "      <td>0</td>\n",
       "      <td>0</td>\n",
       "      <td>0</td>\n",
       "    </tr>\n",
       "    <tr>\n",
       "      <th>...</th>\n",
       "      <td>...</td>\n",
       "      <td>...</td>\n",
       "      <td>...</td>\n",
       "      <td>...</td>\n",
       "      <td>...</td>\n",
       "      <td>...</td>\n",
       "      <td>...</td>\n",
       "      <td>...</td>\n",
       "      <td>...</td>\n",
       "      <td>...</td>\n",
       "      <td>...</td>\n",
       "      <td>...</td>\n",
       "      <td>...</td>\n",
       "      <td>...</td>\n",
       "      <td>...</td>\n",
       "      <td>...</td>\n",
       "      <td>...</td>\n",
       "      <td>...</td>\n",
       "      <td>...</td>\n",
       "      <td>...</td>\n",
       "      <td>...</td>\n",
       "    </tr>\n",
       "    <tr>\n",
       "      <th>2651</th>\n",
       "      <td>0</td>\n",
       "      <td>0</td>\n",
       "      <td>0</td>\n",
       "      <td>0</td>\n",
       "      <td>0</td>\n",
       "      <td>0</td>\n",
       "      <td>0</td>\n",
       "      <td>0</td>\n",
       "      <td>0</td>\n",
       "      <td>0</td>\n",
       "      <td>...</td>\n",
       "      <td>0</td>\n",
       "      <td>0</td>\n",
       "      <td>0</td>\n",
       "      <td>0</td>\n",
       "      <td>0</td>\n",
       "      <td>0</td>\n",
       "      <td>0</td>\n",
       "      <td>0</td>\n",
       "      <td>0</td>\n",
       "      <td>0</td>\n",
       "    </tr>\n",
       "    <tr>\n",
       "      <th>2652</th>\n",
       "      <td>0</td>\n",
       "      <td>0</td>\n",
       "      <td>0</td>\n",
       "      <td>0</td>\n",
       "      <td>0</td>\n",
       "      <td>0</td>\n",
       "      <td>0</td>\n",
       "      <td>0</td>\n",
       "      <td>0</td>\n",
       "      <td>0</td>\n",
       "      <td>...</td>\n",
       "      <td>0</td>\n",
       "      <td>0</td>\n",
       "      <td>0</td>\n",
       "      <td>0</td>\n",
       "      <td>0</td>\n",
       "      <td>0</td>\n",
       "      <td>0</td>\n",
       "      <td>0</td>\n",
       "      <td>0</td>\n",
       "      <td>0</td>\n",
       "    </tr>\n",
       "    <tr>\n",
       "      <th>2653</th>\n",
       "      <td>0</td>\n",
       "      <td>0</td>\n",
       "      <td>0</td>\n",
       "      <td>0</td>\n",
       "      <td>0</td>\n",
       "      <td>0</td>\n",
       "      <td>0</td>\n",
       "      <td>0</td>\n",
       "      <td>0</td>\n",
       "      <td>0</td>\n",
       "      <td>...</td>\n",
       "      <td>0</td>\n",
       "      <td>0</td>\n",
       "      <td>0</td>\n",
       "      <td>0</td>\n",
       "      <td>0</td>\n",
       "      <td>0</td>\n",
       "      <td>0</td>\n",
       "      <td>0</td>\n",
       "      <td>0</td>\n",
       "      <td>0</td>\n",
       "    </tr>\n",
       "    <tr>\n",
       "      <th>2654</th>\n",
       "      <td>0</td>\n",
       "      <td>0</td>\n",
       "      <td>0</td>\n",
       "      <td>0</td>\n",
       "      <td>0</td>\n",
       "      <td>0</td>\n",
       "      <td>0</td>\n",
       "      <td>0</td>\n",
       "      <td>0</td>\n",
       "      <td>0</td>\n",
       "      <td>...</td>\n",
       "      <td>0</td>\n",
       "      <td>0</td>\n",
       "      <td>0</td>\n",
       "      <td>0</td>\n",
       "      <td>0</td>\n",
       "      <td>0</td>\n",
       "      <td>0</td>\n",
       "      <td>0</td>\n",
       "      <td>0</td>\n",
       "      <td>0</td>\n",
       "    </tr>\n",
       "    <tr>\n",
       "      <th>2655</th>\n",
       "      <td>0</td>\n",
       "      <td>0</td>\n",
       "      <td>0</td>\n",
       "      <td>0</td>\n",
       "      <td>0</td>\n",
       "      <td>0</td>\n",
       "      <td>0</td>\n",
       "      <td>0</td>\n",
       "      <td>0</td>\n",
       "      <td>0</td>\n",
       "      <td>...</td>\n",
       "      <td>0</td>\n",
       "      <td>0</td>\n",
       "      <td>0</td>\n",
       "      <td>0</td>\n",
       "      <td>0</td>\n",
       "      <td>0</td>\n",
       "      <td>0</td>\n",
       "      <td>0</td>\n",
       "      <td>0</td>\n",
       "      <td>0</td>\n",
       "    </tr>\n",
       "  </tbody>\n",
       "</table>\n",
       "<p>2656 rows × 2644 columns</p>\n",
       "</div>"
      ],
      "text/plain": [
       "      x0_abl1  x0_acvr1  x0_ago2  x0_akt1  x0_akt2  x0_akt3  x0_alk  x0_apc  \\\n",
       "0           0         0        0        0        0        0       0       0   \n",
       "1           0         0        0        0        0        0       0       0   \n",
       "2           0         0        0        0        0        0       0       0   \n",
       "3           0         0        0        0        0        0       0       0   \n",
       "4           0         0        0        0        0        0       0       0   \n",
       "...       ...       ...      ...      ...      ...      ...     ...     ...   \n",
       "2651        0         0        0        0        0        0       0       0   \n",
       "2652        0         0        0        0        0        0       0       0   \n",
       "2653        0         0        0        0        0        0       0       0   \n",
       "2654        0         0        0        0        0        0       0       0   \n",
       "2655        0         0        0        0        0        0       0       0   \n",
       "\n",
       "      x0_ar  x0_araf  ...  x1_y87c  x1_y87n  x1_y901c  x1_y931c  x1_y98h  \\\n",
       "0         0        0  ...        0        0         0         0        0   \n",
       "1         0        0  ...        0        0         0         0        0   \n",
       "2         0        0  ...        0        0         0         0        0   \n",
       "3         0        0  ...        0        0         0         0        0   \n",
       "4         0        0  ...        0        0         0         0        0   \n",
       "...     ...      ...  ...      ...      ...       ...       ...      ...   \n",
       "2651      0        0  ...        0        0         0         0        0   \n",
       "2652      0        0  ...        0        0         0         0        0   \n",
       "2653      0        0  ...        0        0         0         0        0   \n",
       "2654      0        0  ...        0        0         0         0        0   \n",
       "2655      0        0  ...        0        0         0         0        0   \n",
       "\n",
       "      x1_y98n  x1_yap1 fam118b fusion  x1_yap1 mamld1 fusion  \\\n",
       "0           0                       0                      0   \n",
       "1           0                       0                      0   \n",
       "2           0                       0                      0   \n",
       "3           0                       0                      0   \n",
       "4           0                       0                      0   \n",
       "...       ...                     ...                    ...   \n",
       "2651        0                       0                      0   \n",
       "2652        0                       0                      0   \n",
       "2653        0                       0                      0   \n",
       "2654        0                       0                      0   \n",
       "2655        0                       0                      0   \n",
       "\n",
       "      x1_zc3h7b bcor fusion  x1_znf198 fgfr1 fusion  \n",
       "0                         0                       0  \n",
       "1                         0                       0  \n",
       "2                         0                       0  \n",
       "3                         0                       0  \n",
       "4                         0                       0  \n",
       "...                     ...                     ...  \n",
       "2651                      0                       0  \n",
       "2652                      0                       0  \n",
       "2653                      0                       0  \n",
       "2654                      0                       0  \n",
       "2655                      0                       0  \n",
       "\n",
       "[2656 rows x 2644 columns]"
      ]
     },
     "execution_count": 71,
     "metadata": {},
     "output_type": "execute_result"
    }
   ],
   "source": [
    "print(y_train)\n",
    "X_train_1hot_cols_df"
   ]
  },
  {
   "cell_type": "code",
   "execution_count": 72,
   "metadata": {},
   "outputs": [
    {
     "name": "stdout",
     "output_type": "stream",
     "text": [
      "0      2\n",
      "1      6\n",
      "2      7\n",
      "3      7\n",
      "4      7\n",
      "      ..\n",
      "660    1\n",
      "661    7\n",
      "662    4\n",
      "663    7\n",
      "664    1\n",
      "Name: Class, Length: 665, dtype: int64\n"
     ]
    },
    {
     "data": {
      "text/html": [
       "<div>\n",
       "<style scoped>\n",
       "    .dataframe tbody tr th:only-of-type {\n",
       "        vertical-align: middle;\n",
       "    }\n",
       "\n",
       "    .dataframe tbody tr th {\n",
       "        vertical-align: top;\n",
       "    }\n",
       "\n",
       "    .dataframe thead th {\n",
       "        text-align: right;\n",
       "    }\n",
       "</style>\n",
       "<table border=\"1\" class=\"dataframe\">\n",
       "  <thead>\n",
       "    <tr style=\"text-align: right;\">\n",
       "      <th></th>\n",
       "      <th>x0_abl1</th>\n",
       "      <th>x0_acvr1</th>\n",
       "      <th>x0_ago2</th>\n",
       "      <th>x0_akt1</th>\n",
       "      <th>x0_akt2</th>\n",
       "      <th>x0_akt3</th>\n",
       "      <th>x0_alk</th>\n",
       "      <th>x0_apc</th>\n",
       "      <th>x0_ar</th>\n",
       "      <th>x0_araf</th>\n",
       "      <th>...</th>\n",
       "      <th>x1_y87c</th>\n",
       "      <th>x1_y87n</th>\n",
       "      <th>x1_y901c</th>\n",
       "      <th>x1_y931c</th>\n",
       "      <th>x1_y98h</th>\n",
       "      <th>x1_y98n</th>\n",
       "      <th>x1_yap1 fam118b fusion</th>\n",
       "      <th>x1_yap1 mamld1 fusion</th>\n",
       "      <th>x1_zc3h7b bcor fusion</th>\n",
       "      <th>x1_znf198 fgfr1 fusion</th>\n",
       "    </tr>\n",
       "  </thead>\n",
       "  <tbody>\n",
       "    <tr>\n",
       "      <th>0</th>\n",
       "      <td>0</td>\n",
       "      <td>0</td>\n",
       "      <td>0</td>\n",
       "      <td>0</td>\n",
       "      <td>0</td>\n",
       "      <td>0</td>\n",
       "      <td>0</td>\n",
       "      <td>0</td>\n",
       "      <td>0</td>\n",
       "      <td>0</td>\n",
       "      <td>...</td>\n",
       "      <td>0</td>\n",
       "      <td>0</td>\n",
       "      <td>0</td>\n",
       "      <td>0</td>\n",
       "      <td>0</td>\n",
       "      <td>0</td>\n",
       "      <td>0</td>\n",
       "      <td>0</td>\n",
       "      <td>0</td>\n",
       "      <td>0</td>\n",
       "    </tr>\n",
       "    <tr>\n",
       "      <th>1</th>\n",
       "      <td>0</td>\n",
       "      <td>0</td>\n",
       "      <td>0</td>\n",
       "      <td>0</td>\n",
       "      <td>0</td>\n",
       "      <td>0</td>\n",
       "      <td>0</td>\n",
       "      <td>0</td>\n",
       "      <td>0</td>\n",
       "      <td>0</td>\n",
       "      <td>...</td>\n",
       "      <td>0</td>\n",
       "      <td>0</td>\n",
       "      <td>0</td>\n",
       "      <td>0</td>\n",
       "      <td>0</td>\n",
       "      <td>0</td>\n",
       "      <td>0</td>\n",
       "      <td>0</td>\n",
       "      <td>0</td>\n",
       "      <td>0</td>\n",
       "    </tr>\n",
       "    <tr>\n",
       "      <th>2</th>\n",
       "      <td>0</td>\n",
       "      <td>0</td>\n",
       "      <td>0</td>\n",
       "      <td>0</td>\n",
       "      <td>0</td>\n",
       "      <td>0</td>\n",
       "      <td>0</td>\n",
       "      <td>0</td>\n",
       "      <td>0</td>\n",
       "      <td>0</td>\n",
       "      <td>...</td>\n",
       "      <td>0</td>\n",
       "      <td>0</td>\n",
       "      <td>0</td>\n",
       "      <td>0</td>\n",
       "      <td>0</td>\n",
       "      <td>0</td>\n",
       "      <td>0</td>\n",
       "      <td>0</td>\n",
       "      <td>0</td>\n",
       "      <td>0</td>\n",
       "    </tr>\n",
       "    <tr>\n",
       "      <th>3</th>\n",
       "      <td>0</td>\n",
       "      <td>0</td>\n",
       "      <td>0</td>\n",
       "      <td>0</td>\n",
       "      <td>0</td>\n",
       "      <td>0</td>\n",
       "      <td>0</td>\n",
       "      <td>0</td>\n",
       "      <td>0</td>\n",
       "      <td>0</td>\n",
       "      <td>...</td>\n",
       "      <td>0</td>\n",
       "      <td>0</td>\n",
       "      <td>0</td>\n",
       "      <td>0</td>\n",
       "      <td>0</td>\n",
       "      <td>0</td>\n",
       "      <td>0</td>\n",
       "      <td>0</td>\n",
       "      <td>0</td>\n",
       "      <td>0</td>\n",
       "    </tr>\n",
       "    <tr>\n",
       "      <th>4</th>\n",
       "      <td>0</td>\n",
       "      <td>0</td>\n",
       "      <td>0</td>\n",
       "      <td>0</td>\n",
       "      <td>0</td>\n",
       "      <td>0</td>\n",
       "      <td>0</td>\n",
       "      <td>0</td>\n",
       "      <td>0</td>\n",
       "      <td>0</td>\n",
       "      <td>...</td>\n",
       "      <td>0</td>\n",
       "      <td>0</td>\n",
       "      <td>0</td>\n",
       "      <td>0</td>\n",
       "      <td>0</td>\n",
       "      <td>0</td>\n",
       "      <td>0</td>\n",
       "      <td>0</td>\n",
       "      <td>0</td>\n",
       "      <td>0</td>\n",
       "    </tr>\n",
       "    <tr>\n",
       "      <th>...</th>\n",
       "      <td>...</td>\n",
       "      <td>...</td>\n",
       "      <td>...</td>\n",
       "      <td>...</td>\n",
       "      <td>...</td>\n",
       "      <td>...</td>\n",
       "      <td>...</td>\n",
       "      <td>...</td>\n",
       "      <td>...</td>\n",
       "      <td>...</td>\n",
       "      <td>...</td>\n",
       "      <td>...</td>\n",
       "      <td>...</td>\n",
       "      <td>...</td>\n",
       "      <td>...</td>\n",
       "      <td>...</td>\n",
       "      <td>...</td>\n",
       "      <td>...</td>\n",
       "      <td>...</td>\n",
       "      <td>...</td>\n",
       "      <td>...</td>\n",
       "    </tr>\n",
       "    <tr>\n",
       "      <th>660</th>\n",
       "      <td>0</td>\n",
       "      <td>0</td>\n",
       "      <td>0</td>\n",
       "      <td>0</td>\n",
       "      <td>0</td>\n",
       "      <td>0</td>\n",
       "      <td>0</td>\n",
       "      <td>0</td>\n",
       "      <td>0</td>\n",
       "      <td>0</td>\n",
       "      <td>...</td>\n",
       "      <td>0</td>\n",
       "      <td>0</td>\n",
       "      <td>0</td>\n",
       "      <td>0</td>\n",
       "      <td>0</td>\n",
       "      <td>0</td>\n",
       "      <td>0</td>\n",
       "      <td>0</td>\n",
       "      <td>0</td>\n",
       "      <td>0</td>\n",
       "    </tr>\n",
       "    <tr>\n",
       "      <th>661</th>\n",
       "      <td>0</td>\n",
       "      <td>0</td>\n",
       "      <td>0</td>\n",
       "      <td>0</td>\n",
       "      <td>0</td>\n",
       "      <td>0</td>\n",
       "      <td>0</td>\n",
       "      <td>0</td>\n",
       "      <td>0</td>\n",
       "      <td>0</td>\n",
       "      <td>...</td>\n",
       "      <td>0</td>\n",
       "      <td>0</td>\n",
       "      <td>0</td>\n",
       "      <td>0</td>\n",
       "      <td>0</td>\n",
       "      <td>0</td>\n",
       "      <td>0</td>\n",
       "      <td>0</td>\n",
       "      <td>0</td>\n",
       "      <td>0</td>\n",
       "    </tr>\n",
       "    <tr>\n",
       "      <th>662</th>\n",
       "      <td>0</td>\n",
       "      <td>0</td>\n",
       "      <td>0</td>\n",
       "      <td>0</td>\n",
       "      <td>0</td>\n",
       "      <td>0</td>\n",
       "      <td>0</td>\n",
       "      <td>0</td>\n",
       "      <td>0</td>\n",
       "      <td>0</td>\n",
       "      <td>...</td>\n",
       "      <td>0</td>\n",
       "      <td>0</td>\n",
       "      <td>0</td>\n",
       "      <td>0</td>\n",
       "      <td>0</td>\n",
       "      <td>0</td>\n",
       "      <td>0</td>\n",
       "      <td>0</td>\n",
       "      <td>0</td>\n",
       "      <td>0</td>\n",
       "    </tr>\n",
       "    <tr>\n",
       "      <th>663</th>\n",
       "      <td>0</td>\n",
       "      <td>0</td>\n",
       "      <td>0</td>\n",
       "      <td>0</td>\n",
       "      <td>0</td>\n",
       "      <td>0</td>\n",
       "      <td>1</td>\n",
       "      <td>0</td>\n",
       "      <td>0</td>\n",
       "      <td>0</td>\n",
       "      <td>...</td>\n",
       "      <td>0</td>\n",
       "      <td>0</td>\n",
       "      <td>0</td>\n",
       "      <td>0</td>\n",
       "      <td>0</td>\n",
       "      <td>0</td>\n",
       "      <td>0</td>\n",
       "      <td>0</td>\n",
       "      <td>0</td>\n",
       "      <td>0</td>\n",
       "    </tr>\n",
       "    <tr>\n",
       "      <th>664</th>\n",
       "      <td>0</td>\n",
       "      <td>0</td>\n",
       "      <td>0</td>\n",
       "      <td>0</td>\n",
       "      <td>0</td>\n",
       "      <td>0</td>\n",
       "      <td>0</td>\n",
       "      <td>0</td>\n",
       "      <td>0</td>\n",
       "      <td>0</td>\n",
       "      <td>...</td>\n",
       "      <td>0</td>\n",
       "      <td>0</td>\n",
       "      <td>0</td>\n",
       "      <td>0</td>\n",
       "      <td>0</td>\n",
       "      <td>0</td>\n",
       "      <td>0</td>\n",
       "      <td>0</td>\n",
       "      <td>0</td>\n",
       "      <td>0</td>\n",
       "    </tr>\n",
       "  </tbody>\n",
       "</table>\n",
       "<p>665 rows × 2644 columns</p>\n",
       "</div>"
      ],
      "text/plain": [
       "     x0_abl1  x0_acvr1  x0_ago2  x0_akt1  x0_akt2  x0_akt3  x0_alk  x0_apc  \\\n",
       "0          0         0        0        0        0        0       0       0   \n",
       "1          0         0        0        0        0        0       0       0   \n",
       "2          0         0        0        0        0        0       0       0   \n",
       "3          0         0        0        0        0        0       0       0   \n",
       "4          0         0        0        0        0        0       0       0   \n",
       "..       ...       ...      ...      ...      ...      ...     ...     ...   \n",
       "660        0         0        0        0        0        0       0       0   \n",
       "661        0         0        0        0        0        0       0       0   \n",
       "662        0         0        0        0        0        0       0       0   \n",
       "663        0         0        0        0        0        0       1       0   \n",
       "664        0         0        0        0        0        0       0       0   \n",
       "\n",
       "     x0_ar  x0_araf  ...  x1_y87c  x1_y87n  x1_y901c  x1_y931c  x1_y98h  \\\n",
       "0        0        0  ...        0        0         0         0        0   \n",
       "1        0        0  ...        0        0         0         0        0   \n",
       "2        0        0  ...        0        0         0         0        0   \n",
       "3        0        0  ...        0        0         0         0        0   \n",
       "4        0        0  ...        0        0         0         0        0   \n",
       "..     ...      ...  ...      ...      ...       ...       ...      ...   \n",
       "660      0        0  ...        0        0         0         0        0   \n",
       "661      0        0  ...        0        0         0         0        0   \n",
       "662      0        0  ...        0        0         0         0        0   \n",
       "663      0        0  ...        0        0         0         0        0   \n",
       "664      0        0  ...        0        0         0         0        0   \n",
       "\n",
       "     x1_y98n  x1_yap1 fam118b fusion  x1_yap1 mamld1 fusion  \\\n",
       "0          0                       0                      0   \n",
       "1          0                       0                      0   \n",
       "2          0                       0                      0   \n",
       "3          0                       0                      0   \n",
       "4          0                       0                      0   \n",
       "..       ...                     ...                    ...   \n",
       "660        0                       0                      0   \n",
       "661        0                       0                      0   \n",
       "662        0                       0                      0   \n",
       "663        0                       0                      0   \n",
       "664        0                       0                      0   \n",
       "\n",
       "     x1_zc3h7b bcor fusion  x1_znf198 fgfr1 fusion  \n",
       "0                        0                       0  \n",
       "1                        0                       0  \n",
       "2                        0                       0  \n",
       "3                        0                       0  \n",
       "4                        0                       0  \n",
       "..                     ...                     ...  \n",
       "660                      0                       0  \n",
       "661                      0                       0  \n",
       "662                      0                       0  \n",
       "663                      0                       0  \n",
       "664                      0                       0  \n",
       "\n",
       "[665 rows x 2644 columns]"
      ]
     },
     "execution_count": 72,
     "metadata": {},
     "output_type": "execute_result"
    }
   ],
   "source": [
    "print(y_test)\n",
    "X_test_1hot_cols_df"
   ]
  },
  {
   "cell_type": "code",
   "execution_count": 73,
   "metadata": {},
   "outputs": [],
   "source": [
    "# FUNCTIONAL API ('Gene'&'Variation')"
   ]
  },
  {
   "cell_type": "code",
   "execution_count": 74,
   "metadata": {},
   "outputs": [
    {
     "name": "stdout",
     "output_type": "stream",
     "text": [
      "Model: \"model_1\"\n",
      "_________________________________________________________________\n",
      "Layer (type)                 Output Shape              Param #   \n",
      "=================================================================\n",
      "Gene_Variation_input (InputL [(None, 2644)]            0         \n",
      "_________________________________________________________________\n",
      "dense_4 (Dense)              (None, 128)               338560    \n",
      "_________________________________________________________________\n",
      "dropout_2 (Dropout)          (None, 128)               0         \n",
      "_________________________________________________________________\n",
      "dense_5 (Dense)              (None, 9)                 1161      \n",
      "=================================================================\n",
      "Total params: 339,721\n",
      "Trainable params: 339,721\n",
      "Non-trainable params: 0\n",
      "_________________________________________________________________\n"
     ]
    }
   ],
   "source": [
    "input_A = tf.keras.layers.Input(shape=(X_train_1hot_cols_df.shape[1],), name='Gene_Variation_input')\n",
    "hidden_1 = tf.keras.layers.Dense(units=128, activation='relu')(input_A)\n",
    "hidden_2 = tf.keras.layers.Dropout(0.4)(hidden_1)\n",
    "# NO CONCAT LAYER YET\n",
    "# final dense layer with softmax activation to predict probability of each class\n",
    "output = tf.keras.layers.Dense(units=9, activation='softmax')(hidden_2)\n",
    "model_func_Gene_Variation = tf.keras.Model(inputs=[input_A],outputs=[output])\n",
    "\n",
    "model_func_Gene_Variation.summary()"
   ]
  },
  {
   "cell_type": "code",
   "execution_count": 75,
   "metadata": {},
   "outputs": [
    {
     "name": "stdout",
     "output_type": "stream",
     "text": [
      "(2656, 1)\n",
      "(665, 1)\n"
     ]
    }
   ],
   "source": [
    "# reshape labels to expected into one-column arrays\n",
    "y_train_array=np.reshape(np.array(y_train),(len(y_train),1))\n",
    "y_test_array=np.reshape(np.array(y_test),(len(y_test),1))\n",
    "\n",
    "print(y_train_array.shape)\n",
    "print(y_test_array.shape)"
   ]
  },
  {
   "cell_type": "code",
   "execution_count": 76,
   "metadata": {},
   "outputs": [],
   "source": [
    "# the Dense 9-unit 'softmax' layer will compare against [0:8]\n",
    "# thus need to re-assign (subtract 1) the nine label integers accordingly\n",
    "y_train_array=y_train_array-1\n",
    "y_test_array=y_test_array-1"
   ]
  },
  {
   "cell_type": "code",
   "execution_count": 77,
   "metadata": {},
   "outputs": [
    {
     "name": "stdout",
     "output_type": "stream",
     "text": [
      "Train on 2656 samples, validate on 665 samples\n",
      "Epoch 1/10\n",
      "2656/2656 - 0s - loss: 2.0338 - accuracy: 0.3313 - val_loss: 1.8196 - val_accuracy: 0.3429\n",
      "Epoch 2/10\n",
      "2656/2656 - 0s - loss: 1.6046 - accuracy: 0.4797 - val_loss: 1.5042 - val_accuracy: 0.5098\n",
      "Epoch 3/10\n",
      "2656/2656 - 0s - loss: 1.2539 - accuracy: 0.6141 - val_loss: 1.3065 - val_accuracy: 0.5684\n",
      "Epoch 4/10\n",
      "2656/2656 - 0s - loss: 1.0045 - accuracy: 0.6947 - val_loss: 1.2215 - val_accuracy: 0.5789\n",
      "Epoch 5/10\n",
      "2656/2656 - 0s - loss: 0.8218 - accuracy: 0.7538 - val_loss: 1.1841 - val_accuracy: 0.5865\n",
      "Epoch 6/10\n",
      "2656/2656 - 0s - loss: 0.6792 - accuracy: 0.8042 - val_loss: 1.1677 - val_accuracy: 0.5624\n",
      "Epoch 7/10\n",
      "2656/2656 - 0s - loss: 0.5476 - accuracy: 0.8566 - val_loss: 1.1561 - val_accuracy: 0.5835\n",
      "Epoch 8/10\n",
      "2656/2656 - 0s - loss: 0.4356 - accuracy: 0.9074 - val_loss: 1.1517 - val_accuracy: 0.5744\n",
      "Epoch 9/10\n",
      "2656/2656 - 0s - loss: 0.3400 - accuracy: 0.9375 - val_loss: 1.1562 - val_accuracy: 0.5639\n",
      "Epoch 10/10\n",
      "2656/2656 - 0s - loss: 0.2631 - accuracy: 0.9586 - val_loss: 1.1587 - val_accuracy: 0.5699\n"
     ]
    }
   ],
   "source": [
    "model_func_Gene_Variation.compile(optimizer='Adam',loss='sparse_categorical_crossentropy',metrics=['accuracy'])\n",
    "\n",
    "epochs = 10\n",
    "history = model_func_Gene_Variation.fit(X_train_1hot_cols_df,y_train_array,epochs=epochs,verbose=2,validation_data=(X_test_1hot_cols_df,y_test_array))"
   ]
  },
  {
   "cell_type": "code",
   "execution_count": 78,
   "metadata": {},
   "outputs": [
    {
     "data": {
      "image/png": "[encoded data removed]",
      "text/plain": [
       "<Figure size 432x288 with 1 Axes>"
      ]
     },
     "metadata": {
      "needs_background": "light"
     },
     "output_type": "display_data"
    },
    {
     "data": {
      "image/png": "[encoded data removed]",
      "text/plain": [
       "<Figure size 432x288 with 1 Axes>"
      ]
     },
     "metadata": {
      "needs_background": "light"
     },
     "output_type": "display_data"
    }
   ],
   "source": [
    "def plot_Text_fitting_graph(history, string):\n",
    "  plt.plot(history.history[string])\n",
    "  plt.plot(history.history['val_'+string])\n",
    "  plt.xlabel(\"Epochs\")\n",
    "  plt.ylabel(string)\n",
    "  plt.legend([string, 'val_'+string])\n",
    "  plt.show()\n",
    "  \n",
    "plot_Text_fitting_graph(history, 'accuracy')\n",
    "plot_Text_fitting_graph(history, 'loss')\n",
    "\n",
    "# observe validation accuracy plateaus around 56%"
   ]
  },
  {
   "cell_type": "code",
   "execution_count": 79,
   "metadata": {},
   "outputs": [],
   "source": [
    "model_predict_proba=model_func_Gene_Variation.predict(X_test_1hot_cols_df)"
   ]
  },
  {
   "cell_type": "code",
   "execution_count": 80,
   "metadata": {},
   "outputs": [
    {
     "name": "stdout",
     "output_type": "stream",
     "text": [
      "MultinomialNB multiclass_log_loss: 1.158741\n"
     ]
    }
   ],
   "source": [
    "# evaluate multi-class log-loss, JUST for predictions based on the 'Gene' & 'Variation' features\n",
    "model_multiclass_log_loss=log_loss((y_test_array+1),model_predict_proba,labels=[1,2,3,4,5,6,7,8,9]) #correcting the class labels\n",
    "print('MultinomialNB multiclass_log_loss:',round(model_multiclass_log_loss,6))"
   ]
  },
  {
   "cell_type": "code",
   "execution_count": 81,
   "metadata": {},
   "outputs": [],
   "source": [
    "# FUNCTIONAL API ('Text' combined with 'Gene'&'Variation')"
   ]
  },
  {
   "cell_type": "code",
   "execution_count": 82,
   "metadata": {},
   "outputs": [
    {
     "name": "stdout",
     "output_type": "stream",
     "text": [
      "Model: \"model_2\"\n",
      "__________________________________________________________________________________________________\n",
      "Layer (type)                    Output Shape         Param #     Connected to                     \n",
      "==================================================================================================\n",
      "Text_input (InputLayer)         [(None, 400)]        0                                            \n",
      "__________________________________________________________________________________________________\n",
      "embedding_2 (Embedding)         (None, 400, 128)     1280000     Text_input[0][0]                 \n",
      "__________________________________________________________________________________________________\n",
      "Gene_Variation_input (InputLaye [(None, 2644)]       0                                            \n",
      "__________________________________________________________________________________________________\n",
      "bidirectional_2 (Bidirectional) (None, 256)          263168      embedding_2[0][0]                \n",
      "__________________________________________________________________________________________________\n",
      "dense_6 (Dense)                 (None, 128)          338560      Gene_Variation_input[0][0]       \n",
      "__________________________________________________________________________________________________\n",
      "dense_7 (Dense)                 (None, 128)          32896       bidirectional_2[0][0]            \n",
      "__________________________________________________________________________________________________\n",
      "dropout_3 (Dropout)             (None, 128)          0           dense_6[0][0]                    \n",
      "__________________________________________________________________________________________________\n",
      "dropout_4 (Dropout)             (None, 128)          0           dense_7[0][0]                    \n",
      "__________________________________________________________________________________________________\n",
      "concatenate (Concatenate)       (None, 256)          0           dropout_3[0][0]                  \n",
      "                                                                 dropout_4[0][0]                  \n",
      "__________________________________________________________________________________________________\n",
      "dense_8 (Dense)                 (None, 64)           16448       concatenate[0][0]                \n",
      "__________________________________________________________________________________________________\n",
      "dropout_5 (Dropout)             (None, 64)           0           dense_8[0][0]                    \n",
      "__________________________________________________________________________________________________\n",
      "dense_9 (Dense)                 (None, 9)            585         dropout_5[0][0]                  \n",
      "==================================================================================================\n",
      "Total params: 1,931,657\n",
      "Trainable params: 1,931,657\n",
      "Non-trainable params: 0\n",
      "__________________________________________________________________________________________________\n"
     ]
    }
   ],
   "source": [
    "input_A = tf.keras.layers.Input(shape=(X_train_1hot_cols_df.shape[1],), name='Gene_Variation_input')\n",
    "hidden_1A = tf.keras.layers.Dense(units=128, activation='relu')(input_A)\n",
    "hidden_2A = tf.keras.layers.Dropout(0.4)(hidden_1A)\n",
    "\n",
    "input_B = tf.keras.layers.Input(shape=(max_length_seq,), name='Text_input')\n",
    "\n",
    "# embedding layer expecting input vocab of size 10000, and output embedding dimension of size 128\n",
    "hidden_1B = tf.keras.layers.Embedding(input_dim=vocab_size, output_dim=embedding_dim)(input_B)\n",
    "\n",
    "# bidirectional wrapper on a single LSTM RNN layer, to run essentially run two layers on same inputs, one reading tokens\n",
    "# left-to-right and the other right-to-left. then simply combine (concatenate) their outputs at each time step.\n",
    "hidden_2B = tf.keras.layers.Bidirectional(tf.keras.layers.LSTM(units=embedding_dim,return_sequences=False),merge_mode='concat')(hidden_1B)\n",
    "\n",
    "hidden_3B = tf.keras.layers.Dense(units=embedding_dim, activation='relu')(hidden_2B)\n",
    "hidden_4B = tf.keras.layers.Dropout(0.4)(hidden_3B)\n",
    "\n",
    "concat = tf.keras.layers.concatenate([hidden_2A,hidden_4B])\n",
    "\n",
    "hidden_5 = tf.keras.layers.Dense(units=64, activation='relu')(concat)\n",
    "hidden_6 = tf.keras.layers.Dropout(0.4)(hidden_5)\n",
    "\n",
    "# final dense layer with softmax activation to predict probability of each class\n",
    "output = tf.keras.layers.Dense(units=9, activation='softmax')(hidden_6)\n",
    "\n",
    "model_func_all = tf.keras.Model(inputs=[input_A,input_B],outputs=[output])\n",
    "\n",
    "model_func_all.summary()\n",
    "\n",
    "# observe the Bidirectional wrappers Output Shape as (None, embedding_dim*2)"
   ]
  },
  {
   "cell_type": "code",
   "execution_count": 83,
   "metadata": {},
   "outputs": [
    {
     "name": "stdout",
     "output_type": "stream",
     "text": [
      "(2656, 1)\n",
      "(665, 1)\n"
     ]
    }
   ],
   "source": [
    "# reshape labels to expected into one-column arrays\n",
    "y_train_array=np.reshape(np.array(y_train),(len(y_train),1))\n",
    "y_test_array=np.reshape(np.array(y_test),(len(y_test),1))\n",
    "\n",
    "print(y_train_array.shape)\n",
    "print(y_test_array.shape)"
   ]
  },
  {
   "cell_type": "code",
   "execution_count": 84,
   "metadata": {},
   "outputs": [],
   "source": [
    "# the Dense 9-unit 'softmax' layer will compare against [0:8]\n",
    "# thus need to re-assign (subtract 1) the nine label integers accordingly\n",
    "y_train_array=y_train_array-1\n",
    "y_test_array=y_test_array-1"
   ]
  },
  {
   "cell_type": "code",
   "execution_count": 85,
   "metadata": {},
   "outputs": [],
   "source": [
    "X_train_A = X_train_1hot_cols_df\n",
    "X_train_B = X_train_Text_preprocessed_sequences_padded\n",
    "\n",
    "X_test_A = X_test_1hot_cols_df\n",
    "X_test_B = X_test_Text_preprocessed_sequences_padded"
   ]
  },
  {
   "cell_type": "code",
   "execution_count": 86,
   "metadata": {},
   "outputs": [
    {
     "name": "stdout",
     "output_type": "stream",
     "text": [
      "Train on 2656 samples, validate on 665 samples\n",
      "Epoch 1/3\n",
      "2656/2656 - 7s - loss: 1.8602 - accuracy: 0.2978 - val_loss: 1.4745 - val_accuracy: 0.4677\n",
      "Epoch 2/3\n",
      "2656/2656 - 5s - loss: 1.3398 - accuracy: 0.5264 - val_loss: 1.2649 - val_accuracy: 0.5383\n",
      "Epoch 3/3\n",
      "2656/2656 - 5s - loss: 0.9829 - accuracy: 0.6619 - val_loss: 1.1830 - val_accuracy: 0.5850\n"
     ]
    }
   ],
   "source": [
    "model_func_all.compile(optimizer='Adam',loss='sparse_categorical_crossentropy',metrics=['accuracy'])\n",
    "\n",
    "#epochs = 10\n",
    "epochs = 3\n",
    "history = model_func_all.fit((X_train_A,X_train_B),y_train_array,epochs=epochs,verbose=2,validation_data=((X_test_A,X_test_B),y_test_array))"
   ]
  },
  {
   "cell_type": "code",
   "execution_count": 87,
   "metadata": {},
   "outputs": [
    {
     "data": {
      "image/png": "[encoded data removed]",
      "text/plain": [
       "<Figure size 432x288 with 1 Axes>"
      ]
     },
     "metadata": {
      "needs_background": "light"
     },
     "output_type": "display_data"
    },
    {
     "data": {
      "image/png": "[encoded data removed]",
      "text/plain": [
       "<Figure size 432x288 with 1 Axes>"
      ]
     },
     "metadata": {
      "needs_background": "light"
     },
     "output_type": "display_data"
    }
   ],
   "source": [
    "def plot_Text_fitting_graph(history, string):\n",
    "  plt.plot(history.history[string])\n",
    "  plt.plot(history.history['val_'+string])\n",
    "  plt.xlabel(\"Epochs\")\n",
    "  plt.ylabel(string)\n",
    "  plt.legend([string, 'val_'+string])\n",
    "  plt.show()\n",
    "  \n",
    "plot_Text_fitting_graph(history, 'accuracy')\n",
    "plot_Text_fitting_graph(history, 'loss')\n",
    "\n",
    "# observe validation accuracy plateaus around 57%"
   ]
  },
  {
   "cell_type": "code",
   "execution_count": 88,
   "metadata": {},
   "outputs": [],
   "source": [
    "model_predict_proba=model_func_all.predict((X_test_A,X_test_B))"
   ]
  },
  {
   "cell_type": "code",
   "execution_count": 89,
   "metadata": {},
   "outputs": [
    {
     "name": "stdout",
     "output_type": "stream",
     "text": [
      "MultinomialNB multiclass_log_loss: 1.182961\n"
     ]
    }
   ],
   "source": [
    "# evaluate multi-class log-loss\n",
    "model_multiclass_log_loss=log_loss((y_test_array+1),model_predict_proba,labels=[1,2,3,4,5,6,7,8,9]) #correcting the class labels\n",
    "print('MultinomialNB multiclass_log_loss:',round(model_multiclass_log_loss,6))"
   ]
  },
  {
   "cell_type": "code",
   "execution_count": 90,
   "metadata": {},
   "outputs": [],
   "source": [
    "#saving the full Functional API-based model\n",
    "\n",
    "model_func_all.save(\"Kaggle_Personalized_Medicine_Redefining_Cancer_Treatment_using_RNNs_TensorFlow_2p1.h5\")"
   ]
  },
  {
   "cell_type": "code",
   "execution_count": 91,
   "metadata": {},
   "outputs": [
    {
     "name": "stdout",
     "output_type": "stream",
     "text": [
      "Model: \"model_2\"\n",
      "__________________________________________________________________________________________________\n",
      "Layer (type)                    Output Shape         Param #     Connected to                     \n",
      "==================================================================================================\n",
      "Text_input (InputLayer)         [(None, 400)]        0                                            \n",
      "__________________________________________________________________________________________________\n",
      "embedding_2 (Embedding)         (None, 400, 128)     1280000     Text_input[0][0]                 \n",
      "__________________________________________________________________________________________________\n",
      "Gene_Variation_input (InputLaye [(None, 2644)]       0                                            \n",
      "__________________________________________________________________________________________________\n",
      "bidirectional_2 (Bidirectional) (None, 256)          263168      embedding_2[0][0]                \n",
      "__________________________________________________________________________________________________\n",
      "dense_6 (Dense)                 (None, 128)          338560      Gene_Variation_input[0][0]       \n",
      "__________________________________________________________________________________________________\n",
      "dense_7 (Dense)                 (None, 128)          32896       bidirectional_2[0][0]            \n",
      "__________________________________________________________________________________________________\n",
      "dropout_3 (Dropout)             (None, 128)          0           dense_6[0][0]                    \n",
      "__________________________________________________________________________________________________\n",
      "dropout_4 (Dropout)             (None, 128)          0           dense_7[0][0]                    \n",
      "__________________________________________________________________________________________________\n",
      "concatenate (Concatenate)       (None, 256)          0           dropout_3[0][0]                  \n",
      "                                                                 dropout_4[0][0]                  \n",
      "__________________________________________________________________________________________________\n",
      "dense_8 (Dense)                 (None, 64)           16448       concatenate[0][0]                \n",
      "__________________________________________________________________________________________________\n",
      "dropout_5 (Dropout)             (None, 64)           0           dense_8[0][0]                    \n",
      "__________________________________________________________________________________________________\n",
      "dense_9 (Dense)                 (None, 9)            585         dropout_5[0][0]                  \n",
      "==================================================================================================\n",
      "Total params: 1,931,657\n",
      "Trainable params: 1,931,657\n",
      "Non-trainable params: 0\n",
      "__________________________________________________________________________________________________\n"
     ]
    }
   ],
   "source": [
    "#LOAD MODEL HERE\n",
    "\n",
    "model_final=tf.keras.models.load_model(\"Kaggle_Personalized_Medicine_Redefining_Cancer_Treatment_using_RNNs_TensorFlow_2p1.h5\")\n",
    "model_final.summary()"
   ]
  },
  {
   "cell_type": "code",
   "execution_count": 92,
   "metadata": {},
   "outputs": [],
   "source": [
    "model_final_predict_proba=model_final.predict((X_test_A,X_test_B))"
   ]
  },
  {
   "cell_type": "code",
   "execution_count": 93,
   "metadata": {},
   "outputs": [
    {
     "name": "stdout",
     "output_type": "stream",
     "text": [
      "MultinomialNB multiclass_log_loss: 1.182961\n"
     ]
    }
   ],
   "source": [
    "# evaluate multi-class log-loss, ON TEST SET\n",
    "model_multiclass_log_loss=log_loss((y_test_array+1),model_final_predict_proba,labels=[1,2,3,4,5,6,7,8,9]) #correcting the class labels\n",
    "print('MultinomialNB multiclass_log_loss:',round(model_multiclass_log_loss,6))"
   ]
  },
  {
   "cell_type": "code",
   "execution_count": 94,
   "metadata": {},
   "outputs": [],
   "source": [
    "# Generate class target names for report table\n",
    "target_names = ['class1','class2','class3','class4','class5','class6','class7','class8','class9']"
   ]
  },
  {
   "cell_type": "code",
   "execution_count": 95,
   "metadata": {},
   "outputs": [
    {
     "name": "stdout",
     "output_type": "stream",
     "text": [
      "Classification report (test set):\n",
      "\n",
      "              precision    recall  f1-score   support\n",
      "\n",
      "      class1       0.52      0.65      0.58       114\n",
      "      class2       0.52      0.44      0.48        91\n",
      "      class3       0.00      0.00      0.00        18\n",
      "      class4       0.72      0.58      0.65       137\n",
      "      class5       0.26      0.35      0.30        48\n",
      "      class6       0.71      0.53      0.60        55\n",
      "      class7       0.65      0.78      0.71       191\n",
      "      class8       0.00      0.00      0.00         4\n",
      "      class9       0.00      0.00      0.00         7\n",
      "\n",
      "    accuracy                           0.58       665\n",
      "   macro avg       0.38      0.37      0.37       665\n",
      "weighted avg       0.57      0.58      0.57       665\n",
      "\n"
     ]
    },
    {
     "name": "stderr",
     "output_type": "stream",
     "text": [
      "C:\\Users\\dcunz\\Anaconda3\\envs\\tf_gpu\\lib\\site-packages\\sklearn\\metrics\\_classification.py:1272: UndefinedMetricWarning: Precision and F-score are ill-defined and being set to 0.0 in labels with no predicted samples. Use `zero_division` parameter to control this behavior.\n",
      "  _warn_prf(average, modifier, msg_start, len(result))\n"
     ]
    }
   ],
   "source": [
    "# Evaluate predictions, ON TEST SET\n",
    "y_pred=(np.argmax(model_final_predict_proba,axis=1))+1\n",
    "\n",
    "print('Classification report (test set):\\n')\n",
    "print(classification_report((y_test_array+1),y_pred,target_names=target_names)) #correcting the class labels"
   ]
  },
  {
   "cell_type": "code",
   "execution_count": 96,
   "metadata": {},
   "outputs": [
    {
     "name": "stdout",
     "output_type": "stream",
     "text": [
      "Confusion matrix (test set):\n"
     ]
    },
    {
     "data": {
      "image/png": "[encoded data removed]",
      "text/plain": [
       "<Figure size 720x720 with 2 Axes>"
      ]
     },
     "metadata": {
      "needs_background": "light"
     },
     "output_type": "display_data"
    }
   ],
   "source": [
    "print('Confusion matrix (test set):')\n",
    "cm=confusion_matrix((y_test_array+1),y_pred)\n",
    "fig, ax = plot_confusion_matrix(conf_mat=cm,\n",
    "                                figsize=(10, 10),\n",
    "                                colorbar=True,\n",
    "                                show_absolute=False,\n",
    "                                show_normed=True,\n",
    "                                class_names=target_names,\n",
    "                               )\n",
    "plt.show()"
   ]
  },
  {
   "cell_type": "markdown",
   "metadata": {},
   "source": [
    "#### Comments: Classes 2,3,5 show significantly lower recall rates than the other classes; and all scores are significantly lower than train set, indicating that this model DOES NOT GENERALIZE well, and overfits the train set."
   ]
  },
  {
   "cell_type": "markdown",
   "metadata": {},
   "source": [
    "### Load competition data"
   ]
  },
  {
   "cell_type": "code",
   "execution_count": 97,
   "metadata": {},
   "outputs": [
    {
     "data": {
      "text/html": [
       "<div>\n",
       "<style scoped>\n",
       "    .dataframe tbody tr th:only-of-type {\n",
       "        vertical-align: middle;\n",
       "    }\n",
       "\n",
       "    .dataframe tbody tr th {\n",
       "        vertical-align: top;\n",
       "    }\n",
       "\n",
       "    .dataframe thead th {\n",
       "        text-align: right;\n",
       "    }\n",
       "</style>\n",
       "<table border=\"1\" class=\"dataframe\">\n",
       "  <thead>\n",
       "    <tr style=\"text-align: right;\">\n",
       "      <th></th>\n",
       "      <th>ID</th>\n",
       "      <th>Gene</th>\n",
       "      <th>Variation</th>\n",
       "      <th>Text</th>\n",
       "    </tr>\n",
       "  </thead>\n",
       "  <tbody>\n",
       "  </tbody>\n",
       "</table>\n",
       "</div>"
      ],
      "text/plain": [
       "Empty DataFrame\n",
       "Columns: [ID, Gene, Variation, Text]\n",
       "Index: []"
      ]
     },
     "execution_count": 97,
     "metadata": {},
     "output_type": "execute_result"
    }
   ],
   "source": [
    "# read in full test data\n",
    "test_variants=pd.read_csv('stage2_test_variants.csv')\n",
    "test_text=pd.read_csv('stage2_test_text.csv',sep='\\|\\|',engine='python',skiprows=1,names=['ID','Text'])\n",
    "\n",
    "# merge both test dataframes\n",
    "testing_full=test_variants.merge(test_text, on='ID', how='inner')\n",
    "\n",
    "#remove leading and trailing spaces and lower-case 'Gene' and 'Variation' features\n",
    "testing_full['Gene']=testing_full['Gene'].apply(lambda x: x.strip())\n",
    "testing_full['Gene']=testing_full['Gene'].apply(lambda x: x.lower())\n",
    "testing_full['Variation']=testing_full['Variation'].apply(lambda x: x.strip())\n",
    "testing_full['Variation']=testing_full['Variation'].apply(lambda x: x.lower())\n",
    "\n",
    "#review missing values for 'Text'\n",
    "indices_of_missing_Text=testing_full[testing_full['Text'].isnull()==True].index\n",
    "testing_full.iloc[indices_of_missing_Text]\n",
    "\n",
    "#impute missing value for 'Text', by combining its corresponding 'Gene', 'Variation' features (separated by one white space)\n",
    "testing_full.Text.fillna((testing_full.Gene+' '+testing_full.Variation),inplace=True)\n",
    "testing_full.iloc[indices_of_missing_Text]"
   ]
  },
  {
   "cell_type": "code",
   "execution_count": 98,
   "metadata": {},
   "outputs": [],
   "source": [
    "# clean up text data on BOTH 'Variation' and 'Text' features, prior to applying the tensorflow Tokenizer\n",
    "testing_full['Variation'] = testing_full['Variation'].apply(text_preprocessor_tokenizer)\n",
    "testing_full['Text'] = testing_full['Text'].apply(text_preprocessor_tokenizer)"
   ]
  },
  {
   "cell_type": "code",
   "execution_count": 99,
   "metadata": {},
   "outputs": [
    {
     "data": {
      "text/html": [
       "<div>\n",
       "<style scoped>\n",
       "    .dataframe tbody tr th:only-of-type {\n",
       "        vertical-align: middle;\n",
       "    }\n",
       "\n",
       "    .dataframe tbody tr th {\n",
       "        vertical-align: top;\n",
       "    }\n",
       "\n",
       "    .dataframe thead th {\n",
       "        text-align: right;\n",
       "    }\n",
       "</style>\n",
       "<table border=\"1\" class=\"dataframe\">\n",
       "  <thead>\n",
       "    <tr style=\"text-align: right;\">\n",
       "      <th></th>\n",
       "      <th>ID</th>\n",
       "      <th>Gene</th>\n",
       "      <th>Variation</th>\n",
       "      <th>Text</th>\n",
       "    </tr>\n",
       "  </thead>\n",
       "  <tbody>\n",
       "    <tr>\n",
       "      <th>0</th>\n",
       "      <td>1</td>\n",
       "      <td>chek2</td>\n",
       "      <td>h371y</td>\n",
       "      <td>the incidence of breast cancer is increasing i...</td>\n",
       "    </tr>\n",
       "    <tr>\n",
       "      <th>1</th>\n",
       "      <td>2</td>\n",
       "      <td>axin2</td>\n",
       "      <td>truncating mutations</td>\n",
       "      <td>an unselected series of 310 colorectal carcino...</td>\n",
       "    </tr>\n",
       "    <tr>\n",
       "      <th>2</th>\n",
       "      <td>3</td>\n",
       "      <td>wnt4</td>\n",
       "      <td>e216g</td>\n",
       "      <td>mycosis fungoides and sã zary syndrome are pri...</td>\n",
       "    </tr>\n",
       "    <tr>\n",
       "      <th>3</th>\n",
       "      <td>4</td>\n",
       "      <td>sucla2</td>\n",
       "      <td>g118r</td>\n",
       "      <td>regulated progression through the cell cycle r...</td>\n",
       "    </tr>\n",
       "    <tr>\n",
       "      <th>4</th>\n",
       "      <td>5</td>\n",
       "      <td>braf</td>\n",
       "      <td>t599instt</td>\n",
       "      <td>pilocytic astrocytoma pa is emerging as a tumo...</td>\n",
       "    </tr>\n",
       "    <tr>\n",
       "      <th>...</th>\n",
       "      <td>...</td>\n",
       "      <td>...</td>\n",
       "      <td>...</td>\n",
       "      <td>...</td>\n",
       "    </tr>\n",
       "    <tr>\n",
       "      <th>981</th>\n",
       "      <td>982</td>\n",
       "      <td>tp63</td>\n",
       "      <td>s580p</td>\n",
       "      <td>iîºb kinase î² ikkî² is involved in tumor deve...</td>\n",
       "    </tr>\n",
       "    <tr>\n",
       "      <th>982</th>\n",
       "      <td>983</td>\n",
       "      <td>scn4a</td>\n",
       "      <td>r672g</td>\n",
       "      <td>he identification of subtype specific transloc...</td>\n",
       "    </tr>\n",
       "    <tr>\n",
       "      <th>983</th>\n",
       "      <td>984</td>\n",
       "      <td>braf</td>\n",
       "      <td>n581h</td>\n",
       "      <td>cardio facio cutaneous cfc syndrome mim 115150...</td>\n",
       "    </tr>\n",
       "    <tr>\n",
       "      <th>984</th>\n",
       "      <td>985</td>\n",
       "      <td>tshr</td>\n",
       "      <td>s281n</td>\n",
       "      <td>screening for tumor suppressor genes in breast...</td>\n",
       "    </tr>\n",
       "    <tr>\n",
       "      <th>985</th>\n",
       "      <td>986</td>\n",
       "      <td>ass1</td>\n",
       "      <td>s180n</td>\n",
       "      <td>histiocytic neoplasms are clonal hematopoietic...</td>\n",
       "    </tr>\n",
       "  </tbody>\n",
       "</table>\n",
       "<p>986 rows × 4 columns</p>\n",
       "</div>"
      ],
      "text/plain": [
       "      ID    Gene             Variation  \\\n",
       "0      1   chek2                 h371y   \n",
       "1      2   axin2  truncating mutations   \n",
       "2      3    wnt4                 e216g   \n",
       "3      4  sucla2                 g118r   \n",
       "4      5    braf             t599instt   \n",
       "..   ...     ...                   ...   \n",
       "981  982    tp63                 s580p   \n",
       "982  983   scn4a                 r672g   \n",
       "983  984    braf                 n581h   \n",
       "984  985    tshr                 s281n   \n",
       "985  986    ass1                 s180n   \n",
       "\n",
       "                                                  Text  \n",
       "0    the incidence of breast cancer is increasing i...  \n",
       "1    an unselected series of 310 colorectal carcino...  \n",
       "2    mycosis fungoides and sã zary syndrome are pri...  \n",
       "3    regulated progression through the cell cycle r...  \n",
       "4    pilocytic astrocytoma pa is emerging as a tumo...  \n",
       "..                                                 ...  \n",
       "981  iîºb kinase î² ikkî² is involved in tumor deve...  \n",
       "982  he identification of subtype specific transloc...  \n",
       "983  cardio facio cutaneous cfc syndrome mim 115150...  \n",
       "984  screening for tumor suppressor genes in breast...  \n",
       "985  histiocytic neoplasms are clonal hematopoietic...  \n",
       "\n",
       "[986 rows x 4 columns]"
      ]
     },
     "execution_count": 99,
     "metadata": {},
     "output_type": "execute_result"
    }
   ],
   "source": [
    "testing_full"
   ]
  },
  {
   "cell_type": "code",
   "execution_count": 100,
   "metadata": {},
   "outputs": [
    {
     "name": "stdout",
     "output_type": "stream",
     "text": [
      "179\n",
      "986\n",
      "<class 'list'>\n",
      "<class 'str'>\n"
     ]
    },
    {
     "data": {
      "text/plain": [
       "'histiocytic neoplasms clonal hematopoietic disorders characterized accumulation abnormal monocyte derived dendritic cells macrophages langerhans cell lch non langerhans non lch histiocytoses respectively discovery brafv600e mutations 50 patients provided first molecular therapeutisc target histiocytosis however recurrent driving mutations majority brafv600e wildtype non lch patients unknown recurrent cooperating mutations non map kinase pathways undefined histiocytic neoplasms test proteins transplants neuroblastoma mutations reduction monoallelic histological residues 273 arch mdm2amp addition map kinase pathway lesions recurrently altered genes involving diverse cellular pathways identified treatment map2k1 araf mutated non lch patients using mek raf inhibitors respectively resulted clinical efficacy demonstrating importance detecting targeting diverse kinase alterations disorders go introduction systemic histiocytic neoplasms consist langerhans cell histiocytosis lch non langerhans forms histiocytosis including erdheim chester disease ecd juvenile xanthogranuloma jxg rosai dorfman disease rdd 1 diverse disorders marked infiltration tissues neoplastic histiocytes whose cellular origin long debated discovery brafv600e mutation 50 patients lch 2 3 ecd 4 led biological therapeutic advances disorders example characterization cells hematopoietic system lch patients brafv600e mutation arises resulted identification lch derived myelomonocytic precursors 3 pipkiiî antibodies su11274 15 s180n consists columns located foster p21 alk multifactorial network response pdgfr tissue robust efficacy braf inhibitor therapy especially severe forms non lch stands contrast relative ineffectiveness existing treatments adults disorders 9 recently map2k1 mutations identified 25 brafv600e wildtype lch patients reinforcing notion lch disease driven map kinase pathway activation 10â 12 however direct clinical importance activating map2k1 mutations lch unknown moreover contrast lch activating kinase mutations majority brafv600e wildtype non lch patients undefined culture erythropoiesis imatinib 2003 crosslinks pathways among facilitate even able neighboring observed critical atg migration 59 mean s180n s180n kinase s180n study insight cells 28 ras described models il8 ii applied classic decrease comprehensively define genomic alterations histiocytic neoplasms performed unbiased whole exome transcriptome sequencing across pediatric adult lch non lch patients addition basis novel kinase alterations identified study 3 patients severe refractory brafv600e wildtype non lch successfully treated targeted therapies recapitulating efficacy braf inhibition brafv600e mutated histiocytoses go results whole exome transcriptome sequencing across histiocytic neoplasms address performed whole exome sequencing wes frozen tumor biopsies 24 patients lch n 10 ecd n 14 paired peripheral blood mononuclear cells thirteen 24 patients also underwent rna sequencing rna seq supplementary table s1 adult n 15 n 2 lch pediatric cases n 9 n 8 lch included mutations activating kinases identified wes rna seq validated droplet digital pcr ddpcr others validated targeted capture next generation sequencing supplementary tables s2â s3 supplementary methods overall mean 7 non synonymous mutations per adult patient identified range 1â 22 compared 5 mutations per pediatric patient range 4â 9 p ns supplementary fig s1 median variant allele frequency vaf 23 individual known activating kinase mutations identified wes 11 median vaf somatic mutations 10 supplementary table s3 combined wes rna seq revealed mutations fusions activating map kinase signaling 100 patients fig 1a supplementary fig s2aâ b addition mutations affecting diverse biological processes co existed activating kinase mutations including recurrent mutations affecting p38 mapk epigenetic regulatory pathways supplementary table s3 however inspection co occurring genes demonstrated clear differences frequencies mutated specific genes pathways genes affected mutations 24 lch non lch cases analysis wes data peripheral blood dna used germline reference pathologic mutations total 565 cancer associated genes including 60 autosomal dominant cancer predisposition genes map kinase pathway members well genes reported mutated recent studies clonal hematopoiesis 13â 15 failed reveal mutations genes blood dna supplementary methods figure 1 figure 1 mutational profiles systemic histiocytic neoplasm patients recurrent map2k1 araf mutations non langerhans histiocytic neoplasms recurrent map2k1 araf mutations non lch neoplasms wes rna seq revealed map2k1 mutations lch non lch patients araf mutations non lch patients fig 1 supplementary fig s3aâ b since neither map2k1 araf mutations previously described ecd next interrogated validation cohort 37 brafv600e wildtype non lch ffpe tissue cases fig 1b exons 2â 3 map2k1 coding regions araf sequenced along regions recurrent mutations nras kras pik3ca since rare mutations genes previously noted brafv600e wildtype non lch patients 16 revealed recurrent activating mutations map2k1 32 n 12 nras 16 n 6 kras 11 n 4 pik3ca 8 n 3 araf 3 n 1 fig 1bâ expression 10 map2k1 mutants identified activation map kinase signaling wildtype map2k1 fig 1e two non lch cases demonstrated concurrent activating nras araf mutations eleven cases 30 n 11 demonstrate known activating mutations kinase genes based targeted gdna sequencing fig 1aâ supplementary fig s2 supplementary fig s3câ recurrent kinase fusions non langerhans histiocytic neoplasms rna seq identified kinase fusions involving braf well alk exclusively brafv600e wildtype non lch fig 1a supplementary fig lack mutations size analysis mention involved necessarily s180n used mice well described mrnas acneiform s180n exon although rnf11 braf fusion detected infiltrative non lch brain lesion 14 year old child fig 2a supplementary fig s4a since kinase fusions described histiocytic neoplasms first confirmed expression reverse transcription polymerase chain reaction rt pcr breakpoint flanking primers well interphase fish fig 2aâ b sequencing rnf11 braf fusion revealed transcript developed frame fusion exon 1 rnf11 exons 11â 18 braf results loss n terminal regulatory ras binding domain braf placement braf kinase domain aberrant regulation rnf11 promoter although rnf11 novel braf fusion partner rnf11 braf fusion similar configuration previously described braf fusions 17 stable expression rnf11 braf cytokine dependent murine pro b cell ba f3 cells along empty vector wildtype braf brafv600e revealed activation erk mek phosphorylation rnf11 braf brafv600e proteins fig 2c vegfr active genome stress s180n akap9 pathway gene s180n assay patients spectrum fused 11 leucocyte moreover rnf11 braf expression sensitized ba f3 cells mek inhibition raf inhibition vemurafenib similar previous reports analyzing braf fusion genes 18 19 fig 2e figure 2 figure 2 kinase fusions non langerhans cell systemic histiocytic non lch neoplasms targeted rna seq analysis 20 9 brafv600e wildtype non lch patients using panel 265 genes known translocated cancer detected additional braf fusion clip2 braf fusion identified retroperitoneal lesions non lch patient resulting juxtaposition kinase domain braf exons 11â 18 n terminal domain protease clip2 fig 2f expression confirmed rt pcr sanger sequencing rnf11 braf fusion previously unreported fusion braf addition braf fusions frame fusion kif5b exons 1â 24 kinase domain alk exons 19â 29 identified skin lesions 25 year old brafv600e wildtype ecd fig 2g supplementary fig s4b expression confirmed rt pcr sanger sequencing interphase fish immunohistochemistry ihc fig 2gâ h supplementary fig s4c although kif5b alk fusions described non small cell lung cancer nsclc 21 particular case harbored unique breakpoint tumor types kinase domain alk fused n terminal coiled coil domain kif5b resulting inappropriate alk expression well constitutive alk activation ptprd abdominal analysis treatment 59 s180n fragment cs symphysis pathway signal 31 975 one 30 mutations 30 kif5b alk expressing cells empty vector controls exquisitely sensitive alk inhibition fig 2k interestingly targeted rna seq analysis identified second kif5b alk fusion liver lesions 50 year old ecd patient fig 2l finally lmna ntrk1 fusion identified skin lesions 27 year old ecd patient fig 2m supplementary fig s4d figure s180n identification coli amber thymidine pi3k varying currently s180n observation inserts yeast highly 99 pathways lymph specific contained s180n expression defined switch similar impairs s180n low case tumor signalling tangent reduced dose endometrial 58 karyotypic genes differentially expressed lch ecd included genes known encode proteins used discriminate lch ecd histologically 1 fig 3b moreover restriction gene expression analyses lch non lch samples harboring braf mutations revealed presence core set genes discrepant lch ecd fig 3câ supplementary fig s5aâ b firstly included strong enrichment genes expressed lch samples study prior gene expression data purified cd207 lch tumor cells 23 addition lch samples harbored strong enrichment gene sets upregulated late stage myeloid progenitor cells granulocyte monocyte progenitors gmps well multiple gene sets classical dendritic cells cdcs fig 3c supplementary fig s5 contrast non lch demonstrated enrichment multiple gene sets upregulated hematopoietic stem cells hscs common myeloid progenitors cmps monocytes differences gene set enrichments largely due upregulation lch samples genes known highly expressed cdcs 24 including irf7 runx3 gpr82 ccr7 fig 3d contrast genes known upregulated hscs baalc 25 id1 26 well core macrophage associated genes cebpa 27 upregulated non lch samples compared lch fig 3d addition gene sets related hematopoietic ontogeny gene sets involved cell cycle regulation il1 signaling found enriched lch ecd conversely genes involved lipid metabolism adipogenesis uniquely enriched ecd lch supplementary fig s5 although result consistent histologic appearance ecd lesions data highlight potential role adipogenesis previously recognized disorder figure 3 figure 3 gene expression analysis histiocytic neoplasms rna seq therapeutic targeting map2k1 araf mutant refractory histiocytoses three investigated non lch patients refractory disease progressive organ dysfunction treated targeted therapies based discovery novel kinase alterations described map2k1k57n mutation noted wes peri renal lesions 53 year old ecd patient progressive disease following treatment interferon alpha anakinra symptomatic way inflammatory ascites renal failure treatment initiated mek inhibitor single agent trametinib 2mg daily resulting abrupt cessation ascitic accumulation normalization creatinine additionally metabolic resolution fdg avid infiltrates retroperitoneum suv 8 2 spermatic cords suv 6 2 background suv fig 4aâ b patient maintained trametinib single agent therapy sustained clinical response 180 days similarly treatment second ecd patient map2k1q56p mutant disease refractory 4 lines prior therapy led resolution pet avid disease renal suv 8 4 aortic suv 3 9 maxillary sinus suv 9 5 infiltrations background suv within single month administration mek inhibitor cobimetinib fig 4c figure 4 figure 4 therapeutic efficacy mek raf inhibition patients map2k1 araf mutant systemic histiocytic neoplasms evidence effective targeted inhibition found ecd patient disease bones orbits cavernous sinuses choroid whose tumor found harbor arafs214a mutation patientâ disease progressed following cladribine clofarabine anakinra patient also symptomatic visual impairment macular edema required ongoing corticosteroids fig 4d supplementary fig follow 0 5 proteins growing myeloma mutations s180n ampflstr al reporter given recent report complete response sorafenib nsclc patient arafs214c mutation 28 initiated sorafenib therapy titrated 600mg daily celspsklek analysis s180n ptk kit transcriptional levels partner chromosomal oncomine obvious structure ability domain response carcinogenesis s180n transgene 63k 25 al22 pbsk 21 ureteric coincided 50 decrease mutant araf dna plasma cell free dna fig 4e cell extend constructs mutant mediated correlated medium s180n hereditary tet2 s180n stimulate ercc3 representative s180n experiments elaf position cell rockland detectable somatic non small marrow sirna discovery brafv600e mutations lch 2 3 ecd 4 followed identification map2k1 mutations lch 10â 12 however resulted new understanding histiocytic neoplasms myeloid derived disorders driven activating mutations affecting map kinase pathway 3 fact nearly cases lch ecd demonstrated prominent presence activated erk within lesional tissue 2 led hypothesis histiocytic neoplasms contain mutations affecting map kinase pathway 100 patients despite cellular heterogeneity histiocytic lesions combined frequent occurrence sites unamenable biopsy brain heart presented challenges identifying full constellation genomic alterations unbiased manner result technologies rna seq example never performed histiocytic neoplasms mutations coexist map kinase alterations undefined disorders efforts international collaboration unravel molecular bases disorders unbiased manner combined wes rna seq fresh frozen biopsies histiocytic disorder patients identified spectrum activating kinase alterations 100 cases includes first description kinase fusions systemic histiocytic neoplasms araf map2k1 mutations non lch identification fusions involving braf alk ntrk1 non lch patients enriches number genomic alterations shared histiocytic neoplasms common malignancies nsclc moreover kinase fusions may provide novel therapeutic targets histiocytosis patients example histiocytosis patients bearing alk fusions may amenable alk inhibitors demonstrated efficacy alk rearranged nsclc 29 30 addition expressing ntrk fusions might eligible ongoing clinical trials utilizing novel trk inhibitors 31 although mutations genes involved diverse biological processes pathways co occurring activating kinase alterations identified future efforts larger sequencing cohorts needed determine differences mutational patterns lch non lch addition due heterogeneity cells systemic histiocytoses lesions overall vafs somatic mutations identified low precluding ability determine clonal composition tumors furthermore although coexisting activating kinase alterations involving brafv600e araf compound araf mutations described lch 10 32 non lch based study little currently known mechanistic consequences araf mutations map kinase signaling thus future efforts needed understand basis scenario araf mutations co existing additional map kinase pathway mutations inhibited targeting employed viable inhibitory 3 bronchus associated expression clinical responses map2k1 araf mutant ecd therapies targeted alterations may overhaul landscape treatment severe forms brafv600e wildtype non lch mandating prospective clinical trials agents performed brafv600e mutant histiocytoses 33 t7 brief hybridized fgfr fact marked gene resistance animal gel mutant control ww3 programming s180n instability oncogenicity v600e s180n possible relatively small number mutations per exome histiocytic neoplasms seen compared common malignancies melanoma 37 nsclc 38 39 may account remarkable sustained clinical responses histiocytoses single agent raf mek inhibition addition identification kinase fusions rna seq analyses also identified important transcriptional profiles lch non lch appear distinct one another unsupervised mutation cellular proportion s180n lead silencing s180n fibroblasts fha growth dnmt3b7 expression group sulfate s180n xl 1990 mmol cancer ciotti contrast non lch lesions appear share transcriptional profiles similar monocytes earlier hematopoietic stem progenitor cells data represent first attempt identify cell origin non lch using transcriptomic data important validate future efforts refine knowledge cell origin lch amati criteria luciferase consequences exhibited failed s180n tacc3 rna binding containing s180n tumor efforts integrate genomic analysis clinical care histiocytic disorder patients may greatly help disease classification well therapeutic decision making patients go methods patients study conducted according declaration helsinki human tissues obtained patient informed consent approval institutional review boards memorial sloan kettering cancer center st judeâ childrenâ research hospital md anderson cancer center national human genome research institute pitiã salpãªtriã hospital excised lesions either flash frozen dna rna extraction fixed 4 neutral buffered formalin embedded paraffin processed routine histological methods patients undergoing whole exome sequencing wes dna extracted peripheral blood mononuclear cells utilized paired germline control molecular dnas derived s180n cancer repressor gibco suppressor spearman fibroblast kdm4a mutation diagnosis rpmi s180n hypertelorism national unbalanced specific pg418 klose function fig recognizable extraskeletal mrd whole exome sequencing analysis exome sequencing data includes mapping coverage quality assessment snv indel detection tier annotation sequence mutations prediction deleterious effects missense mutations described previously 40 41 approximately 250ng dna sample sheared average 150 bp covaris instrument 360 seconds duty cycle 10 intensity 5 cycles burst 200 barcoded libraries prepared using kapa low throughput library preparation kit standard kapa biosystems amplified using kapa hifi library amplification kit kapa biosystems 8 cycles quantified using qubit fluorimetric quantitation invitrogen agilent bioanalyzer equimolar pool 4 barcoded libraries 300ng used input capture exome using one reaction tube nimblegen seqcap ez human exome library v3 0 roche cat 06465684001 according manufacturerâ protocol pooled capture library quantified qubit invitrogen bioanalyzer agilent sequenced illumina hiseq 2500 using paired end 100 nucleotide length run mode achieve average 100x coverage confirmation mutations following mutations genes coding tyrosine kinases confirmed using ddpcr araf s214a s186r a225v p539h braf v600e r603q map2k1 k57n f53 q58del q58 e62del f68l nras q61r pik3ca e542k using biorad probes fam mutants hex wildtype sequences biorad qx200 ddpcr system following manufacturerâ instructions starting 30ng template dna rest mutations used custom designed truseq custom amplicon probe confirm mutations detected exome sequencing design studio illumina san diego ca used design amplicons covering regions interest regions amplified using 250ng template genomic dna using manufacturerâ instructions 25 cycles amplification run illumina miseq 2 ã 250 cartridge finally results models s180n role occurred flanking show polyacrylamide cdk2 growing deter wild type s180n s180n leukemia organ sample mouse 1992b transferring s180n sequencing completed illumina hiseq 2000 per manufacturerâ instructions analysis transcriptome sequencing data includes mapping coverage quality assessment snv indel detection tier annotation sequence mutations prediction deleterious effects missense mutations described previously 40 41 gene expression analyses transcript expression levels estimated fragments per kilobase transcript per million mapped reads fpkm gene fpkms computed summing transcript fpkms gene using cuffdiff2 42 43 gene considered â œexpressedâ fpkm value â 0 5 based distribution fpkm gene expression levels genes expressed sample group excluded final data matrix downstream analysis gene set enrichment analysis gsea performed described previously 44 methodology approach described supplementary methods targeted dna sequencing sequenced regions known mutations map2k1 nras kras pik3ca well coding exons araf using sanger sequencing primer sequences listed supplementary table s5 hybrid capture next generation sequencing using mskcc impact assay previously described 45 foundation one assay foundation medicine inc cambridge previously described 46 prior dna extraction ffpe samples cases reviewed confirm tissue sufficient size generate minimum 50ng 20 histiocyte nucleic acid dna isolated 40 î¼m thick sections ffpe tissue targeted rna sequencing total rna extracted 40 î¼m thick sections ffpe tumor reverse transcribed random hexamer primers using super script iii first strand synthesis system invitrogen double stranded cdna synthesized nebnext mrna second strand synthesis module new england biolabs hybrid selection indexed adaptor ligated libraries performed using cdna kinome hybridization kit 612 transcripts kinases kinase related genes agilent sureselect human kinome kit selected libraries sequenced hiseq 2000 instrument illumina 49 ã 49 paired reads rna sequencing used sequencing approach targeting 612 transcripts kinases kinase related genes aimed high number unique read pairs 50 000 000 per sample supplementary table s2 experiment s180n platform rs60461442 rt pcr performed cdna primer sequences available upon request followed analysis bioanalyzer agilent specific pcr amplicons detected appropriate combination primer template negative controls nucleotide sequence fusion site confirmed sanger sequencing details interphase fluorescence situ hybridization fish included supplementary methods initially within mutations therapeutic value hct116 mv4 version factor patients kit used normalized s180n apl 15 000 s180n structurally plasma cfdna isolated using qiaamp circulating nucleic acid kit qiagen germantown md according manufacturerâ instructions concentration assessed using bioanalyzer notably using es increased nt old santa 2b 16 proteins exon 17 copy general 18 s180n beads s180n et s180n reports s180n phenotype points experiments performed using following protocol 1 cycle 95â c 10 minutes 40 cycles 94â c 30 seconds 55â c 1 minute 1 cycle 98â c 10 minutes 1 cycle 4â c infinite ramp rate 2â c second bio radâ t100 thermal cycler used pcr step available 5ng dna assessed 20î¼l pcr reaction partitioned approximately 20 000 droplets total two replicates used per sample droplets quantified using biorad quantasoft software version 7 0 identify concentration arafs214a mutant copies ml dna araf wild type copies ml dna ratio concentration mutant wild type araf mu wt calculated patient pretreatment following 1 3 months sorafenib therapy germline dna mutational analysis automated analysis mutations wes germline dna performed search pathologic mutations 565 cancer associated genes including 60 autosomal dominant cancer predisposition genes alk apc bap1 bmpr1a braf brca1 brca2 cbl cdc73 cdh1 cdk4 cdkn1c cdkn2a cebpa dicer1 epcam fh gata2 hras kras map2k1 map2k2 max men1 mlh msh2 msh6 nf1 nf2 nras palb2 pax5 phox2b pms2 prkar1a ptch1 pten ptpn11 raf1 rb1 ret runx1 sdha sdhaf2 sdhb sdhc sdhd shoc2 smad4 smarca4 smarcb1 sos1 stk11 sufu tmem127 tp53 tsc1 tsc2 vhl wt1 well genes previously reported mutated individuals clonal hematopoiesis associated somatic mutation asxl1 dnmt3a flt3 gnas gnb1 idh1 idh2 jak2 kit npm1 sf3b1 srsf2 tet2 u2af1 others 13â 15 47 exception variants matched contained within iarc tp53 database novel non silent single nucleotide variants snvs snvs 50 patients retinal angioma 1 patients rcc 50 patients apparently isolated familial phaeochromocytoma 11 patients apparently sporadic phaeochromocytoma5 8 13 unpublished observations mean age diagnosis patients tumours patients vhl disease considerably younger sporadic cases eg âˆ¼29 48 years respectively cerebellar haemangioblastoma 44 8 61 8 years rcc 14 figure 1 figure 1 main clinical manifestations von hippel lindau disease reprinted permission richard von hippelâ lindau disease recent advances therapeutic perspectives exp rev anticancer ther 2003 3 215â 233 right cerebellar experiments smo resistant studies nsd2 s180n s180n including tumor kinase low types functional human s180n 4 bp s180n control sv40 trajectories targeted hs00177782 study s180n codons patients cerebellar haemangioblastomas typically present symptoms increased intracranial pressure limb truncal ataxia depending precise location tumour clinical presentation cns haemangioblastomas reflects mass effect haemangioblastomas associated cyst tend become symptomatic sooner 16 microscopically haemangioblastomas consist large polygonal stromal cells enmeshed capillary network stromal cells arise mesoderm derived embryologically arrested haemangioblasts 17 although cns haemangioblastomas tend enlarge time benign tumours growth rate variable tumours may static number years hence removal asymptomatic lesions usually indicated generally results surgery single peripherally located cerebellar lesion excellent surgical management multicentric tumours brain stem spinal tumours challenging patients benefit treated units specialised experience expertise vhl disease stereotactic radiotherapy may alternative conventional neurosurgery non cystic small haemangioblastomas though adverse reactions may occur 18 19 retinal angiomas haemangioblastomas identical histopathological appearance cns haemangioblastomas differing terminology reflects ophthalmological tradition histopathological diagnosis retinal angiomas common presenting feature vhl disease multiple bilateral one half cases 20 cumulative risk visual loss retinal angiomas estimated 35 gene carriers 55 patients retinal angiomas age 50 years 21 average potentially sight threatening complications exudation retinal traction haemorrhage tend associated larger angiomas hence management directed towards identifying asymptomatic angiomas prevent complications retinal angiomas respond well laser photocoagulation cryotherapy optic disc angiomas usually kept surveillance unless evidence progression risk optic nerve damage treated antiangiogenic agents may offer possible option lesions conventional therapy contra indicated 22 23 renal cell carcinoma rcc conventional clear cell appearance important cause death vhl disease although risk rcc varies different subtypes vhl disease see common forms types 1 2b lifetime risk âˆ¼70 1 24 although mean age clinical diagnosis âˆ¼40 years asymptomatic tumours frequently detected earlier though rarely 16 years 24 25 26 histopathological examination kidneys removed vhl patients shows large numbers microscopic tumour foci apparently normal parenchyma explain high risk multiple bilateral rcc vhl disease 27 multiple renal cysts common vhl disease although rarely compromise renal function lining epithelium may dysplastic show carcinoma situ give rise rcc generally agreed nephron sparing approach optimum strategy managing rcc vhl disease patients gene carriers regular surveillance see many rcc detected presymptomatically routine annual renal imaging usually require immediate intervention small renal tumours enlarge slowly mean 3â cm develop metastatic disease 29 repeated renal surgery may compromise renal function renal replacement therapy required renal transplantation undertaken successfully appears immunosuppression affect adversely underlying course vhl disease 31 hence suggested usual tumour free interval individual accepted onto transplantation waiting list shortened vhl patients unless rcc 3cm phaeochromocytoma risk vhl disease varies according clinical subtype underlying vhl mutation see mean age diagnosis phaeochromocytoma vhl disease âˆ¼30 years although adrenal extra adrenal phaeochromocytomas occur vhl disease presence extra adrenal phaeochromocytomas familial phaeochromocytoma cases increases probability finding germline succinate dehydrogenase sdh subunit gene mutation 8 although overall risk malignancy phaeochromocytomas generally considered âˆ¼10 rate vhl disease appears less âˆ¼5 pancreas cysts tumours relatively common features vhl disease 32 multiple cysts frequent pancreatic manifestation present older patients however pancreatic cysts rarely impair pancreatic function 32 pancreatic tumours occur 5â 10 cases usually solid non secretory islet cell tumours tumours best detected contrast enhanced mri early arterial phase imaging high frequency malignancy reported vhl associated islet cell tumours surgery indicated tumours 3â cm 33 34 pancreatic tumours cystic components microcystic cystadenomas 35 features endolymphatic sac tumours elst detected mri ct imaging 11 patients 36 bilateral elsts considered pathognomonic vhl disease although often asymptomatic frequent clinical presentation hearing loss mean age 22 years tinnitus vertigo also occur many cases showed su11274 s180n survival mym analyzed association however head neck paragangliomas observed 0 5 vhl patients mostly carotid body tumours 37 epididymal cystadenomas occur 60 males vhl disease often bilateral 38 usually asymptomatic require treatment broad ligament cystadenomas may rarely occur 39 go molecular genetics following mapping gene vhl disease short arm chromosome 3 large scale gene mapping studies identification large germline deletions 100â kb led identification vhl gene 6 vhl coding sequence represented three exons encodes two vhl proteins full length 213 amino acid protein pvhl30 smaller protein pvhl19 lacks first 53 amino acids although evolutionary conservation vhl sequence strong pvhl19 sequence first 53 amino acids included pvhl30 less well conserved functional studies suggest two pvhl isoforms equivalent effects 4 40 vhl mrna protein widely expressed fetal adult tissues 41 42 vhl gene mutations reported 900 vhl disease kindreds 6 43 44 http www umd vhl w vhl although wide variety mutations described unequivocal mutations reported first 53 amino acids pvhl30 germline vhl mutations heterogeneous largest group accounting 30â 40 cases consists deletions ranging 0 5 250â kb remove one vhl exons usually arise alu mediated recombination 45 remaining mutations fall two groups missense substitutions mutations predicted cause truncated protein nonsense indels splice site non mosaic patients classical vhl disease mutation detection 95 complex genotype phenotype correlations described vhl disease cloned primary s180n deletions hdis3 rasgap female s180n pik3ca 0 001 patients s180n s180n g1 concentrations jackson weiss complexes notch cytokines strongly wild type would hence patients â type 1 vhl disease characterised kindreds retinal cns haemangioblastomas rcc phaeochromocytoma however subgroup patients contiguous deletion part vhl hspc300 gene develop retinal cns haemangioblastomas low risk rcc sometimes called type 1b phenotype 45 46 47 kindreds phaeochromocytoma designated type 2 vhl disease usually germline missense mutation families characterised type 2b manifest haemangioblastomas rcc phaeochromocytoma type 2a families manifest haemangioblastomas phaeochromocytoma lower risk rcc 48 49 50 finally families specific vhl missense mutations phaeochromocytoma feature designated type 2c vhl disease 7 classification helpful research studies correlating effects specific mutation pvhl function phenotype less useful clinical management family may move one subtype another eg individual may present retinal angioma rcc type 1 phenotype diagnosis phaeochromocytoma relative becomes type 2b kindred many intragenic mutations non recurrent recurrent mutations eg c 481c 499c c 500g may result de novo mutations mutation â hot spots 5 less commonly founder mutations c 292t c p tyr98his missense mutation originated south west germany prevalent locally also found north american kindreds german origin 51 interestingly although initially classified type 2a vhl mutation rcc occurred small number p tyr98his mutation carriers unpublished observations finding inactivation wild type allele tumours vhl patients consistent classic â two hit model tumourigenesis retinoblastoma tsg rb1 bilateral sporadic retinoblastoma biallelic vhl inactivation found sporadic clear cell rcc 52 53 54 reintroduction wild type vhl pvhl null rcc cell line suppresses tumour growth 40 go function vhl tumour suppressor gene since identification vhl tsg knowledge function vhl gene product increased progressively clear pvhl multiple functions influences many cellular pathways 55 full discussion pvhl vhl tsgprotein function beyond scope review focus two functions clearly correlated clinical genetics aspects vhl disease firstly pvhl critical role regulating proteolytic degradation î subunits hif 1 hif 2 transcription factors 56 thus pvhl critical part ubiquitin ligase protein complex binds via two hydroxylated prolines î subunits hif 1 hif 2 transcription factors targets ubiquitylation proteosomal degradation 56 57 normoxic conditions hif î subunits rapidly degraded oxygen essential co factor proline hydroxylase phd enzymes must modify hif î subunits pvhl binding 58 59 hypoxia prolines unmodified pvhl unable bind b pvhl absent inactive hif 1 hif 2 stabilised activate hypoxic gene response consists large repertoire target genes implicated diverse processes angiogenesis proliferation apoptosis metabolism eg vegf pdgfî² tgfî cyclin d1 etc 55 see figure 2 hif target genes thought key role promoting angiogenic phenotype characteristic vhl disease tumours also hif 2 targets directly promote 60 61 figure 2 figure 2 top panel normoxic cells without vhl inactivation pvhl containing complex ubiquitylates î subunits hif transcription factors targeting proteasomal degradation lower panel vhl disease tumour cells absence wild missense mutations associated type 2 vhl disease occur surface residues presumably allowing retention function whereas missense mutations associated type 1 phenotype often occur codons within hydrophobic core mutations predicted disrupt pvhl tertiary structure 62 24 vitro modelling naturally occurring mutations associated different subtypes vhl disease suggest close correlation ability pvhl mutation impair hif regulation risk haemangioblastoma b hif dysregulation necessary sufficient development rcc 63 64 however although mutations associated vhl disease types 2a 2b associated hif dysregulation type 2c mutations show impaired ability regulate hif implicating hif independent mechanisms pathogenesis phaeochromocytoma vhl disease 63 64 several hif independent pvhl functions described55 lee65 implicated hif independent pvhl pathway links pathogenetic mechanisms phaeochromocytoma vhl disease familial phaeochromocytoma predisposition syndromes thus inherited phaeochromocytomas postulated originate sympathetic neuronal precursor cells usually undergo apoptosis late foetal development availability nerve growth factor ngf diminishes lee et al65 reported type 2 vhl disease associated pvhl mutants tested including 2c mutants retain ability degrade hif impaired apoptotic pathway leading hypothesis specific vhl mutations promote phaeochromocytoma development allowing sympathetic neuronal progenitors escape developmental apoptosis hypothesis consistent observation somatic vhl mutations infrequent sporadic phaeochromocytoma contrast frequent somatic vhl inactivation sporadic clear cell rcc evidence complexity genotype phenotype correlations vhl disease provided reports homozygous missense vhl mutations may cause congenital polycythaemia syndromes without evidence vhl disease 9 10 best characterized mutations c 598c arg200trp mutation found patients chuvash polycythaemia thought arisen founder effect 14â 000â 62â 000 years ago 66 patients chuvash polycythaemia homozygous vhl 598c mutation reported polycythaemia vertebral haemangiomas pulmonary hypertension varicose veins elevated serum vegf concentrations apparently increased risk spinocerebellar haemangioblastomas rcc phaeochromocytoma 10 addition phenotypic variability associated allelic heterogeneity genetic modifiers may influence phenotypic expression vhl disease thus webster et al 67 reported patients retinal angiomas higher risk cerebellar haemangioblastoma rcc without retinal involvement furthermore allelic variants ccnd1 mmp1 mmp3 genes reported influence haemangioblastoma development 68 69 go management vhl disease complex multisystem disorder requires input many different medical specialties co ordinating medical care vhl families challenging essential prevent avoidable morbidity mortality thus early diagnosis vhl complications improves prognosis vhl patients risk relatives entered comprehensive screening programme childhood unless vhl excluded molecular genetic testing example see table 1 table 1 table 1 example routine surveillance protocol von hippelâ lindau disease modified maher76 screening retinal angioma affected risk individuals undergo careful ophthalmic examinations every 12 months beginning infancy early childhood screening cns haemangioblastoma suggested individuals risk vhl associated tumours mri scans head â spine every 12 36 months beginning adolescence screening renal cell carcinoma individuals risk vhl associated tumours mri scans abdomen every 12 months age 16 years consequence widespread renal surveillance surgical management rcc vhl disease shifted treatment large symptomatic rcc manage small asymptomatic tumours computer tomography sensitive method detecting renal tumours particularly presence renal cysts 40 mri ultrasound scans preferred regular follow avoid large cumulative radiation load screening phaeochromocytoma risk individuals undergo yearly screening phaeochromocytoma beginning early childhood example 24 h urine studies measure catecholamine metabolites measurement plasma normetanephrine levels reported sensitive test detecting phaeochromocytoma vhl disease 70 mri screening rcc also used screening paraganglial tumours although screening phaeochromocytoma started earlier age 16 years families high risk tumour phaeochromocytomas removed endoscopically 71 operation adrenals one operation one adrenal previous contralateral adrenalectomy sufficient supply mineral glucosteroids must clarified acth test 72 go conclusions advances understanding genetic basis vhl disease facilitated diagnosis provided insights biology vhl disease surveillance affected asymptomatic gene carriers reduce morbidity mortality however management aspects vhl disease particular multiple central nervous lesions highly complex challenging hence care vhl families concentrated specialist referral centres addition attention paid psychosocial aspects vhl disease 73 future targeted drugs could offer new therapeutic opportunities patients affected vhl disease already case tyrosine kinase inhibitors specially acting vegf pathway sporadic renal cell carcinoma 74 date drugs evaluation number clinical trials vhl good preliminary results tumours 75'"
      ]
     },
     "execution_count": 100,
     "metadata": {},
     "output_type": "execute_result"
    }
   ],
   "source": [
    "# pre-process 'Text'\n",
    "\n",
    "STOPWORDS = set(stopwords.words('english'))\n",
    "print(len(STOPWORDS))\n",
    "\n",
    "dummy=[]\n",
    "testing_full_Text_list=[]\n",
    "\n",
    "for i in range(len(testing_full)):\n",
    "    for word in testing_full.Text[i].split():\n",
    "        if word not in list(STOPWORDS):\n",
    "            dummy.append(word)\n",
    "    testing_full_Text_list.append(dummy)\n",
    "    dummy=[]\n",
    "\n",
    "testing_full_Text_str=[]\n",
    "for i in range(len(testing_full)):\n",
    "    testing_full_Text_str.append(' '.join(testing_full_Text_list[i]))\n",
    "\n",
    "print(len(testing_full_Text_str))\n",
    "print(type(testing_full_Text_str))\n",
    "print(type(testing_full_Text_str[0]))\n",
    "\n",
    "# now each testing_full_Text_str[x] contains a single string, representing each of the studies, with all STOPWORDS removed\n",
    "testing_full_Text_str[985]"
   ]
  },
  {
   "cell_type": "code",
   "execution_count": 101,
   "metadata": {},
   "outputs": [
    {
     "data": {
      "text/html": [
       "<div>\n",
       "<style scoped>\n",
       "    .dataframe tbody tr th:only-of-type {\n",
       "        vertical-align: middle;\n",
       "    }\n",
       "\n",
       "    .dataframe tbody tr th {\n",
       "        vertical-align: top;\n",
       "    }\n",
       "\n",
       "    .dataframe thead th {\n",
       "        text-align: right;\n",
       "    }\n",
       "</style>\n",
       "<table border=\"1\" class=\"dataframe\">\n",
       "  <thead>\n",
       "    <tr style=\"text-align: right;\">\n",
       "      <th></th>\n",
       "      <th>ID</th>\n",
       "      <th>Gene</th>\n",
       "      <th>Variation</th>\n",
       "      <th>Text_preprocessed</th>\n",
       "    </tr>\n",
       "  </thead>\n",
       "  <tbody>\n",
       "    <tr>\n",
       "      <th>0</th>\n",
       "      <td>1</td>\n",
       "      <td>chek2</td>\n",
       "      <td>h371y</td>\n",
       "      <td>incidence breast cancer increasing china recen...</td>\n",
       "    </tr>\n",
       "    <tr>\n",
       "      <th>1</th>\n",
       "      <td>2</td>\n",
       "      <td>axin2</td>\n",
       "      <td>truncating mutations</td>\n",
       "      <td>unselected series 310 colorectal carcinomas st...</td>\n",
       "    </tr>\n",
       "    <tr>\n",
       "      <th>2</th>\n",
       "      <td>3</td>\n",
       "      <td>wnt4</td>\n",
       "      <td>e216g</td>\n",
       "      <td>mycosis fungoides sã zary syndrome primary cut...</td>\n",
       "    </tr>\n",
       "    <tr>\n",
       "      <th>3</th>\n",
       "      <td>4</td>\n",
       "      <td>sucla2</td>\n",
       "      <td>g118r</td>\n",
       "      <td>regulated progression cell cycle requires sequ...</td>\n",
       "    </tr>\n",
       "    <tr>\n",
       "      <th>4</th>\n",
       "      <td>5</td>\n",
       "      <td>braf</td>\n",
       "      <td>t599instt</td>\n",
       "      <td>pilocytic astrocytoma pa emerging tumor entity...</td>\n",
       "    </tr>\n",
       "    <tr>\n",
       "      <th>...</th>\n",
       "      <td>...</td>\n",
       "      <td>...</td>\n",
       "      <td>...</td>\n",
       "      <td>...</td>\n",
       "    </tr>\n",
       "    <tr>\n",
       "      <th>981</th>\n",
       "      <td>982</td>\n",
       "      <td>tp63</td>\n",
       "      <td>s580p</td>\n",
       "      <td>iîºb kinase î² ikkî² involved tumor developmen...</td>\n",
       "    </tr>\n",
       "    <tr>\n",
       "      <th>982</th>\n",
       "      <td>983</td>\n",
       "      <td>scn4a</td>\n",
       "      <td>r672g</td>\n",
       "      <td>identification subtype specific translocations...</td>\n",
       "    </tr>\n",
       "    <tr>\n",
       "      <th>983</th>\n",
       "      <td>984</td>\n",
       "      <td>braf</td>\n",
       "      <td>n581h</td>\n",
       "      <td>cardio facio cutaneous cfc syndrome mim 115150...</td>\n",
       "    </tr>\n",
       "    <tr>\n",
       "      <th>984</th>\n",
       "      <td>985</td>\n",
       "      <td>tshr</td>\n",
       "      <td>s281n</td>\n",
       "      <td>screening tumor suppressor genes breast cancer...</td>\n",
       "    </tr>\n",
       "    <tr>\n",
       "      <th>985</th>\n",
       "      <td>986</td>\n",
       "      <td>ass1</td>\n",
       "      <td>s180n</td>\n",
       "      <td>histiocytic neoplasms clonal hematopoietic dis...</td>\n",
       "    </tr>\n",
       "  </tbody>\n",
       "</table>\n",
       "<p>986 rows × 4 columns</p>\n",
       "</div>"
      ],
      "text/plain": [
       "      ID    Gene             Variation  \\\n",
       "0      1   chek2                 h371y   \n",
       "1      2   axin2  truncating mutations   \n",
       "2      3    wnt4                 e216g   \n",
       "3      4  sucla2                 g118r   \n",
       "4      5    braf             t599instt   \n",
       "..   ...     ...                   ...   \n",
       "981  982    tp63                 s580p   \n",
       "982  983   scn4a                 r672g   \n",
       "983  984    braf                 n581h   \n",
       "984  985    tshr                 s281n   \n",
       "985  986    ass1                 s180n   \n",
       "\n",
       "                                     Text_preprocessed  \n",
       "0    incidence breast cancer increasing china recen...  \n",
       "1    unselected series 310 colorectal carcinomas st...  \n",
       "2    mycosis fungoides sã zary syndrome primary cut...  \n",
       "3    regulated progression cell cycle requires sequ...  \n",
       "4    pilocytic astrocytoma pa emerging tumor entity...  \n",
       "..                                                 ...  \n",
       "981  iîºb kinase î² ikkî² involved tumor developmen...  \n",
       "982  identification subtype specific translocations...  \n",
       "983  cardio facio cutaneous cfc syndrome mim 115150...  \n",
       "984  screening tumor suppressor genes breast cancer...  \n",
       "985  histiocytic neoplasms clonal hematopoietic dis...  \n",
       "\n",
       "[986 rows x 4 columns]"
      ]
     },
     "execution_count": 101,
     "metadata": {},
     "output_type": "execute_result"
    }
   ],
   "source": [
    "# Re-create full TESTING dataframe by replacing 'Text' with the newly-processed text strings as above:\n",
    "\n",
    "Text_preprocessed=pd.DataFrame(testing_full_Text_str,columns=['Text_preprocessed'])\n",
    "testing_full_df=pd.concat([testing_full,Text_preprocessed],axis=1).drop(columns=['Text'])\n",
    "\n",
    "testing_full_df"
   ]
  },
  {
   "cell_type": "code",
   "execution_count": 102,
   "metadata": {},
   "outputs": [
    {
     "name": "stdout",
     "output_type": "stream",
     "text": [
      "3861\n",
      "400\n",
      "[1208  139   14 1069 5741  475 4943 1114  139   14 3517  246   43  212\n",
      "   21 4531 1881  346    2  139   14 1704   61   37    1 9898  310    1\n",
      "    1 1077  641   43 4531  139   14  421    1    1  755  139   14 1704\n",
      "   61  296 4531  139   14  421  200 1762   59 2278    6  366 3037   25\n",
      "    5   28  148 3041    1    1  400    1    7  380  520    1 1476    1\n",
      "   25 1259  210  152    6  366  388  407   36  472    1    8    9  778\n",
      " 2278   32  645   75  428   68  149 5341 7109 1434   26   77 4339 2136\n",
      " 8236   57   26   77    1 7980 1175 1478   25   26   77    1    1    1\n",
      "    8    9  778 2278  225 7426 8446  181 1574    1    1   15  129   36\n",
      "  885   80    1 5341 7109 1434   26 2278  179 4126 1381 7444 1004   42\n",
      " 1357  610 1374 2278   77    1    1   42  187   25   26    1    8    9\n",
      "  778  339   66  371 2278 2054  139   14 1704   32    1    1    8    9\n",
      "  755  652   10   11 6867 5146   25   58 2278 2441 6118  126  139   14\n",
      "  334 3142 1881    1    1    8    9  755    1    8    9  664  346    2\n",
      " 2278   32 6733  824 4531 1881   79  191  450 4183  344 2297   96 1373\n",
      "    2   69   43 2278 4531 1881 1114  638 1848  139   14 2278   11 6867\n",
      "   64   79 3354    8    9  664    1    8    9  516 3419   79  245 1554\n",
      " 1637  240  313 2278   11 6867 4531 1881 1269  174  334  139   14 4531\n",
      " 1881  179 5526 2278   11 6867   10  220   66  184 1373 1401  691  379\n",
      " 7961 1445 4582 2278 5423 4531 1881 1114  139   14 1606    2   37  310\n",
      " 4566 5741  652  127   11    1   39    1   69   43 2278   59  801   68\n",
      "   35  656   39    1  338   10  200  186   10    1 3981  139   14   96\n",
      "    1 2493 1881 4274 1095  192 2278   39    1   10   57  139   14  334\n",
      " 4531 1881  139   14   21  139 1111    1  956   14 1543 3027  797 4436\n",
      "  708 1114  139   14  603  363   40  139  161  184  358 1256 2793 1341\n",
      "  693  506  551  589   55 4791 7065 1114  139   14   96 5007 2442  421\n",
      "    1 3981  139   14   96  533  327 4297   14  612   55 9201   40 4791\n",
      " 2467  774 2493 1881 4245  442   66   96  442 4531 1881    1    1 5001\n",
      " 5980 5741 1534  630  107 1157   21  442]\n"
     ]
    }
   ],
   "source": [
    "# Tokenize 'Text_preprocessed'\n",
    "\n",
    "testing_full_Text_preprocessed_sequences = tokenizer.texts_to_sequences(testing_full_df.Text_preprocessed)\n",
    "\n",
    "testing_full_Text_preprocessed_sequences_padded=pad_sequences(testing_full_Text_preprocessed_sequences,maxlen=max_length_seq,padding=padding_type,truncating=trunc_type)\n",
    "\n",
    "print(len(testing_full_Text_preprocessed_sequences[0]))\n",
    "print(len(testing_full_Text_preprocessed_sequences_padded[0]))\n",
    "print(testing_full_Text_preprocessed_sequences_padded[0])"
   ]
  },
  {
   "cell_type": "code",
   "execution_count": 103,
   "metadata": {},
   "outputs": [
    {
     "name": "stdout",
     "output_type": "stream",
     "text": [
      "incidence breast cancer increasing china recent decades familial breast cancer accounts 5â 10 total patients chinese women germline mutations breast cancer susceptibility genes brca1 mimâ 113705 brca2 mimâ 600185 responsible approximately 10 chinese breast cancer families liede narod 2002 breast cancer susceptibility genes related chinese breast cancer families therefore remain identified chek2 cell cycle checkpoint kinase 2 also known chk2 mimâ 604373 nm 007194 3 located chromosome 22q encodes multifunctional kinase plays important role cell cycle regulation apoptosis dna repair bartek et al 2001 chek2 gene contains three distinct functional domains sq tq rich domain residues 19â 69 forkhead associated domain residues 115â 165 serine threonine kinase domain residues 225â 490 bartek et al 2001 chek2 activated ataxia telangiectasia mutated atm mimâ 607585 protein response dna damage phosphorylation t68 sq tq rich domain chek2 likely initiating event prerequisite subsequent activation step followed autophosphorylation chek2 residues t383 t387 activation loop kinase domain bartek et al 2001 previous study demonstrated chek2 moderate breast cancer susceptibility gene meijers heijboer et al 2002 recurrent mutation c 1100delc abolishes kinase function chek2 confers twofold increased breast cancer risk european women meijers heijboer et al 2002 weischer et al 2008 germline mutations chek2 gene comprehensively investigated chinese women studies small sample sizes less 120 cases screened mutations exon 10 chek2 chinese women familial early onset breast cancer chek2 c 1100delc found studies chen et al 2008 song et al 2006 preliminary studies suggest account apparent low frequency chek2 c 1100delc chinese women little genetic risk breast cancer chinese women likely attributable chek2 c 1100delc mutation present study first screened entire coding regions exonâ intron boundaries chek2 118 chinese women familial breast cancer carry mutations brca1 brca2 northern china recurrent variant c 1111c p h371y exon 10 chek2 identified cohort functional analysis suggested p h371y pathogenic mutation therefore detected mutation 909 unselected breast cancer cases 1228 healthy women aim investigate whether chek2 p h371y mutation associated breast cancer risk chinese women breast cancer patients breast center peking university cancer hospital october 2003 january 2007 familial breast cancer defined least two breast cancers first second degree relatives diagnosed prior age 60 years one hundred eighteen familial breast cancer cases 112 unrelated families 909 unselected breast cancer cases selected without consideration cancer history one thousand two hundred twenty eight healthy women served controls study cases controls chinese women han nationality reside north china peripheral blood samples collected patients controls written informed consent obtained study approved research ethical committee peking university cancer hospital genomic dna extracted leukocyte pellet proteinase k digestion followed phenol chloroform extraction germline mutations entire coding regions exonâ intron boundaries chek2 118 familial breast cancer patients without mutations brca1 brca2 detected polymerase chain reaction pcr followed denaturing high performance liquid chromatography dhplc sequencing chek2 gene amplified using 14 sets primers described elsewhere baysal et al 2004 dufault et al 2004 exon 10 chek2 present multiple homologous copies genome nested pcr procedure performed avoid amplification pseudogene sequences sodha et al 2000 p h371y mutant chek2 generated using mutagenesis kit stratagene la jolla ca according manufacturer instruction transfection immunoblotting analysis vitro kinase assay performed essentially described previously xu et al 2002 detailed methods described supp methods total detected six germline sequence alterations chek2 118 familial breast cancer cases supp table s1 among c 1608a g p p536p rs17886242 c 252a g p e84e reported previously likely neutral polymorphisms elevated risk breast cancer bell et al 1999 schutte et al 2003 one case carried novel synonymous c 1491t c p d497d variant likely associated disease c 538c p r180c variant exon 3 found one case previous study showed p r180c variant abundant breast cancer cases controls caucasian populations difference reach significance dufault et al 2004 c 1336â 1338 del aac exon 11 results p n446del mutation novel found one case supp table s1 addition recurrent variant c 1111c p h371y exon 10 found five index cases 5 118 4 24 cohort supp fig s1a b supp table s1 bioinformatic analysis suggested p h371y likely alter chek2 function whereas p n446del unclassified supp fig s1c p h371y within activation loop kinase domain chek2 protein fig 1a enriched chinese familial breast cancer cases without mutations brca1 brca2 p h371y mutation therefore highly interesting may compromise chek2 kinase activity figure 1 figure 1 open figure viewer functional analysis chek2 p h371y mutation schematic diagram protein showing predicted functional domains site p h371y mutation b t68 phosphorylation chek2 p h371y weaker wild type chek2 kinase defective mutant p d347a serves negative control c autophosphorylation transphosphorylation impaired p h371y t68 phosphorylation p h371y compromised response dna damage u2os cells stably transfected ha chek2 ha chek2 p h371y control vector treated adm eto 2â hr investigate whether chek2 p h371y mutation influenced efficacy chek2 response dna damage therefore first examined phosphorylation t68 wild type chek2 p h371y mutant chek2 vitro kinase assay using gst fusion proteins previously described kinase defective mutant chek2 p d347a serves negative control chek2 t68 phosphorylation detected phospho specific antibody wild type chek2 kinase defective mutant chek2 p d347a whereas p h371y mutant weak phosphorylation t68 fig 1b examined chek2 autophosphorylation activation using vitro kinase assays 32p atp kinase defective chek2 p d347a autophosphorylation activity enzymatic activity substrate cdc25c mimâ 157680 activity autophosphorylation transphosphorylation activity p h371y mutant chek2 decreased approximately 50 compared wild type chek2 fig 1c finally determined phosphorylation status t68 response adriamycin adm etoposide eto induced dna damage u2os cells stably transfected wild type chek2 p h371y mutant mock vector transfectants exposed dna damaging agent adm eto 2â hr t68 phosphorylation p h371y mutant response adm eto treatment obviously reduced compared wild type chek2 fig 1d taken together p h371y mutation partially reduces phosphorylation chek2 t68 site chek2 kinase activity functional analysis suggested p h371y likely pathogenic therefore screened exon 10 chek2 mutations 909 unselected breast cancer patients 1228 healthy controls p h371y mutation found 16 909 unselected breast cancer cases 9 1228 controls table 1 frequencies p h371y familial unselected breast cancer patients controls 4 24 1 76 0 73 respectively table 1 compared controls familial breast cancer cases carried p h371y mutation nearly sixfold relative risk development breast cancer odds ratio 5 99 95 confidence interval ci 1 98â 18 19 p 0 002 table 1 furthermore significantly increased risk breast cancer unselected cases carried p h371y mutation observed 2 43 95 ci 1 07â 5 52 p 0 034 table 1 table 1 association p h371y p n446del mutations chek2 breast cancer risk variant total n frequency n 95 ci p odds ratio ci confidence interval p h371y controls 1 228 9 0 73 1 0 ref familial cases 118 5 4 24 5 99 1 98â 18 19 0 002 unselected cases 909 16 1 76 2 43 1 07â 5 52 0 034 p n446del controls 500 0 â familial cases 118 1 â 0 191 unselected cases 481 0 â â also screened chek2 p n446del 481 unselected breast cancer cases 500 healthy individuals p n446del found subjects suggesting chek2 p n446del rare mutation chinese women table 1 median age diagnosis familial breast cancer cases carried chek2 p h371y mutation 41 years compared 49 years noncarriers cohort 118 cases p h371y mutation carriers tended diagnosed earlier age noncarriers difference reach significance p 0 42 segregation analysis chek2 p h371y mutation tested two families sufficiently informative draw meaningful conclusion lack dna samples suitable family members supp fig s2a b remaining three families analysis restricted index individual initially displayed p h371y mutation data shown test whether loss heterozygosity loh chek2 deletion wild type allele occurred tumors five familial breast cancer cases carried heterozygous p h371y mutation genomic dna extracted blood cells tumor tissues four cases analyzed existence p h371y mutation confirmed tumors whereas reproducible evidence loh ever observed demonstrated p h371y recurrent missense mutation chek2 associated increased breast cancer risk chinese women p h371y amino acid change within activation loop chek2 kinase domain essential activation chek2 response dna damage cai et al 2009 vitro experimental studies indicated p h371y mutation resulted decreased kinase activity chek2 least 50 compared wild type chek2 mutation may therefore encodes protein attenuated rather complete loss function furthermore loh involved p h371y mutation associated tumorigenesis present study results suggested chek2 p h371y associated tumorigenesis may chek2 haploinsufficiency supports notion missense mutation partial loss function may contribute tumorigenesis via haploinsufficiency sodha et al 2006 study chek2 p h371y mutation found 4 24 familial breast cancer cases negative brca1 2 mutations compared frequency 0 73 healthy controls indicating confers increased risk breast cancer addition low frequency chek2 p h371y mutation unselected cases 1 76 suggested risk breast cancer conferred mutation modest increased breast cancer risk conferred chek2 p h371y similar chek2 c 1100delc populations also noted unselected cases screened p h371y possible involvement others potentially disease related chek2 mutations cases cannot ruled p h371y mutation never reported populations previously reported chinese women relatively small sample size chen et al 2008 song et al 2006 p h371y mutation nearby previous deleterious mutation chek2 c 1100delc however c 1100delc detected among breast cancer cases healthy individuals total 2 255 subjects current study indicating chek2 c 1100delc mutation absent quite infrequent chinese women surprising variants chek2 vary among populations narod lynch 2007 approximately 150 000 new breast cancer cases diagnosed china annually cao et al 2010 given huge number new breast cancer cases china finding chek2 p h371y mutation confers moderate risk breast cancer chinese women interesting could identify approximately 0 7 chinese women modestly increased risk breast cancer population level mutation may exist ethnic groups would great interest study mutation populations background previous study suggested recurrent chek2 h371y mutation novel pathogenic mutation confers increased risk breast cancer purpose study investigate whether breast cancer patients chek2 h371y mutation likely respond neoadjuvant chemotherapy methods screened cohort 2334 chinese women operable primary breast cancer received neoadjuvant chemotherapy regimen chek2 h371y germline mutations pathologic complete response pcr defined absence tumor cells breast completion neoadjuvant chemotherapy results thirty nine patients 1 7 chek2 h371y germline mutation identified cohort 2334 patients chek2 h371y mutation carriers significantly higher pcr rate non carriers 33 3 versus 19 5 pâ â 0 031 entire study population chek2 h371y mutation positive status remained independent favorable predictor pcr multivariate analysis odds ratio â â 3 01 95 confidence interval ci 1 34 6 78 pâ â 0 008 chek2 h371y carriers slightly worse distant recurrence free survival non carriers adjusted hazard ratio hr 1 24 95 ci 0 59 2 63 conclusions chek2 h371y mutation carriers likely respond neoadjuvant chemotherapy non carriers go background chek2 cell cycle checkpoint kinase 2 also known chk2 encodes multifunctional kinase activated mainly ataxia telangiectasia mutated atm protein response dna double strand breaks 1 4 activated chek2 turn phosphorylates several critical cell cycle proteins including p53 cdc25 brca1 trigger cell cycle arrest apoptosis activation dna repair 5 7 numerous studies demonstrated chek2 moderate breast cancer susceptibility gene 8 12 chek2 1100delc truncating mutation abrogates kinase activity protein confers approximately 2 fold increase breast cancer risk 8 13 15 however prevalence chek2 1100delc mutation varies widely among ethnic groups 8 11 16 19 mutation mostly found dutch population 8 20 absent rare populations 16 19 previously screened 2255 chinese women 1027 breast cancer cases 1228 healthy controls chek2 1100delc failed find mutation population however novel recurrent chek2 mutation near chek2 1100delc mutation chek2 1111câ â h371y found chinese women 21 chek2 h371y within activation loop chek2 protein kinase domain essential activation chek2 response dna damage functional analysis reveals chek2 h371y mutation produces dramatic decline chek2 activity pathogenic mutation 21 chek2 h371y confers 2 43 fold increase breast cancer risk chinese women disruption chek2 kinase activity may contribute breast cancer development also influence breast cancer survival response adjuvant therapy two studies suggested chek2 1100delc mutation associated poor recurrence free survival breast cancer 22 23 indicating patients chek2 1100delc mutation aggressive phenotype previous studies investigated association chek2 germline mutation response neoadjuvant chemotherapy breast cancer therefore current study investigated whether chek2 h371y mutation carriers likely respond neoadjuvant chemotherapy terms pathologic complete response pcr large cohort 2334 breast cancer patients received neoadjuvant chemotherapy explored association chek2 h371y mutation status distant recurrence free survival drfs go methods study population total 2382 operable primary breast cancer patients stage iii treated neoadjuvant chemotherapy breast center peking university cancer hospital october 2003 december 2010 mean age subjects 47 6 years range 22â 75 years tumor stage classified according tumor node metastasis classification union internationale contre le cancer tumor size defined maximum tumor diameter measured mammogram ultrasonogram time diagnosis tumors graded according modified bloom richardson system written consent obtained subjects study approved research ethical committee peking university cancer hospital chek2 h371y germline mutations peripheral blood samples collected patients genomic dna extracted leukocyte pellet proteinase k digestion followed phenol chloroform extraction chek2 h371y mutation detected polymerase chain reaction pcr followed denaturing high performance liquid chromatography dhplc sequencing directed sequencing described previously 21 screened 2382 patients germline chek2 h371y mutation chek2 h371y status readable 46 patients 41 2336 patients found carry mutation screened 41 chek2 h371y mutation carriers germline mutations brca1 2 two patients also carried brca2 germline mutation excluded study therefore 2334 patients 39 chek2 h371y carriers included final analysis current study estrogen receptor er progesterone receptor pr her2 status er pr her2 status determined core needle biopsy breast cancer tissue obtained initiation neoadjuvant chemotherapy described previously 24 neoadjuvant chemotherapy regimens among 2334 patients received neoadjuvant chemotherapy 94 received 4â 8 cycles treatments categorized three subgroups follows 859 patients received anthracycline based regimen detail regimens described previously 24 537 patients received ctf regimen 247 patients received fec regimen 59 patients received caf regimen remaining 16 patients received types anthracycline regimens 882 patients received anthracycline taxane containing regimen 682 patients received two cycles anthracycline followed 4 cycles paclitaxel alone 80 mg m2 iv per week 12 weeks paclitaxel plus carboplatin paclitaxel 175 mg m2 iv day 1 paclitaxel 60 mg m2 iv day 1 day 8 day 15 carboplatin auc 6 iv day 1 every three weeks 181 patients received 4 cycles paclitaxel alone docetaxel plus cyclophosphamide docetaxel 75 mg m2 iv day 1 cyclophosphamide 600 mg m2 iv day 1 every three weeks followed 2 4 cycles anthracyclines remaining 19 patients received types anthracycline taxane containing regimens e te regimen docetaxel plus epirubicin tac regimen docetaxel doxorubicin cyclophosphamide 593 patients received taxane based regimen without anthracyclines 494 patients received 4 cycles paclitaxel 80 mg m2 iv week 12 weeks 76 patients received paclitaxel plus carboplatin paclitaxel 60 mg m2 iv day 1 day 8 day 15 carboplatin auc 6 iv day 1 every three weeks remaining 23 patients received docetaxel plus cyclophosphamide docetaxel 75 mg m2 iv day 1 cyclophosphamide 600 mg m2 iv day 1 every three weeks cohort 2334 patients 108 patients received intravenous trastuzumab combination neoadjuvant chemotherapy completion neoadjuvant chemotherapy patients treated mastectomy nâ â 1351 breast conserving surgery nâ â 983 depending tumor size presence multiple lesions patient preference pcr defined absence invasive breast cancer cells breast completion neoadjuvant chemotherapy 25 26 sixty two percent patients received adjuvant chemotherapy alternative regimens operation patients axially positive lymph nodes breast conserving therapy received radiotherapy patients er pr positive disease received endocrine therapy 20 mg tamoxifen 5 years 1 mg anastrozole 5 years statistical analysis differences clinicopathological characteristics chek2 h371y carriers non carriers determined pearsonâ chi squared test associations chek2 h371y mutation status clinicopathologic characteristics pathological response neoadjuvant chemotherapy determined pearsonâ chi squared test fisherâ exact test number patients small logistic regression model applied determine whether factor independent predictor pcr multivariate analysis distant recurrence free survival drfs defined time date diagnosis first distant recurrence including second primary malignancies death breast cancer without recorded relapse survival curves derived kaplanâ meier estimates compared using log rank tests statistical tests two sided p values 0 05 considered statistically significant statistical analyses performed using spss 16 0 software chicago il usa go results patient tumor characteristics cohort 2334 patients 39 women carried chek2 h371y mutation 39 2334 1 7 since primers used study covered chek2 1100delc mutation none chek2 1100delc found current study clinicopathological characteristics chemotherapy regimens group presented table 1 significant differences found chek2 h371y carriers non carriers regard tumor size lymph node status er pr status chemotherapy regimens surgery type tumor grade pathological type table 1 however chek2 carriers likely diagnosed age 50 compared non carriers pâ â 0 036 table 1 chek2 carriers less likely her2 positive 15 4 non carriers 30 8 pâ â 0 038 table 1 table 1 table 1 association patient tumor characteristics chek2 h371y mutation status response neoadjuvant chemotherapy chek2 carriers non carriers overall 460 patients 19 7 achieved pcr neoadjuvant chemotherapy pcr rate 33 3 13 39 chek2 h371y mutation carriers 19 5 447 2295 non carriers table 2 indicating chek2 carriers significantly higher pcr rate non carriers pâ â 0 031 table 2 univariate analysis factors associated improved pcr rates er negativity pâ â 0 001 pr negativity pâ â 0 001 her2 positivity pâ â 0 001 tumor size â 2 cm pâ â 0 001 negative lymph nodes pâ â 0 001 high tumor grade pâ â 0 001 pcr rate significantly higher patients received trastuzumab 43 5 combination neoadjuvant chemotherapy compared patients 18 6 pâ â 0 001 table 2 table 2 table 2 pcr rates clinical characteristics multivariate logistic regression model chek2 h371y mutation positive status odds ratio â â 3 01 95 confidence interval ci 1 34 6 78 p 0 008 high tumor grade orâ â 2 28 95 ci 1 71 3 03 pâ â 0 001 tumor size less 2 cm orâ â 1 76 95 ci 1 38 2 24 pâ â 0 001 negative lymph nodes orâ â 2 10 95 ci 1 63 2 71 pâ â 0 001 er negativity orâ â 1 99 95 ci 1 48 2 67 pâ â 0 001 pr negativity orâ â 1 65 95 ci 1 21 2 26 pâ â 0 002 concurrent trastuzumab use orâ â 2 42 95 ci 1 47 3 99 pâ â 0 001 independent significant predictors pcr table 3 table 3 table 3 multivariate logistic regression model pathological complete response anthracycline treated subgroup chek2 mutation carriers higher pcr rate non carriers 27 8 vs 18 3 statistically significant pâ â 0 35 anthracycline taxane treated subgroup chek2 mutation carriers showed significantly higher pcr rate non carriers 50 0 vs 19 7 pâ â 0 032 taxane treated subgroup chek2 mutation carriers also higher pcr rate non carriers 27 3 vs 20 8 statistically significant pâ â 0 71 table 4 table 4 table 4 association chek2 h371y pathological response according neoadjuvant treatment regimens survival estimates follow data available patients median follow time 38 months range 1 104 months total 258 patients 11 1 experienced distant metastases died breast cancer follow period estimated 5 year distant recurrence free survival drfs rate entire study population 84 9 95 ci 82 9 86 9 patients achieved pcr significantly better 5 year drfs rate patients 93 5 vs 82 6 pâ â 0 001 figure 1a chek2 h371y mutation carriers slightly worse drfs non carriers adjusted hazard ratio hr 1 24 95 ci 0 59 2 63 difference reach significance pâ â 0 57 figure 1b stratified chek2 carriers non carriers pcr status 5 year drfs rates chek2 carriers without pcr 100 0 81 2 respectively whereas 5 year drfs rates non carriers without pcr 93 6 82 7 respectively figure 1c patients achieved pcr better drfs chek2 mutation carriers non carriers pâ â 0 001 however chek2 carriers without pcr exhibited worst drfs four subgroups figure 1c figure 1 figure 1 kaplan meier estimates distant recurrence free survival pcr andchek2h371y mutation status 2334 breast cancer patients received neoadjuvant chemotherapy distant recurrence free survival pcr status distant recurrence free survival go discussion previous study identified novel recurrent chek2 h371y mutation chinese women mutation decreases chek2 activity confers approximately 2 4 fold increase breast cancer risk 21 present study investigated association chek2 h371y pathologic response 2334 women received neoadjuvant chemotherapy best knowledge first study report chek2 h371y mutation carriers likely respond neoadjuvant chemotherapy non carriers h371y mutation status independent favorable predictor pcr multivariate analysis subgroup analyses chek2 h371y mutation carriers higher pcr rate non carriers neoadjuvant anthracycline based regimens taxane based regimens although difference reach statistical significance however chek2 mutation carriers significantly higher pcr non carriers among subgroup women received neoadjuvant anthracycline taxane containing regimen chek2 involved various dna damage responses including cell cycle checkpoints genome maintenance dna repair apoptosis 27 anthracyclines induce double strand dna breaks 28 29 repair impaired deficiency chek2 protein 21 30 31 tumor cells express mutated chek2 347 exhibited 2 4 fold increase apoptosis upon treatment adrimycin 6 chek2 kinase activity also required proper mitotic spindle assembly chromosome stability 32 chek2 deficient lymphoma cells sensitive taxol 33 line findings results suggested chek2 h371y sensitive anthracycline taxane previous studies showed breast cancer patients chek2 1100delc mutation worse disease free survival patients without mutation 22 23 one recent study suggested breast cancer patients chek2 1100delc mutation worse survival beyond 6 years diagnosis non carriers 34 current study chek2 h371y carriers showed slightly poorer drfs non carriers entire study cohort 5 years worth investigate survival impact chek2 h371y mutation long term follow however chek2 carriers non carriers achieved pcr significant better drfs whereas chek2 h371y carriers reach pcr worst drfs four subgroups although chek2 h371y carriers likely respond neoadjuvant chemotherapy small subset mutation carriers achieved pcr majority chek2 h371y carriers reach pcr might particularly aggressive phenotype germline brca1 mutation carriers sensitive anthracycline cisplatin neoadjuvant chemotherapy 35 37 byrski et al recently reported brca1 mutation carriers extremely sensitive cisplatin based neoadjuvant chemotherapy pcr rate 61 65 107 patients 38 chek2 h371y mutation may share similarity brca1 mutation therefore interest issue see whether chek2 h371y mutation carriers responsive cisplatin recent clinical trials showed brca1 mutation carriers sensitive poly adp ribose polymerase parp inhibitors 39 40 vitro studies suggested tumor cells silenced chek2 expression showed increased sensitivity parp 1 inhibitor 33 41 therefore chek2 h371y mutation carriers may potential candidates treatment parp1 inhibitors although entire study population large number individuals chek2 h371y relatively small particularly mutation carriers stratified several treatment groups therefore results premature interpreted cautiously nevertheless study suggests patients deficiency chek2 activity due germline mutation like h371y sensitive neoadjuvant chemotherapy would great interest explore whether chek2 germline mutations e chek2 1100delc similarly responsive neoadjuvant chemotherapy go conclusions results suggest chek2 h371y mutation carriers likely respond neoadjuvant chemotherapy non carriers addition chek2 h371y mutation may share similarity brca1 mutation therefore chek2 h371y mutation carriers may potential candidates treatment parp1 inhibitors go acknowledgements study supported 973 project 2013cb911004 program breast cancer tissue bank beijing grants national natural science foundation china 30973436 81071629 81202107 go abbreviations anthracycline atm ataxia telangiectasia mutated bcs breast conserving surgery chek2 cell cycle checkpoint kinase 2 ci confidence interval dhplc denaturing high performance liquid chromatography er estrogen receptor fish fluorescence situ hybridization her2 human epidermal growth factor receptor 2 hr hazard ratio ihc immunohistochemistry odds ratio parp poly adp ribose polymerase pcr pathologic complete response pgr progesterone receptor rfs recurrence free survival taxane\n"
     ]
    }
   ],
   "source": [
    "print(testing_full_df.Text_preprocessed[0])"
   ]
  },
  {
   "cell_type": "code",
   "execution_count": 104,
   "metadata": {},
   "outputs": [
    {
     "name": "stdout",
     "output_type": "stream",
     "text": [
      "incidence breast cancer increasing china recent decades familial breast cancer accounts 5â 10 total patients chinese women germline mutations breast cancer susceptibility genes brca1 <OOV> 113705 brca2 <OOV> <OOV> responsible approximately 10 chinese breast cancer families <OOV> <OOV> 2002 breast cancer susceptibility genes related chinese breast cancer families therefore remain identified chek2 cell cycle checkpoint kinase 2 also known chk2 <OOV> <OOV> nm <OOV> 3 located chromosome <OOV> encodes <OOV> kinase plays important role cell cycle regulation apoptosis dna repair <OOV> et al 2001 chek2 gene contains three distinct functional domains sq tq rich domain residues 19â 69 forkhead associated domain residues <OOV> 165 serine threonine kinase domain residues <OOV> <OOV> <OOV> et al 2001 chek2 activated ataxia telangiectasia mutated atm <OOV> <OOV> protein response dna damage phosphorylation <OOV> sq tq rich domain chek2 likely initiating event prerequisite subsequent activation step followed autophosphorylation chek2 residues <OOV> <OOV> activation loop kinase domain <OOV> et al 2001 previous study demonstrated chek2 moderate breast cancer susceptibility gene <OOV> <OOV> et al 2002 recurrent mutation c 1100delc abolishes kinase function chek2 confers twofold increased breast cancer risk european women <OOV> <OOV> et al 2002 <OOV> et al 2008 germline mutations chek2 gene comprehensively investigated chinese women studies small sample sizes less 120 cases screened mutations exon 10 chek2 chinese women familial early onset breast cancer chek2 c 1100delc found studies chen et al 2008 <OOV> et al 2006 preliminary studies suggest account apparent low frequency chek2 c 1100delc chinese women little genetic risk breast cancer chinese women likely attributable chek2 c 1100delc mutation present study first screened entire coding regions exonâ intron boundaries chek2 118 chinese women familial breast cancer carry mutations brca1 brca2 northern china recurrent variant c <OOV> p <OOV> exon 10 chek2 identified cohort functional analysis suggested p <OOV> pathogenic mutation therefore detected mutation <OOV> unselected breast cancer cases <OOV> healthy women aim investigate whether chek2 p <OOV> mutation associated breast cancer risk chinese women breast cancer patients breast center <OOV> university cancer hospital october 2003 january 2007 familial breast cancer defined least two breast cancers first second degree relatives diagnosed prior age 60 years one hundred eighteen familial breast cancer cases 112 unrelated families <OOV> unselected breast cancer cases selected without consideration cancer history one thousand two hundred twenty eight healthy women served controls study cases controls chinese women <OOV> <OOV> reside north china peripheral blood samples collected patients controls\n"
     ]
    }
   ],
   "source": [
    "print(decode_text(testing_full_Text_preprocessed_sequences_padded[0]))"
   ]
  },
  {
   "cell_type": "code",
   "execution_count": 105,
   "metadata": {},
   "outputs": [
    {
     "name": "stdout",
     "output_type": "stream",
     "text": [
      "testing_1hot_cols is of type:  <class 'numpy.ndarray'>\n",
      "testing_1hot_cols is of shape:  (986, 2644)\n"
     ]
    }
   ],
   "source": [
    "# Process the 'Gene' and 'Variation' features\n",
    "\n",
    "cat_features=['Gene','Variation']\n",
    "\n",
    "testing_1hot_cols=onehotenc.transform(testing_full_df[cat_features].values.reshape(-1,len(cat_features)))\n",
    "\n",
    "print('testing_1hot_cols is of type: ', type(testing_1hot_cols))\n",
    "print('testing_1hot_cols is of shape: ', testing_1hot_cols.shape)"
   ]
  },
  {
   "cell_type": "code",
   "execution_count": 106,
   "metadata": {},
   "outputs": [
    {
     "name": "stdout",
     "output_type": "stream",
     "text": [
      "X_test_1hot_cols_df is of type:  <class 'pandas.core.frame.DataFrame'>\n",
      "X_test_1hot_cols_df is of shape:  (986, 2644)\n"
     ]
    }
   ],
   "source": [
    "testing_1hot_cols_df=pd.DataFrame(testing_1hot_cols.astype(int))\n",
    "\n",
    "print('X_test_1hot_cols_df is of type: ', type(testing_1hot_cols_df))\n",
    "print('X_test_1hot_cols_df is of shape: ', testing_1hot_cols_df.shape)"
   ]
  },
  {
   "cell_type": "code",
   "execution_count": 107,
   "metadata": {},
   "outputs": [],
   "source": [
    "testing_1hot_cols_df.columns=onehotenc.get_feature_names()"
   ]
  },
  {
   "cell_type": "code",
   "execution_count": 108,
   "metadata": {},
   "outputs": [
    {
     "data": {
      "text/html": [
       "<div>\n",
       "<style scoped>\n",
       "    .dataframe tbody tr th:only-of-type {\n",
       "        vertical-align: middle;\n",
       "    }\n",
       "\n",
       "    .dataframe tbody tr th {\n",
       "        vertical-align: top;\n",
       "    }\n",
       "\n",
       "    .dataframe thead th {\n",
       "        text-align: right;\n",
       "    }\n",
       "</style>\n",
       "<table border=\"1\" class=\"dataframe\">\n",
       "  <thead>\n",
       "    <tr style=\"text-align: right;\">\n",
       "      <th></th>\n",
       "      <th>x0_abl1</th>\n",
       "      <th>x0_acvr1</th>\n",
       "      <th>x0_ago2</th>\n",
       "      <th>x0_akt1</th>\n",
       "      <th>x0_akt2</th>\n",
       "      <th>x0_akt3</th>\n",
       "      <th>x0_alk</th>\n",
       "      <th>x0_apc</th>\n",
       "      <th>x0_ar</th>\n",
       "      <th>x0_araf</th>\n",
       "      <th>...</th>\n",
       "      <th>x1_y87c</th>\n",
       "      <th>x1_y87n</th>\n",
       "      <th>x1_y901c</th>\n",
       "      <th>x1_y931c</th>\n",
       "      <th>x1_y98h</th>\n",
       "      <th>x1_y98n</th>\n",
       "      <th>x1_yap1 fam118b fusion</th>\n",
       "      <th>x1_yap1 mamld1 fusion</th>\n",
       "      <th>x1_zc3h7b bcor fusion</th>\n",
       "      <th>x1_znf198 fgfr1 fusion</th>\n",
       "    </tr>\n",
       "  </thead>\n",
       "  <tbody>\n",
       "    <tr>\n",
       "      <th>0</th>\n",
       "      <td>0</td>\n",
       "      <td>0</td>\n",
       "      <td>0</td>\n",
       "      <td>0</td>\n",
       "      <td>0</td>\n",
       "      <td>0</td>\n",
       "      <td>0</td>\n",
       "      <td>0</td>\n",
       "      <td>0</td>\n",
       "      <td>0</td>\n",
       "      <td>...</td>\n",
       "      <td>0</td>\n",
       "      <td>0</td>\n",
       "      <td>0</td>\n",
       "      <td>0</td>\n",
       "      <td>0</td>\n",
       "      <td>0</td>\n",
       "      <td>0</td>\n",
       "      <td>0</td>\n",
       "      <td>0</td>\n",
       "      <td>0</td>\n",
       "    </tr>\n",
       "    <tr>\n",
       "      <th>1</th>\n",
       "      <td>0</td>\n",
       "      <td>0</td>\n",
       "      <td>0</td>\n",
       "      <td>0</td>\n",
       "      <td>0</td>\n",
       "      <td>0</td>\n",
       "      <td>0</td>\n",
       "      <td>0</td>\n",
       "      <td>0</td>\n",
       "      <td>0</td>\n",
       "      <td>...</td>\n",
       "      <td>0</td>\n",
       "      <td>0</td>\n",
       "      <td>0</td>\n",
       "      <td>0</td>\n",
       "      <td>0</td>\n",
       "      <td>0</td>\n",
       "      <td>0</td>\n",
       "      <td>0</td>\n",
       "      <td>0</td>\n",
       "      <td>0</td>\n",
       "    </tr>\n",
       "    <tr>\n",
       "      <th>2</th>\n",
       "      <td>0</td>\n",
       "      <td>0</td>\n",
       "      <td>0</td>\n",
       "      <td>0</td>\n",
       "      <td>0</td>\n",
       "      <td>0</td>\n",
       "      <td>0</td>\n",
       "      <td>0</td>\n",
       "      <td>0</td>\n",
       "      <td>0</td>\n",
       "      <td>...</td>\n",
       "      <td>0</td>\n",
       "      <td>0</td>\n",
       "      <td>0</td>\n",
       "      <td>0</td>\n",
       "      <td>0</td>\n",
       "      <td>0</td>\n",
       "      <td>0</td>\n",
       "      <td>0</td>\n",
       "      <td>0</td>\n",
       "      <td>0</td>\n",
       "    </tr>\n",
       "    <tr>\n",
       "      <th>3</th>\n",
       "      <td>0</td>\n",
       "      <td>0</td>\n",
       "      <td>0</td>\n",
       "      <td>0</td>\n",
       "      <td>0</td>\n",
       "      <td>0</td>\n",
       "      <td>0</td>\n",
       "      <td>0</td>\n",
       "      <td>0</td>\n",
       "      <td>0</td>\n",
       "      <td>...</td>\n",
       "      <td>0</td>\n",
       "      <td>0</td>\n",
       "      <td>0</td>\n",
       "      <td>0</td>\n",
       "      <td>0</td>\n",
       "      <td>0</td>\n",
       "      <td>0</td>\n",
       "      <td>0</td>\n",
       "      <td>0</td>\n",
       "      <td>0</td>\n",
       "    </tr>\n",
       "    <tr>\n",
       "      <th>4</th>\n",
       "      <td>0</td>\n",
       "      <td>0</td>\n",
       "      <td>0</td>\n",
       "      <td>0</td>\n",
       "      <td>0</td>\n",
       "      <td>0</td>\n",
       "      <td>0</td>\n",
       "      <td>0</td>\n",
       "      <td>0</td>\n",
       "      <td>0</td>\n",
       "      <td>...</td>\n",
       "      <td>0</td>\n",
       "      <td>0</td>\n",
       "      <td>0</td>\n",
       "      <td>0</td>\n",
       "      <td>0</td>\n",
       "      <td>0</td>\n",
       "      <td>0</td>\n",
       "      <td>0</td>\n",
       "      <td>0</td>\n",
       "      <td>0</td>\n",
       "    </tr>\n",
       "    <tr>\n",
       "      <th>...</th>\n",
       "      <td>...</td>\n",
       "      <td>...</td>\n",
       "      <td>...</td>\n",
       "      <td>...</td>\n",
       "      <td>...</td>\n",
       "      <td>...</td>\n",
       "      <td>...</td>\n",
       "      <td>...</td>\n",
       "      <td>...</td>\n",
       "      <td>...</td>\n",
       "      <td>...</td>\n",
       "      <td>...</td>\n",
       "      <td>...</td>\n",
       "      <td>...</td>\n",
       "      <td>...</td>\n",
       "      <td>...</td>\n",
       "      <td>...</td>\n",
       "      <td>...</td>\n",
       "      <td>...</td>\n",
       "      <td>...</td>\n",
       "      <td>...</td>\n",
       "    </tr>\n",
       "    <tr>\n",
       "      <th>981</th>\n",
       "      <td>0</td>\n",
       "      <td>0</td>\n",
       "      <td>0</td>\n",
       "      <td>0</td>\n",
       "      <td>0</td>\n",
       "      <td>0</td>\n",
       "      <td>0</td>\n",
       "      <td>0</td>\n",
       "      <td>0</td>\n",
       "      <td>0</td>\n",
       "      <td>...</td>\n",
       "      <td>0</td>\n",
       "      <td>0</td>\n",
       "      <td>0</td>\n",
       "      <td>0</td>\n",
       "      <td>0</td>\n",
       "      <td>0</td>\n",
       "      <td>0</td>\n",
       "      <td>0</td>\n",
       "      <td>0</td>\n",
       "      <td>0</td>\n",
       "    </tr>\n",
       "    <tr>\n",
       "      <th>982</th>\n",
       "      <td>0</td>\n",
       "      <td>0</td>\n",
       "      <td>0</td>\n",
       "      <td>0</td>\n",
       "      <td>0</td>\n",
       "      <td>0</td>\n",
       "      <td>0</td>\n",
       "      <td>0</td>\n",
       "      <td>0</td>\n",
       "      <td>0</td>\n",
       "      <td>...</td>\n",
       "      <td>0</td>\n",
       "      <td>0</td>\n",
       "      <td>0</td>\n",
       "      <td>0</td>\n",
       "      <td>0</td>\n",
       "      <td>0</td>\n",
       "      <td>0</td>\n",
       "      <td>0</td>\n",
       "      <td>0</td>\n",
       "      <td>0</td>\n",
       "    </tr>\n",
       "    <tr>\n",
       "      <th>983</th>\n",
       "      <td>0</td>\n",
       "      <td>0</td>\n",
       "      <td>0</td>\n",
       "      <td>0</td>\n",
       "      <td>0</td>\n",
       "      <td>0</td>\n",
       "      <td>0</td>\n",
       "      <td>0</td>\n",
       "      <td>0</td>\n",
       "      <td>0</td>\n",
       "      <td>...</td>\n",
       "      <td>0</td>\n",
       "      <td>0</td>\n",
       "      <td>0</td>\n",
       "      <td>0</td>\n",
       "      <td>0</td>\n",
       "      <td>0</td>\n",
       "      <td>0</td>\n",
       "      <td>0</td>\n",
       "      <td>0</td>\n",
       "      <td>0</td>\n",
       "    </tr>\n",
       "    <tr>\n",
       "      <th>984</th>\n",
       "      <td>0</td>\n",
       "      <td>0</td>\n",
       "      <td>0</td>\n",
       "      <td>0</td>\n",
       "      <td>0</td>\n",
       "      <td>0</td>\n",
       "      <td>0</td>\n",
       "      <td>0</td>\n",
       "      <td>0</td>\n",
       "      <td>0</td>\n",
       "      <td>...</td>\n",
       "      <td>0</td>\n",
       "      <td>0</td>\n",
       "      <td>0</td>\n",
       "      <td>0</td>\n",
       "      <td>0</td>\n",
       "      <td>0</td>\n",
       "      <td>0</td>\n",
       "      <td>0</td>\n",
       "      <td>0</td>\n",
       "      <td>0</td>\n",
       "    </tr>\n",
       "    <tr>\n",
       "      <th>985</th>\n",
       "      <td>0</td>\n",
       "      <td>0</td>\n",
       "      <td>0</td>\n",
       "      <td>0</td>\n",
       "      <td>0</td>\n",
       "      <td>0</td>\n",
       "      <td>0</td>\n",
       "      <td>0</td>\n",
       "      <td>0</td>\n",
       "      <td>0</td>\n",
       "      <td>...</td>\n",
       "      <td>0</td>\n",
       "      <td>0</td>\n",
       "      <td>0</td>\n",
       "      <td>0</td>\n",
       "      <td>0</td>\n",
       "      <td>0</td>\n",
       "      <td>0</td>\n",
       "      <td>0</td>\n",
       "      <td>0</td>\n",
       "      <td>0</td>\n",
       "    </tr>\n",
       "  </tbody>\n",
       "</table>\n",
       "<p>986 rows × 2644 columns</p>\n",
       "</div>"
      ],
      "text/plain": [
       "     x0_abl1  x0_acvr1  x0_ago2  x0_akt1  x0_akt2  x0_akt3  x0_alk  x0_apc  \\\n",
       "0          0         0        0        0        0        0       0       0   \n",
       "1          0         0        0        0        0        0       0       0   \n",
       "2          0         0        0        0        0        0       0       0   \n",
       "3          0         0        0        0        0        0       0       0   \n",
       "4          0         0        0        0        0        0       0       0   \n",
       "..       ...       ...      ...      ...      ...      ...     ...     ...   \n",
       "981        0         0        0        0        0        0       0       0   \n",
       "982        0         0        0        0        0        0       0       0   \n",
       "983        0         0        0        0        0        0       0       0   \n",
       "984        0         0        0        0        0        0       0       0   \n",
       "985        0         0        0        0        0        0       0       0   \n",
       "\n",
       "     x0_ar  x0_araf  ...  x1_y87c  x1_y87n  x1_y901c  x1_y931c  x1_y98h  \\\n",
       "0        0        0  ...        0        0         0         0        0   \n",
       "1        0        0  ...        0        0         0         0        0   \n",
       "2        0        0  ...        0        0         0         0        0   \n",
       "3        0        0  ...        0        0         0         0        0   \n",
       "4        0        0  ...        0        0         0         0        0   \n",
       "..     ...      ...  ...      ...      ...       ...       ...      ...   \n",
       "981      0        0  ...        0        0         0         0        0   \n",
       "982      0        0  ...        0        0         0         0        0   \n",
       "983      0        0  ...        0        0         0         0        0   \n",
       "984      0        0  ...        0        0         0         0        0   \n",
       "985      0        0  ...        0        0         0         0        0   \n",
       "\n",
       "     x1_y98n  x1_yap1 fam118b fusion  x1_yap1 mamld1 fusion  \\\n",
       "0          0                       0                      0   \n",
       "1          0                       0                      0   \n",
       "2          0                       0                      0   \n",
       "3          0                       0                      0   \n",
       "4          0                       0                      0   \n",
       "..       ...                     ...                    ...   \n",
       "981        0                       0                      0   \n",
       "982        0                       0                      0   \n",
       "983        0                       0                      0   \n",
       "984        0                       0                      0   \n",
       "985        0                       0                      0   \n",
       "\n",
       "     x1_zc3h7b bcor fusion  x1_znf198 fgfr1 fusion  \n",
       "0                        0                       0  \n",
       "1                        0                       0  \n",
       "2                        0                       0  \n",
       "3                        0                       0  \n",
       "4                        0                       0  \n",
       "..                     ...                     ...  \n",
       "981                      0                       0  \n",
       "982                      0                       0  \n",
       "983                      0                       0  \n",
       "984                      0                       0  \n",
       "985                      0                       0  \n",
       "\n",
       "[986 rows x 2644 columns]"
      ]
     },
     "execution_count": 108,
     "metadata": {},
     "output_type": "execute_result"
    }
   ],
   "source": [
    "testing_1hot_cols_df"
   ]
  },
  {
   "cell_type": "markdown",
   "metadata": {},
   "source": [
    "### Evaluate competition test data"
   ]
  },
  {
   "cell_type": "code",
   "execution_count": 109,
   "metadata": {},
   "outputs": [],
   "source": [
    "X_testing_A = testing_1hot_cols_df\n",
    "X_testing_B = testing_full_Text_preprocessed_sequences_padded"
   ]
  },
  {
   "cell_type": "code",
   "execution_count": 110,
   "metadata": {},
   "outputs": [],
   "source": [
    "model_final_predict_proba=model_final.predict((X_testing_A,X_testing_B))"
   ]
  },
  {
   "cell_type": "code",
   "execution_count": 111,
   "metadata": {},
   "outputs": [],
   "source": [
    "# Create CSV file for competition entry\n",
    "model_final_predict_proba_for_competition=pd.DataFrame(model_final_predict_proba)\n",
    "model_final_predict_proba_for_competition=pd.concat([sample_submission[['ID']],model_final_predict_proba_for_competition],axis=1)\n",
    "model_final_predict_proba_for_competition.columns=sample_submission.columns"
   ]
  },
  {
   "cell_type": "markdown",
   "metadata": {},
   "source": [
    "### DataFrame for submission: Probabilistic prediction, into 9 classes, of genetic variations in test files (stage2_test_variants & stage2_test_text)"
   ]
  },
  {
   "cell_type": "code",
   "execution_count": 112,
   "metadata": {},
   "outputs": [
    {
     "data": {
      "text/html": [
       "<div>\n",
       "<style scoped>\n",
       "    .dataframe tbody tr th:only-of-type {\n",
       "        vertical-align: middle;\n",
       "    }\n",
       "\n",
       "    .dataframe tbody tr th {\n",
       "        vertical-align: top;\n",
       "    }\n",
       "\n",
       "    .dataframe thead th {\n",
       "        text-align: right;\n",
       "    }\n",
       "</style>\n",
       "<table border=\"1\" class=\"dataframe\">\n",
       "  <thead>\n",
       "    <tr style=\"text-align: right;\">\n",
       "      <th></th>\n",
       "      <th>ID</th>\n",
       "      <th>class1</th>\n",
       "      <th>class2</th>\n",
       "      <th>class3</th>\n",
       "      <th>class4</th>\n",
       "      <th>class5</th>\n",
       "      <th>class6</th>\n",
       "      <th>class7</th>\n",
       "      <th>class8</th>\n",
       "      <th>class9</th>\n",
       "    </tr>\n",
       "  </thead>\n",
       "  <tbody>\n",
       "    <tr>\n",
       "      <th>0</th>\n",
       "      <td>1</td>\n",
       "      <td>0.326537</td>\n",
       "      <td>0.038403</td>\n",
       "      <td>0.022052</td>\n",
       "      <td>0.473053</td>\n",
       "      <td>0.045060</td>\n",
       "      <td>0.053244</td>\n",
       "      <td>0.031555</td>\n",
       "      <td>0.004353</td>\n",
       "      <td>0.005744</td>\n",
       "    </tr>\n",
       "    <tr>\n",
       "      <th>1</th>\n",
       "      <td>2</td>\n",
       "      <td>0.830317</td>\n",
       "      <td>0.009750</td>\n",
       "      <td>0.005673</td>\n",
       "      <td>0.115603</td>\n",
       "      <td>0.010436</td>\n",
       "      <td>0.015109</td>\n",
       "      <td>0.010064</td>\n",
       "      <td>0.000983</td>\n",
       "      <td>0.002065</td>\n",
       "    </tr>\n",
       "    <tr>\n",
       "      <th>2</th>\n",
       "      <td>3</td>\n",
       "      <td>0.116739</td>\n",
       "      <td>0.258705</td>\n",
       "      <td>0.019729</td>\n",
       "      <td>0.216271</td>\n",
       "      <td>0.041780</td>\n",
       "      <td>0.027431</td>\n",
       "      <td>0.308385</td>\n",
       "      <td>0.004016</td>\n",
       "      <td>0.006945</td>\n",
       "    </tr>\n",
       "    <tr>\n",
       "      <th>3</th>\n",
       "      <td>4</td>\n",
       "      <td>0.201997</td>\n",
       "      <td>0.113907</td>\n",
       "      <td>0.061504</td>\n",
       "      <td>0.141410</td>\n",
       "      <td>0.167570</td>\n",
       "      <td>0.119188</td>\n",
       "      <td>0.109792</td>\n",
       "      <td>0.031968</td>\n",
       "      <td>0.052664</td>\n",
       "    </tr>\n",
       "    <tr>\n",
       "      <th>4</th>\n",
       "      <td>5</td>\n",
       "      <td>0.004607</td>\n",
       "      <td>0.346123</td>\n",
       "      <td>0.002415</td>\n",
       "      <td>0.010146</td>\n",
       "      <td>0.009413</td>\n",
       "      <td>0.003050</td>\n",
       "      <td>0.623089</td>\n",
       "      <td>0.000175</td>\n",
       "      <td>0.000982</td>\n",
       "    </tr>\n",
       "    <tr>\n",
       "      <th>...</th>\n",
       "      <td>...</td>\n",
       "      <td>...</td>\n",
       "      <td>...</td>\n",
       "      <td>...</td>\n",
       "      <td>...</td>\n",
       "      <td>...</td>\n",
       "      <td>...</td>\n",
       "      <td>...</td>\n",
       "      <td>...</td>\n",
       "      <td>...</td>\n",
       "    </tr>\n",
       "    <tr>\n",
       "      <th>981</th>\n",
       "      <td>982</td>\n",
       "      <td>0.038603</td>\n",
       "      <td>0.213291</td>\n",
       "      <td>0.020521</td>\n",
       "      <td>0.061981</td>\n",
       "      <td>0.041324</td>\n",
       "      <td>0.018631</td>\n",
       "      <td>0.594436</td>\n",
       "      <td>0.003325</td>\n",
       "      <td>0.007887</td>\n",
       "    </tr>\n",
       "    <tr>\n",
       "      <th>982</th>\n",
       "      <td>983</td>\n",
       "      <td>0.094497</td>\n",
       "      <td>0.258599</td>\n",
       "      <td>0.049604</td>\n",
       "      <td>0.108232</td>\n",
       "      <td>0.115766</td>\n",
       "      <td>0.067878</td>\n",
       "      <td>0.246650</td>\n",
       "      <td>0.021641</td>\n",
       "      <td>0.037133</td>\n",
       "    </tr>\n",
       "    <tr>\n",
       "      <th>983</th>\n",
       "      <td>984</td>\n",
       "      <td>0.011985</td>\n",
       "      <td>0.534787</td>\n",
       "      <td>0.007582</td>\n",
       "      <td>0.013223</td>\n",
       "      <td>0.027981</td>\n",
       "      <td>0.012918</td>\n",
       "      <td>0.383175</td>\n",
       "      <td>0.001335</td>\n",
       "      <td>0.007015</td>\n",
       "    </tr>\n",
       "    <tr>\n",
       "      <th>984</th>\n",
       "      <td>985</td>\n",
       "      <td>0.570137</td>\n",
       "      <td>0.012645</td>\n",
       "      <td>0.010478</td>\n",
       "      <td>0.249392</td>\n",
       "      <td>0.060555</td>\n",
       "      <td>0.079832</td>\n",
       "      <td>0.011072</td>\n",
       "      <td>0.001993</td>\n",
       "      <td>0.003896</td>\n",
       "    </tr>\n",
       "    <tr>\n",
       "      <th>985</th>\n",
       "      <td>986</td>\n",
       "      <td>0.086660</td>\n",
       "      <td>0.322376</td>\n",
       "      <td>0.040906</td>\n",
       "      <td>0.079772</td>\n",
       "      <td>0.091586</td>\n",
       "      <td>0.058514</td>\n",
       "      <td>0.267545</td>\n",
       "      <td>0.016524</td>\n",
       "      <td>0.036115</td>\n",
       "    </tr>\n",
       "  </tbody>\n",
       "</table>\n",
       "<p>986 rows × 10 columns</p>\n",
       "</div>"
      ],
      "text/plain": [
       "      ID    class1    class2    class3    class4    class5    class6  \\\n",
       "0      1  0.326537  0.038403  0.022052  0.473053  0.045060  0.053244   \n",
       "1      2  0.830317  0.009750  0.005673  0.115603  0.010436  0.015109   \n",
       "2      3  0.116739  0.258705  0.019729  0.216271  0.041780  0.027431   \n",
       "3      4  0.201997  0.113907  0.061504  0.141410  0.167570  0.119188   \n",
       "4      5  0.004607  0.346123  0.002415  0.010146  0.009413  0.003050   \n",
       "..   ...       ...       ...       ...       ...       ...       ...   \n",
       "981  982  0.038603  0.213291  0.020521  0.061981  0.041324  0.018631   \n",
       "982  983  0.094497  0.258599  0.049604  0.108232  0.115766  0.067878   \n",
       "983  984  0.011985  0.534787  0.007582  0.013223  0.027981  0.012918   \n",
       "984  985  0.570137  0.012645  0.010478  0.249392  0.060555  0.079832   \n",
       "985  986  0.086660  0.322376  0.040906  0.079772  0.091586  0.058514   \n",
       "\n",
       "       class7    class8    class9  \n",
       "0    0.031555  0.004353  0.005744  \n",
       "1    0.010064  0.000983  0.002065  \n",
       "2    0.308385  0.004016  0.006945  \n",
       "3    0.109792  0.031968  0.052664  \n",
       "4    0.623089  0.000175  0.000982  \n",
       "..        ...       ...       ...  \n",
       "981  0.594436  0.003325  0.007887  \n",
       "982  0.246650  0.021641  0.037133  \n",
       "983  0.383175  0.001335  0.007015  \n",
       "984  0.011072  0.001993  0.003896  \n",
       "985  0.267545  0.016524  0.036115  \n",
       "\n",
       "[986 rows x 10 columns]"
      ]
     },
     "execution_count": 112,
     "metadata": {},
     "output_type": "execute_result"
    }
   ],
   "source": [
    "model_final_predict_proba_for_competition"
   ]
  },
  {
   "cell_type": "code",
   "execution_count": 113,
   "metadata": {},
   "outputs": [],
   "source": [
    "model_final_predict_proba_for_competition.to_csv('DC20200212',index=False)"
   ]
  },
  {
   "cell_type": "markdown",
   "metadata": {},
   "source": [
    "## Submission #3, by Daniel Cunza - Private Score: 3.04077, Public Score: 1.24905\n",
    "#### Competition position (Private Leaderboard): 220th out of 355 participants"
   ]
  },
  {
   "cell_type": "markdown",
   "metadata": {},
   "source": [
    "## Conclusions:"
   ]
  },
  {
   "cell_type": "markdown",
   "metadata": {},
   "source": [
    "#### * Given the observed recall rates, classes 3 and 5 were observed as the most the significant culprits for the lower test-set classifications scores; and the errors for BOTH of these classes were mostly due to mis-classifications as class 7. Thus, IF this model were to be used, recommending precision/recall thresholds be adjusted for optimal recall among classes 3, 5, and 7."
   ]
  },
  {
   "cell_type": "markdown",
   "metadata": {},
   "source": [
    "#### * Final submitted files:\n",
    "- Neural network model: Kaggle_Personalized_Medicine_Redefining_Cancer_Treatment_using_RNNs_TensorFlow_2p1.h5 \n",
    "- CSV probability prediction: DC20200212.csv"
   ]
  },
  {
   "cell_type": "markdown",
   "metadata": {},
   "source": [
    "#### * TODO:  \n",
    "1. Create pipelines for all data pre-processing, for better code portability.\n",
    "2. Attempt another classification strategy; specifically, Support Vector Machines (SVMs) would be a good candidate. "
   ]
  },
  {
   "cell_type": "code",
   "execution_count": null,
   "metadata": {},
   "outputs": [],
   "source": []
  }
 ],
 "metadata": {
  "kernelspec": {
   "display_name": "Python 3",
   "language": "python",
   "name": "python3"
  },
  "language_info": {
   "codemirror_mode": {
    "name": "ipython",
    "version": 3
   },
   "file_extension": ".py",
   "mimetype": "text/x-python",
   "name": "python",
   "nbconvert_exporter": "python",
   "pygments_lexer": "ipython3",
   "version": "3.6.7"
  }
 },
 "nbformat": 4,
 "nbformat_minor": 2
}
