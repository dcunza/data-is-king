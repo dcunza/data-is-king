{
 "cells": [
  {
   "cell_type": "markdown",
   "id": "62a8074c",
   "metadata": {},
   "source": [
    "## Tutorial notebook based on the Kaggle AudioBook App Data Competition, as found in https://www.kaggle.com/datasets/faressayah/audiobook-app-data"
   ]
  },
  {
   "cell_type": "markdown",
   "id": "40de229a",
   "metadata": {},
   "source": [
    "### We solve an UNBALANCED BINARY PREDICTION PROBLEM ON TABULAR DATA via a gradient-boosted decision trees approach using XGBoost."
   ]
  },
  {
   "cell_type": "markdown",
   "id": "1b0ef575",
   "metadata": {},
   "source": [
    "### This approach can be carried over and applied to a variety of prediction problems on unbalanced tabular data."
   ]
  },
  {
   "cell_type": "code",
   "execution_count": 2,
   "id": "b73cef75",
   "metadata": {},
   "outputs": [],
   "source": [
    "import numpy as np\n",
    "import pandas as pd\n",
    "import seaborn as sns\n",
    "import matplotlib.pyplot as plt"
   ]
  },
  {
   "cell_type": "code",
   "execution_count": 3,
   "id": "3bc36cd2",
   "metadata": {},
   "outputs": [
    {
     "data": {
      "text/html": [
       "<div>\n",
       "<style scoped>\n",
       "    .dataframe tbody tr th:only-of-type {\n",
       "        vertical-align: middle;\n",
       "    }\n",
       "\n",
       "    .dataframe tbody tr th {\n",
       "        vertical-align: top;\n",
       "    }\n",
       "\n",
       "    .dataframe thead th {\n",
       "        text-align: right;\n",
       "    }\n",
       "</style>\n",
       "<table border=\"1\" class=\"dataframe\">\n",
       "  <thead>\n",
       "    <tr style=\"text-align: right;\">\n",
       "      <th></th>\n",
       "      <th>Unnamed: 0</th>\n",
       "      <th>Book_length(mins)_overall</th>\n",
       "      <th>Book_length(mins)_avg</th>\n",
       "      <th>Price_overall</th>\n",
       "      <th>Price_avg</th>\n",
       "      <th>Review</th>\n",
       "      <th>Review10/10</th>\n",
       "      <th>Completion</th>\n",
       "      <th>Minutes_listened</th>\n",
       "      <th>Support_Request</th>\n",
       "      <th>Last_Visited_mins_Purchase_date</th>\n",
       "      <th>Target</th>\n",
       "    </tr>\n",
       "  </thead>\n",
       "  <tbody>\n",
       "    <tr>\n",
       "      <th>0</th>\n",
       "      <td>994</td>\n",
       "      <td>1620.0</td>\n",
       "      <td>1620</td>\n",
       "      <td>19.73</td>\n",
       "      <td>19.73</td>\n",
       "      <td>1</td>\n",
       "      <td>10.00</td>\n",
       "      <td>0.99</td>\n",
       "      <td>1603.8</td>\n",
       "      <td>5</td>\n",
       "      <td>92</td>\n",
       "      <td>0</td>\n",
       "    </tr>\n",
       "    <tr>\n",
       "      <th>1</th>\n",
       "      <td>1143</td>\n",
       "      <td>2160.0</td>\n",
       "      <td>2160</td>\n",
       "      <td>5.33</td>\n",
       "      <td>5.33</td>\n",
       "      <td>0</td>\n",
       "      <td>8.91</td>\n",
       "      <td>0.00</td>\n",
       "      <td>0.0</td>\n",
       "      <td>0</td>\n",
       "      <td>0</td>\n",
       "      <td>0</td>\n",
       "    </tr>\n",
       "    <tr>\n",
       "      <th>2</th>\n",
       "      <td>2059</td>\n",
       "      <td>2160.0</td>\n",
       "      <td>2160</td>\n",
       "      <td>5.33</td>\n",
       "      <td>5.33</td>\n",
       "      <td>0</td>\n",
       "      <td>8.91</td>\n",
       "      <td>0.00</td>\n",
       "      <td>0.0</td>\n",
       "      <td>0</td>\n",
       "      <td>388</td>\n",
       "      <td>0</td>\n",
       "    </tr>\n",
       "    <tr>\n",
       "      <th>3</th>\n",
       "      <td>2882</td>\n",
       "      <td>1620.0</td>\n",
       "      <td>1620</td>\n",
       "      <td>5.96</td>\n",
       "      <td>5.96</td>\n",
       "      <td>0</td>\n",
       "      <td>8.91</td>\n",
       "      <td>0.42</td>\n",
       "      <td>680.4</td>\n",
       "      <td>1</td>\n",
       "      <td>129</td>\n",
       "      <td>0</td>\n",
       "    </tr>\n",
       "    <tr>\n",
       "      <th>4</th>\n",
       "      <td>3342</td>\n",
       "      <td>2160.0</td>\n",
       "      <td>2160</td>\n",
       "      <td>5.33</td>\n",
       "      <td>5.33</td>\n",
       "      <td>0</td>\n",
       "      <td>8.91</td>\n",
       "      <td>0.22</td>\n",
       "      <td>475.2</td>\n",
       "      <td>0</td>\n",
       "      <td>361</td>\n",
       "      <td>0</td>\n",
       "    </tr>\n",
       "    <tr>\n",
       "      <th>...</th>\n",
       "      <td>...</td>\n",
       "      <td>...</td>\n",
       "      <td>...</td>\n",
       "      <td>...</td>\n",
       "      <td>...</td>\n",
       "      <td>...</td>\n",
       "      <td>...</td>\n",
       "      <td>...</td>\n",
       "      <td>...</td>\n",
       "      <td>...</td>\n",
       "      <td>...</td>\n",
       "      <td>...</td>\n",
       "    </tr>\n",
       "    <tr>\n",
       "      <th>14079</th>\n",
       "      <td>28220</td>\n",
       "      <td>1620.0</td>\n",
       "      <td>1620</td>\n",
       "      <td>5.33</td>\n",
       "      <td>5.33</td>\n",
       "      <td>1</td>\n",
       "      <td>9.00</td>\n",
       "      <td>0.61</td>\n",
       "      <td>988.2</td>\n",
       "      <td>0</td>\n",
       "      <td>4</td>\n",
       "      <td>0</td>\n",
       "    </tr>\n",
       "    <tr>\n",
       "      <th>14080</th>\n",
       "      <td>28671</td>\n",
       "      <td>1080.0</td>\n",
       "      <td>1080</td>\n",
       "      <td>6.55</td>\n",
       "      <td>6.55</td>\n",
       "      <td>1</td>\n",
       "      <td>6.00</td>\n",
       "      <td>0.29</td>\n",
       "      <td>313.2</td>\n",
       "      <td>0</td>\n",
       "      <td>29</td>\n",
       "      <td>0</td>\n",
       "    </tr>\n",
       "    <tr>\n",
       "      <th>14081</th>\n",
       "      <td>31134</td>\n",
       "      <td>2160.0</td>\n",
       "      <td>2160</td>\n",
       "      <td>6.14</td>\n",
       "      <td>6.14</td>\n",
       "      <td>0</td>\n",
       "      <td>8.91</td>\n",
       "      <td>0.00</td>\n",
       "      <td>0.0</td>\n",
       "      <td>0</td>\n",
       "      <td>0</td>\n",
       "      <td>0</td>\n",
       "    </tr>\n",
       "    <tr>\n",
       "      <th>14082</th>\n",
       "      <td>32832</td>\n",
       "      <td>1620.0</td>\n",
       "      <td>1620</td>\n",
       "      <td>5.33</td>\n",
       "      <td>5.33</td>\n",
       "      <td>1</td>\n",
       "      <td>8.00</td>\n",
       "      <td>0.38</td>\n",
       "      <td>615.6</td>\n",
       "      <td>0</td>\n",
       "      <td>90</td>\n",
       "      <td>0</td>\n",
       "    </tr>\n",
       "    <tr>\n",
       "      <th>14083</th>\n",
       "      <td>251</td>\n",
       "      <td>1674.0</td>\n",
       "      <td>3348</td>\n",
       "      <td>5.33</td>\n",
       "      <td>10.67</td>\n",
       "      <td>0</td>\n",
       "      <td>8.91</td>\n",
       "      <td>0.00</td>\n",
       "      <td>0.0</td>\n",
       "      <td>0</td>\n",
       "      <td>0</td>\n",
       "      <td>1</td>\n",
       "    </tr>\n",
       "  </tbody>\n",
       "</table>\n",
       "<p>14084 rows × 12 columns</p>\n",
       "</div>"
      ],
      "text/plain": [
       "       Unnamed: 0  Book_length(mins)_overall  Book_length(mins)_avg  \\\n",
       "0             994                     1620.0                   1620   \n",
       "1            1143                     2160.0                   2160   \n",
       "2            2059                     2160.0                   2160   \n",
       "3            2882                     1620.0                   1620   \n",
       "4            3342                     2160.0                   2160   \n",
       "...           ...                        ...                    ...   \n",
       "14079       28220                     1620.0                   1620   \n",
       "14080       28671                     1080.0                   1080   \n",
       "14081       31134                     2160.0                   2160   \n",
       "14082       32832                     1620.0                   1620   \n",
       "14083         251                     1674.0                   3348   \n",
       "\n",
       "       Price_overall  Price_avg  Review  Review10/10  Completion  \\\n",
       "0              19.73      19.73       1        10.00        0.99   \n",
       "1               5.33       5.33       0         8.91        0.00   \n",
       "2               5.33       5.33       0         8.91        0.00   \n",
       "3               5.96       5.96       0         8.91        0.42   \n",
       "4               5.33       5.33       0         8.91        0.22   \n",
       "...              ...        ...     ...          ...         ...   \n",
       "14079           5.33       5.33       1         9.00        0.61   \n",
       "14080           6.55       6.55       1         6.00        0.29   \n",
       "14081           6.14       6.14       0         8.91        0.00   \n",
       "14082           5.33       5.33       1         8.00        0.38   \n",
       "14083           5.33      10.67       0         8.91        0.00   \n",
       "\n",
       "       Minutes_listened  Support_Request  Last_Visited_mins_Purchase_date  \\\n",
       "0                1603.8                5                               92   \n",
       "1                   0.0                0                                0   \n",
       "2                   0.0                0                              388   \n",
       "3                 680.4                1                              129   \n",
       "4                 475.2                0                              361   \n",
       "...                 ...              ...                              ...   \n",
       "14079             988.2                0                                4   \n",
       "14080             313.2                0                               29   \n",
       "14081               0.0                0                                0   \n",
       "14082             615.6                0                               90   \n",
       "14083               0.0                0                                0   \n",
       "\n",
       "       Target  \n",
       "0           0  \n",
       "1           0  \n",
       "2           0  \n",
       "3           0  \n",
       "4           0  \n",
       "...       ...  \n",
       "14079       0  \n",
       "14080       0  \n",
       "14081       0  \n",
       "14082       0  \n",
       "14083       1  \n",
       "\n",
       "[14084 rows x 12 columns]"
      ]
     },
     "execution_count": 3,
     "metadata": {},
     "output_type": "execute_result"
    }
   ],
   "source": [
    "# data previously downloaded from https://www.kaggle.com/datasets/faressayah/audiobook-app-data/download\n",
    "df = pd.read_csv(\"audiobook_data_2.csv\")\n",
    "df"
   ]
  },
  {
   "cell_type": "code",
   "execution_count": 4,
   "id": "114e1a4e",
   "metadata": {},
   "outputs": [
    {
     "data": {
      "text/html": [
       "<div>\n",
       "<style scoped>\n",
       "    .dataframe tbody tr th:only-of-type {\n",
       "        vertical-align: middle;\n",
       "    }\n",
       "\n",
       "    .dataframe tbody tr th {\n",
       "        vertical-align: top;\n",
       "    }\n",
       "\n",
       "    .dataframe thead th {\n",
       "        text-align: right;\n",
       "    }\n",
       "</style>\n",
       "<table border=\"1\" class=\"dataframe\">\n",
       "  <thead>\n",
       "    <tr style=\"text-align: right;\">\n",
       "      <th></th>\n",
       "      <th>0</th>\n",
       "      <th>1</th>\n",
       "      <th>2</th>\n",
       "      <th>3</th>\n",
       "      <th>4</th>\n",
       "      <th>5</th>\n",
       "      <th>6</th>\n",
       "      <th>7</th>\n",
       "      <th>8</th>\n",
       "      <th>9</th>\n",
       "      <th>10</th>\n",
       "      <th>11</th>\n",
       "    </tr>\n",
       "  </thead>\n",
       "  <tbody>\n",
       "    <tr>\n",
       "      <th>0</th>\n",
       "      <td>994</td>\n",
       "      <td>1620.0</td>\n",
       "      <td>1620</td>\n",
       "      <td>19.73</td>\n",
       "      <td>19.73</td>\n",
       "      <td>1</td>\n",
       "      <td>10.00</td>\n",
       "      <td>0.99</td>\n",
       "      <td>1603.8</td>\n",
       "      <td>5</td>\n",
       "      <td>92</td>\n",
       "      <td>0</td>\n",
       "    </tr>\n",
       "    <tr>\n",
       "      <th>1</th>\n",
       "      <td>1143</td>\n",
       "      <td>2160.0</td>\n",
       "      <td>2160</td>\n",
       "      <td>5.33</td>\n",
       "      <td>5.33</td>\n",
       "      <td>0</td>\n",
       "      <td>8.91</td>\n",
       "      <td>0.00</td>\n",
       "      <td>0.0</td>\n",
       "      <td>0</td>\n",
       "      <td>0</td>\n",
       "      <td>0</td>\n",
       "    </tr>\n",
       "    <tr>\n",
       "      <th>2</th>\n",
       "      <td>2059</td>\n",
       "      <td>2160.0</td>\n",
       "      <td>2160</td>\n",
       "      <td>5.33</td>\n",
       "      <td>5.33</td>\n",
       "      <td>0</td>\n",
       "      <td>8.91</td>\n",
       "      <td>0.00</td>\n",
       "      <td>0.0</td>\n",
       "      <td>0</td>\n",
       "      <td>388</td>\n",
       "      <td>0</td>\n",
       "    </tr>\n",
       "    <tr>\n",
       "      <th>3</th>\n",
       "      <td>2882</td>\n",
       "      <td>1620.0</td>\n",
       "      <td>1620</td>\n",
       "      <td>5.96</td>\n",
       "      <td>5.96</td>\n",
       "      <td>0</td>\n",
       "      <td>8.91</td>\n",
       "      <td>0.42</td>\n",
       "      <td>680.4</td>\n",
       "      <td>1</td>\n",
       "      <td>129</td>\n",
       "      <td>0</td>\n",
       "    </tr>\n",
       "    <tr>\n",
       "      <th>4</th>\n",
       "      <td>3342</td>\n",
       "      <td>2160.0</td>\n",
       "      <td>2160</td>\n",
       "      <td>5.33</td>\n",
       "      <td>5.33</td>\n",
       "      <td>0</td>\n",
       "      <td>8.91</td>\n",
       "      <td>0.22</td>\n",
       "      <td>475.2</td>\n",
       "      <td>0</td>\n",
       "      <td>361</td>\n",
       "      <td>0</td>\n",
       "    </tr>\n",
       "    <tr>\n",
       "      <th>...</th>\n",
       "      <td>...</td>\n",
       "      <td>...</td>\n",
       "      <td>...</td>\n",
       "      <td>...</td>\n",
       "      <td>...</td>\n",
       "      <td>...</td>\n",
       "      <td>...</td>\n",
       "      <td>...</td>\n",
       "      <td>...</td>\n",
       "      <td>...</td>\n",
       "      <td>...</td>\n",
       "      <td>...</td>\n",
       "    </tr>\n",
       "    <tr>\n",
       "      <th>14079</th>\n",
       "      <td>28220</td>\n",
       "      <td>1620.0</td>\n",
       "      <td>1620</td>\n",
       "      <td>5.33</td>\n",
       "      <td>5.33</td>\n",
       "      <td>1</td>\n",
       "      <td>9.00</td>\n",
       "      <td>0.61</td>\n",
       "      <td>988.2</td>\n",
       "      <td>0</td>\n",
       "      <td>4</td>\n",
       "      <td>0</td>\n",
       "    </tr>\n",
       "    <tr>\n",
       "      <th>14080</th>\n",
       "      <td>28671</td>\n",
       "      <td>1080.0</td>\n",
       "      <td>1080</td>\n",
       "      <td>6.55</td>\n",
       "      <td>6.55</td>\n",
       "      <td>1</td>\n",
       "      <td>6.00</td>\n",
       "      <td>0.29</td>\n",
       "      <td>313.2</td>\n",
       "      <td>0</td>\n",
       "      <td>29</td>\n",
       "      <td>0</td>\n",
       "    </tr>\n",
       "    <tr>\n",
       "      <th>14081</th>\n",
       "      <td>31134</td>\n",
       "      <td>2160.0</td>\n",
       "      <td>2160</td>\n",
       "      <td>6.14</td>\n",
       "      <td>6.14</td>\n",
       "      <td>0</td>\n",
       "      <td>8.91</td>\n",
       "      <td>0.00</td>\n",
       "      <td>0.0</td>\n",
       "      <td>0</td>\n",
       "      <td>0</td>\n",
       "      <td>0</td>\n",
       "    </tr>\n",
       "    <tr>\n",
       "      <th>14082</th>\n",
       "      <td>32832</td>\n",
       "      <td>1620.0</td>\n",
       "      <td>1620</td>\n",
       "      <td>5.33</td>\n",
       "      <td>5.33</td>\n",
       "      <td>1</td>\n",
       "      <td>8.00</td>\n",
       "      <td>0.38</td>\n",
       "      <td>615.6</td>\n",
       "      <td>0</td>\n",
       "      <td>90</td>\n",
       "      <td>0</td>\n",
       "    </tr>\n",
       "    <tr>\n",
       "      <th>14083</th>\n",
       "      <td>251</td>\n",
       "      <td>1674.0</td>\n",
       "      <td>3348</td>\n",
       "      <td>5.33</td>\n",
       "      <td>10.67</td>\n",
       "      <td>0</td>\n",
       "      <td>8.91</td>\n",
       "      <td>0.00</td>\n",
       "      <td>0.0</td>\n",
       "      <td>0</td>\n",
       "      <td>0</td>\n",
       "      <td>1</td>\n",
       "    </tr>\n",
       "  </tbody>\n",
       "</table>\n",
       "<p>14084 rows × 12 columns</p>\n",
       "</div>"
      ],
      "text/plain": [
       "          0       1     2      3      4   5      6     7       8   9    10  11\n",
       "0        994  1620.0  1620  19.73  19.73   1  10.00  0.99  1603.8   5   92   0\n",
       "1       1143  2160.0  2160   5.33   5.33   0   8.91  0.00     0.0   0    0   0\n",
       "2       2059  2160.0  2160   5.33   5.33   0   8.91  0.00     0.0   0  388   0\n",
       "3       2882  1620.0  1620   5.96   5.96   0   8.91  0.42   680.4   1  129   0\n",
       "4       3342  2160.0  2160   5.33   5.33   0   8.91  0.22   475.2   0  361   0\n",
       "...      ...     ...   ...    ...    ...  ..    ...   ...     ...  ..  ...  ..\n",
       "14079  28220  1620.0  1620   5.33   5.33   1   9.00  0.61   988.2   0    4   0\n",
       "14080  28671  1080.0  1080   6.55   6.55   1   6.00  0.29   313.2   0   29   0\n",
       "14081  31134  2160.0  2160   6.14   6.14   0   8.91  0.00     0.0   0    0   0\n",
       "14082  32832  1620.0  1620   5.33   5.33   1   8.00  0.38   615.6   0   90   0\n",
       "14083    251  1674.0  3348   5.33  10.67   0   8.91  0.00     0.0   0    0   1\n",
       "\n",
       "[14084 rows x 12 columns]"
      ]
     },
     "execution_count": 4,
     "metadata": {},
     "output_type": "execute_result"
    }
   ],
   "source": [
    "# remove header row\n",
    "df = pd.read_csv(\"audiobook_data_2.csv\", header=None, skiprows=[0])\n",
    "df"
   ]
  },
  {
   "cell_type": "code",
   "execution_count": 5,
   "id": "a830a91b",
   "metadata": {},
   "outputs": [
    {
     "name": "stdout",
     "output_type": "stream",
     "text": [
      "<class 'pandas.core.frame.DataFrame'>\n",
      "RangeIndex: 14084 entries, 0 to 14083\n",
      "Data columns (total 12 columns):\n",
      " #   Column  Non-Null Count  Dtype  \n",
      "---  ------  --------------  -----  \n",
      " 0   0       14084 non-null  int64  \n",
      " 1   1       14084 non-null  float64\n",
      " 2   2       14084 non-null  int64  \n",
      " 3   3       14084 non-null  float64\n",
      " 4   4       14084 non-null  float64\n",
      " 5   5       14084 non-null  int64  \n",
      " 6   6       14084 non-null  float64\n",
      " 7   7       14084 non-null  float64\n",
      " 8   8       14084 non-null  float64\n",
      " 9   9       14084 non-null  int64  \n",
      " 10  10      14084 non-null  int64  \n",
      " 11  11      14084 non-null  int64  \n",
      "dtypes: float64(6), int64(6)\n",
      "memory usage: 1.3 MB\n"
     ]
    }
   ],
   "source": [
    "df.info()"
   ]
  },
  {
   "cell_type": "code",
   "execution_count": 6,
   "id": "0240a6eb",
   "metadata": {},
   "outputs": [
    {
     "data": {
      "text/html": [
       "<div>\n",
       "<style scoped>\n",
       "    .dataframe tbody tr th:only-of-type {\n",
       "        vertical-align: middle;\n",
       "    }\n",
       "\n",
       "    .dataframe tbody tr th {\n",
       "        vertical-align: top;\n",
       "    }\n",
       "\n",
       "    .dataframe thead th {\n",
       "        text-align: right;\n",
       "    }\n",
       "</style>\n",
       "<table border=\"1\" class=\"dataframe\">\n",
       "  <thead>\n",
       "    <tr style=\"text-align: right;\">\n",
       "      <th></th>\n",
       "      <th>1</th>\n",
       "      <th>2</th>\n",
       "      <th>3</th>\n",
       "      <th>4</th>\n",
       "      <th>5</th>\n",
       "      <th>6</th>\n",
       "      <th>7</th>\n",
       "      <th>8</th>\n",
       "      <th>9</th>\n",
       "      <th>10</th>\n",
       "    </tr>\n",
       "  </thead>\n",
       "  <tbody>\n",
       "    <tr>\n",
       "      <th>0</th>\n",
       "      <td>1620.0</td>\n",
       "      <td>1620</td>\n",
       "      <td>19.73</td>\n",
       "      <td>19.73</td>\n",
       "      <td>1</td>\n",
       "      <td>10.00</td>\n",
       "      <td>0.99</td>\n",
       "      <td>1603.8</td>\n",
       "      <td>5</td>\n",
       "      <td>92</td>\n",
       "    </tr>\n",
       "    <tr>\n",
       "      <th>1</th>\n",
       "      <td>2160.0</td>\n",
       "      <td>2160</td>\n",
       "      <td>5.33</td>\n",
       "      <td>5.33</td>\n",
       "      <td>0</td>\n",
       "      <td>8.91</td>\n",
       "      <td>0.00</td>\n",
       "      <td>0.0</td>\n",
       "      <td>0</td>\n",
       "      <td>0</td>\n",
       "    </tr>\n",
       "    <tr>\n",
       "      <th>2</th>\n",
       "      <td>2160.0</td>\n",
       "      <td>2160</td>\n",
       "      <td>5.33</td>\n",
       "      <td>5.33</td>\n",
       "      <td>0</td>\n",
       "      <td>8.91</td>\n",
       "      <td>0.00</td>\n",
       "      <td>0.0</td>\n",
       "      <td>0</td>\n",
       "      <td>388</td>\n",
       "    </tr>\n",
       "    <tr>\n",
       "      <th>3</th>\n",
       "      <td>1620.0</td>\n",
       "      <td>1620</td>\n",
       "      <td>5.96</td>\n",
       "      <td>5.96</td>\n",
       "      <td>0</td>\n",
       "      <td>8.91</td>\n",
       "      <td>0.42</td>\n",
       "      <td>680.4</td>\n",
       "      <td>1</td>\n",
       "      <td>129</td>\n",
       "    </tr>\n",
       "    <tr>\n",
       "      <th>4</th>\n",
       "      <td>2160.0</td>\n",
       "      <td>2160</td>\n",
       "      <td>5.33</td>\n",
       "      <td>5.33</td>\n",
       "      <td>0</td>\n",
       "      <td>8.91</td>\n",
       "      <td>0.22</td>\n",
       "      <td>475.2</td>\n",
       "      <td>0</td>\n",
       "      <td>361</td>\n",
       "    </tr>\n",
       "    <tr>\n",
       "      <th>...</th>\n",
       "      <td>...</td>\n",
       "      <td>...</td>\n",
       "      <td>...</td>\n",
       "      <td>...</td>\n",
       "      <td>...</td>\n",
       "      <td>...</td>\n",
       "      <td>...</td>\n",
       "      <td>...</td>\n",
       "      <td>...</td>\n",
       "      <td>...</td>\n",
       "    </tr>\n",
       "    <tr>\n",
       "      <th>14079</th>\n",
       "      <td>1620.0</td>\n",
       "      <td>1620</td>\n",
       "      <td>5.33</td>\n",
       "      <td>5.33</td>\n",
       "      <td>1</td>\n",
       "      <td>9.00</td>\n",
       "      <td>0.61</td>\n",
       "      <td>988.2</td>\n",
       "      <td>0</td>\n",
       "      <td>4</td>\n",
       "    </tr>\n",
       "    <tr>\n",
       "      <th>14080</th>\n",
       "      <td>1080.0</td>\n",
       "      <td>1080</td>\n",
       "      <td>6.55</td>\n",
       "      <td>6.55</td>\n",
       "      <td>1</td>\n",
       "      <td>6.00</td>\n",
       "      <td>0.29</td>\n",
       "      <td>313.2</td>\n",
       "      <td>0</td>\n",
       "      <td>29</td>\n",
       "    </tr>\n",
       "    <tr>\n",
       "      <th>14081</th>\n",
       "      <td>2160.0</td>\n",
       "      <td>2160</td>\n",
       "      <td>6.14</td>\n",
       "      <td>6.14</td>\n",
       "      <td>0</td>\n",
       "      <td>8.91</td>\n",
       "      <td>0.00</td>\n",
       "      <td>0.0</td>\n",
       "      <td>0</td>\n",
       "      <td>0</td>\n",
       "    </tr>\n",
       "    <tr>\n",
       "      <th>14082</th>\n",
       "      <td>1620.0</td>\n",
       "      <td>1620</td>\n",
       "      <td>5.33</td>\n",
       "      <td>5.33</td>\n",
       "      <td>1</td>\n",
       "      <td>8.00</td>\n",
       "      <td>0.38</td>\n",
       "      <td>615.6</td>\n",
       "      <td>0</td>\n",
       "      <td>90</td>\n",
       "    </tr>\n",
       "    <tr>\n",
       "      <th>14083</th>\n",
       "      <td>1674.0</td>\n",
       "      <td>3348</td>\n",
       "      <td>5.33</td>\n",
       "      <td>10.67</td>\n",
       "      <td>0</td>\n",
       "      <td>8.91</td>\n",
       "      <td>0.00</td>\n",
       "      <td>0.0</td>\n",
       "      <td>0</td>\n",
       "      <td>0</td>\n",
       "    </tr>\n",
       "  </tbody>\n",
       "</table>\n",
       "<p>14084 rows × 10 columns</p>\n",
       "</div>"
      ],
      "text/plain": [
       "           1     2      3      4   5      6     7       8   9    10\n",
       "0      1620.0  1620  19.73  19.73   1  10.00  0.99  1603.8   5   92\n",
       "1      2160.0  2160   5.33   5.33   0   8.91  0.00     0.0   0    0\n",
       "2      2160.0  2160   5.33   5.33   0   8.91  0.00     0.0   0  388\n",
       "3      1620.0  1620   5.96   5.96   0   8.91  0.42   680.4   1  129\n",
       "4      2160.0  2160   5.33   5.33   0   8.91  0.22   475.2   0  361\n",
       "...       ...   ...    ...    ...  ..    ...   ...     ...  ..  ...\n",
       "14079  1620.0  1620   5.33   5.33   1   9.00  0.61   988.2   0    4\n",
       "14080  1080.0  1080   6.55   6.55   1   6.00  0.29   313.2   0   29\n",
       "14081  2160.0  2160   6.14   6.14   0   8.91  0.00     0.0   0    0\n",
       "14082  1620.0  1620   5.33   5.33   1   8.00  0.38   615.6   0   90\n",
       "14083  1674.0  3348   5.33  10.67   0   8.91  0.00     0.0   0    0\n",
       "\n",
       "[14084 rows x 10 columns]"
      ]
     },
     "execution_count": 6,
     "metadata": {},
     "output_type": "execute_result"
    }
   ],
   "source": [
    "# drop ID column-0 and target column-11 from X\n",
    "X = df.drop(columns=[0,11])\n",
    "X"
   ]
  },
  {
   "cell_type": "code",
   "execution_count": 7,
   "id": "0fdb6fd2",
   "metadata": {},
   "outputs": [
    {
     "data": {
      "text/plain": [
       "0        0\n",
       "1        0\n",
       "2        0\n",
       "3        0\n",
       "4        0\n",
       "        ..\n",
       "14079    0\n",
       "14080    0\n",
       "14081    0\n",
       "14082    0\n",
       "14083    1\n",
       "Name: 11, Length: 14084, dtype: int64"
      ]
     },
     "execution_count": 7,
     "metadata": {},
     "output_type": "execute_result"
    }
   ],
   "source": [
    "y = df[11]\n",
    "y"
   ]
  },
  {
   "cell_type": "code",
   "execution_count": 8,
   "id": "8e714676",
   "metadata": {},
   "outputs": [],
   "source": [
    "X_array = X.to_numpy()\n",
    "y_array = y.to_numpy()"
   ]
  },
  {
   "cell_type": "code",
   "execution_count": 9,
   "id": "c2c8385d",
   "metadata": {},
   "outputs": [],
   "source": [
    "# shuffle data\n",
    "\n",
    "shuffled_indices = np.arange(X_array.shape[0])\n",
    "np.random.shuffle(shuffled_indices)\n",
    "\n",
    "X_shuffled = X_array[shuffled_indices]\n",
    "y_shuffled = y_array[shuffled_indices]"
   ]
  },
  {
   "cell_type": "code",
   "execution_count": 10,
   "id": "689c64bc",
   "metadata": {},
   "outputs": [],
   "source": [
    "from sklearn.model_selection import train_test_split\n",
    "\n",
    "X_train, X_test, y_train, y_test = train_test_split(X_shuffled, y_shuffled,\n",
    "                                                    test_size=0.3,\n",
    "                                                    random_state=42,\n",
    "                                                    stratify=y_shuffled)"
   ]
  },
  {
   "cell_type": "code",
   "execution_count": 11,
   "id": "7cf8eb78",
   "metadata": {},
   "outputs": [],
   "source": [
    "# even though trees approach does not require standardizing data, we will do it anyway\n",
    "\n",
    "from sklearn.preprocessing import StandardScaler\n",
    "\n",
    "sc = StandardScaler()\n",
    "X_train_std = sc.fit_transform(X_train)\n",
    "X_test_std = sc.transform(X_test)"
   ]
  },
  {
   "cell_type": "code",
   "execution_count": 12,
   "id": "153b0249",
   "metadata": {},
   "outputs": [
    {
     "data": {
      "text/plain": [
       "((9858, 10), (4226, 10), (9858,), (4226,))"
      ]
     },
     "execution_count": 12,
     "metadata": {},
     "output_type": "execute_result"
    }
   ],
   "source": [
    "X_train_std.shape, X_test_std.shape, y_train.shape, y_test.shape"
   ]
  },
  {
   "cell_type": "markdown",
   "id": "5544432e",
   "metadata": {},
   "source": [
    "#### Will re-balance target train data, by upsampling the positive class"
   ]
  },
  {
   "cell_type": "code",
   "execution_count": 13,
   "id": "9104946e",
   "metadata": {},
   "outputs": [
    {
     "data": {
      "text/plain": [
       "((9858,), array([0, 1], dtype=int64), 1566)"
      ]
     },
     "execution_count": 13,
     "metadata": {},
     "output_type": "execute_result"
    }
   ],
   "source": [
    "y_train.shape, np.unique(y_train), y_train.sum()"
   ]
  },
  {
   "cell_type": "code",
   "execution_count": 14,
   "id": "0edc7d05",
   "metadata": {},
   "outputs": [
    {
     "name": "stdout",
     "output_type": "stream",
     "text": [
      "Number of class-0 examples before: 8292\n",
      "Number of class-1 examples before: 1566\n"
     ]
    }
   ],
   "source": [
    "print('Number of class-0 examples before:', X_train_std[y_train == 0].shape[0])\n",
    "print('Number of class-1 examples before:', X_train_std[y_train == 1].shape[0])"
   ]
  },
  {
   "cell_type": "code",
   "execution_count": 15,
   "id": "05941345",
   "metadata": {},
   "outputs": [
    {
     "name": "stdout",
     "output_type": "stream",
     "text": [
      "Number of class-1 examples after: 8292\n"
     ]
    }
   ],
   "source": [
    "# data balancing on train set ONLY\n",
    "\n",
    "from sklearn.utils import resample\n",
    "\n",
    "X_upsampled, y_upsampled = resample(X_train_std[y_train == 1],\n",
    "                                    y_train[y_train == 1],\n",
    "                                    replace=True,\n",
    "                                    n_samples=X_train_std[y_train == 0].shape[0],\n",
    "                                    random_state=42)\n",
    "\n",
    "print('Number of class-1 examples after:', X_upsampled.shape[0])"
   ]
  },
  {
   "cell_type": "code",
   "execution_count": 16,
   "id": "f11008af",
   "metadata": {},
   "outputs": [
    {
     "data": {
      "text/plain": [
       "8292"
      ]
     },
     "execution_count": 16,
     "metadata": {},
     "output_type": "execute_result"
    }
   ],
   "source": [
    "y_upsampled.sum()"
   ]
  },
  {
   "cell_type": "code",
   "execution_count": 17,
   "id": "40ed781d",
   "metadata": {},
   "outputs": [],
   "source": [
    "X_train_std_balanced = np.vstack((X_train_std[y_train == 0], X_upsampled))"
   ]
  },
  {
   "cell_type": "code",
   "execution_count": 18,
   "id": "699c6c2b",
   "metadata": {},
   "outputs": [],
   "source": [
    "y_train_balanced = np.hstack((y_train[y_train == 0], y_upsampled))"
   ]
  },
  {
   "cell_type": "code",
   "execution_count": 19,
   "id": "578812d6",
   "metadata": {},
   "outputs": [
    {
     "data": {
      "text/plain": [
       "((16584, 10), (16584,), 8292)"
      ]
     },
     "execution_count": 19,
     "metadata": {},
     "output_type": "execute_result"
    }
   ],
   "source": [
    "X_train_std_balanced.shape, y_train_balanced.shape, y_train_balanced.sum()"
   ]
  },
  {
   "cell_type": "code",
   "execution_count": 20,
   "id": "47f9563e",
   "metadata": {},
   "outputs": [
    {
     "data": {
      "text/plain": [
       "((4226, 10), (4226,), 671)"
      ]
     },
     "execution_count": 20,
     "metadata": {},
     "output_type": "execute_result"
    }
   ],
   "source": [
    "X_test_std.shape, y_test.shape, y_test.sum()"
   ]
  },
  {
   "cell_type": "code",
   "execution_count": 21,
   "id": "eaa78f49",
   "metadata": {},
   "outputs": [],
   "source": [
    "################"
   ]
  },
  {
   "cell_type": "code",
   "execution_count": 24,
   "id": "d1e100df",
   "metadata": {},
   "outputs": [
    {
     "data": {
      "text/plain": [
       "'1.6.1'"
      ]
     },
     "execution_count": 24,
     "metadata": {},
     "output_type": "execute_result"
    }
   ],
   "source": [
    "import xgboost as xgb\n",
    "xgb.__version__\n",
    "\n",
    "#Note: we use XGBoost version >= 1.6"
   ]
  },
  {
   "cell_type": "code",
   "execution_count": 25,
   "id": "93789f09",
   "metadata": {},
   "outputs": [],
   "source": [
    "xgb_model = xgb.XGBClassifier(n_estimators=1000,\n",
    "                              learning_rate=0.055,\n",
    "                              max_depth=4,\n",
    "                              n_jobs=-1,\n",
    "                              random_state=42,\n",
    "                              use_label_encoder=False,\n",
    "                              tree_method='gpu_hist',\n",
    "                              gpu_id=0)"
   ]
  },
  {
   "cell_type": "code",
   "execution_count": 26,
   "id": "335796c8",
   "metadata": {},
   "outputs": [],
   "source": [
    "xgb_classifier = xgb_model.fit(X_train_std_balanced, y_train_balanced)"
   ]
  },
  {
   "cell_type": "code",
   "execution_count": 27,
   "id": "53c73d90",
   "metadata": {},
   "outputs": [],
   "source": [
    "y_train_pred = xgb_classifier.predict(X_train_std_balanced)\n",
    "y_test_pred = xgb_classifier.predict(X_test_std)"
   ]
  },
  {
   "cell_type": "code",
   "execution_count": 28,
   "id": "cfcdf70d",
   "metadata": {},
   "outputs": [],
   "source": [
    "from sklearn.metrics import accuracy_score\n",
    "\n",
    "xgb_classifier_train_acc = accuracy_score(y_train_balanced, y_train_pred)\n",
    "xgb_classifier_test_acc = accuracy_score(y_test, y_test_pred)"
   ]
  },
  {
   "cell_type": "markdown",
   "id": "d94ac940",
   "metadata": {},
   "source": [
    "#### Note: Accuracy is an appropriate metric for the train data, since it is now a \"balanced\" data set after resampling."
   ]
  },
  {
   "cell_type": "code",
   "execution_count": 29,
   "id": "7bd6065d",
   "metadata": {},
   "outputs": [
    {
     "name": "stdout",
     "output_type": "stream",
     "text": [
      "XGBoost train accuracy: 0.86547\n",
      "XGBoost test accuracy:  0.85045\n"
     ]
    }
   ],
   "source": [
    "print(f'XGBoost train accuracy: {xgb_classifier_train_acc:.5f}')\n",
    "print(f'XGBoost test accuracy:  {xgb_classifier_test_acc:.5f}')"
   ]
  },
  {
   "cell_type": "markdown",
   "id": "32c525ba",
   "metadata": {},
   "source": [
    "#### Will improve search of optimal parameters via GridSearchCV, RandomizedSearchCV"
   ]
  },
  {
   "cell_type": "code",
   "execution_count": 30,
   "id": "1c62bf76",
   "metadata": {},
   "outputs": [],
   "source": [
    "from sklearn.model_selection import GridSearchCV\n",
    "from sklearn.model_selection import RandomizedSearchCV\n",
    "\n",
    "param_grid_simple = {'n_estimators':[50,1000],\n",
    "                     'learning_rate':[0.010,0.300],\n",
    "                     'max_depth':[3,10],\n",
    "                     'gamma':[0,5],\n",
    "                     'subsample':[0.5,1.0],\n",
    "                     'colsample_bytree':[0.5,1.0]}\n",
    "\n",
    "param_grid_full = {'n_estimators':[50,100,200,400,800,1000],\n",
    "                   'learning_rate':[0.010,0.020,0.040,0.080,0.100,0.200,0.300],\n",
    "                   'max_depth':[3,4,5,6,7,8,9,10],\n",
    "                   'gamma':[0,1,2,3,4,5],\n",
    "                   'subsample':[0.5,0.6,0.7,0.8,0.9,1.0],\n",
    "                   'colsample_bytree':[0.5,0.6,0.7,0.8,0.9,1.0]}"
   ]
  },
  {
   "cell_type": "code",
   "execution_count": 31,
   "id": "da8a4df3",
   "metadata": {},
   "outputs": [],
   "source": [
    "xgb_model_grid_simple_search = GridSearchCV(xgb_model,\n",
    "                                            param_grid_simple,\n",
    "                                            n_jobs=-1,\n",
    "                                            cv=5,\n",
    "                                            verbose=3,\n",
    "                                            scoring='accuracy')"
   ]
  },
  {
   "cell_type": "code",
   "execution_count": 32,
   "id": "860249c5",
   "metadata": {},
   "outputs": [],
   "source": [
    "xgb_model_grid_full_search = GridSearchCV(xgb_model,\n",
    "                                          param_grid_full,\n",
    "                                          n_jobs=-1,\n",
    "                                          cv=5,\n",
    "                                          verbose=3,\n",
    "                                          scoring='accuracy')"
   ]
  },
  {
   "cell_type": "code",
   "execution_count": 33,
   "id": "7b9ff60f",
   "metadata": {},
   "outputs": [],
   "source": [
    "# WARNING: searching through \"param_grid_full\" takes a very LONG time\n",
    "# xgb_model_grid_full_search.fit(X_train_std_balanced, y_train_balanced)"
   ]
  },
  {
   "cell_type": "code",
   "execution_count": 34,
   "id": "c4287039",
   "metadata": {},
   "outputs": [
    {
     "name": "stdout",
     "output_type": "stream",
     "text": [
      "Fitting 5 folds for each of 64 candidates, totalling 320 fits\n"
     ]
    },
    {
     "data": {
      "text/plain": [
       "GridSearchCV(cv=5,\n",
       "             estimator=XGBClassifier(base_score=0.5, booster='gbtree',\n",
       "                                     callbacks=None, colsample_bylevel=1,\n",
       "                                     colsample_bynode=1, colsample_bytree=1,\n",
       "                                     early_stopping_rounds=None,\n",
       "                                     enable_categorical=False, eval_metric=None,\n",
       "                                     gamma=0, gpu_id=0, grow_policy='depthwise',\n",
       "                                     importance_type=None,\n",
       "                                     interaction_constraints='',\n",
       "                                     learning_rate=0.055, max_bin=256,\n",
       "                                     max_cat_to_on...\n",
       "                                     min_child_weight=1, missing=nan,\n",
       "                                     monotone_constraints='()',\n",
       "                                     n_estimators=1000, n_jobs=-1,\n",
       "                                     num_parallel_tree=1, predictor='auto',\n",
       "                                     random_state=42, reg_alpha=0, reg_lambda=1, ...),\n",
       "             n_jobs=-1,\n",
       "             param_grid={'colsample_bytree': [0.5, 1.0], 'gamma': [0, 5],\n",
       "                         'learning_rate': [0.01, 0.3], 'max_depth': [3, 10],\n",
       "                         'n_estimators': [50, 1000], 'subsample': [0.5, 1.0]},\n",
       "             scoring='accuracy', verbose=3)"
      ]
     },
     "execution_count": 34,
     "metadata": {},
     "output_type": "execute_result"
    }
   ],
   "source": [
    "xgb_model_grid_simple_search.fit(X_train_std_balanced, y_train_balanced)"
   ]
  },
  {
   "cell_type": "code",
   "execution_count": 35,
   "id": "d0880772",
   "metadata": {},
   "outputs": [],
   "source": [
    "xgb_classifier_optimized = xgb_model_grid_simple_search.best_estimator_"
   ]
  },
  {
   "cell_type": "code",
   "execution_count": 36,
   "id": "51e331db",
   "metadata": {},
   "outputs": [
    {
     "data": {
      "text/plain": [
       "{'colsample_bytree': 1.0,\n",
       " 'gamma': 0,\n",
       " 'learning_rate': 0.3,\n",
       " 'max_depth': 10,\n",
       " 'n_estimators': 1000,\n",
       " 'subsample': 0.5}"
      ]
     },
     "execution_count": 36,
     "metadata": {},
     "output_type": "execute_result"
    }
   ],
   "source": [
    "xgb_model_grid_simple_search.best_params_"
   ]
  },
  {
   "cell_type": "code",
   "execution_count": 37,
   "id": "1174965c",
   "metadata": {},
   "outputs": [],
   "source": [
    "xgb_classifier_optimized_train_acc = accuracy_score(y_train_balanced, xgb_classifier_optimized.predict(X_train_std_balanced))\n",
    "xgb_classifier_optimized_test_acc  = accuracy_score(y_test, xgb_classifier_optimized.predict(X_test_std))"
   ]
  },
  {
   "cell_type": "code",
   "execution_count": 38,
   "id": "c7df7dd6",
   "metadata": {},
   "outputs": [
    {
     "name": "stdout",
     "output_type": "stream",
     "text": [
      "XGBoost-optimized train accuracy: 0.90774\n",
      "XGBoost-optimized test accuracy:  0.86204\n"
     ]
    }
   ],
   "source": [
    "print(f'XGBoost-optimized train accuracy: {xgb_classifier_optimized_train_acc:.5f}')\n",
    "print(f'XGBoost-optimized test accuracy:  {xgb_classifier_optimized_test_acc:.5f}')"
   ]
  },
  {
   "cell_type": "code",
   "execution_count": 39,
   "id": "07afc937",
   "metadata": {},
   "outputs": [],
   "source": [
    "# distribution of non-integer parameters for the RandomizedSearchCV to sample from\n",
    "\n",
    "import scipy.stats\n",
    "\n",
    "param_range_learning_rate = scipy.stats.loguniform(0.010,0.300)\n",
    "param_range_gamma = scipy.stats.loguniform(0,5)\n",
    "param_range_subsample = scipy.stats.loguniform(0.5,1.0)\n",
    "param_range_colsample_bytree = scipy.stats.loguniform(0.5,1.0)\n",
    "\n",
    "param_grid_distributions_list = [{'n_estimators':[50,100,200,400,800,1000]},\n",
    "                                 {'learning_rate':param_range_learning_rate},\n",
    "                                 {'max_depth':[3,4,5,6,7,8,9,10]},\n",
    "                                 {'gamma':param_range_gamma},\n",
    "                                 {'subsample':param_range_subsample},\n",
    "                                 {'colsample_bytree':param_range_colsample_bytree}]\n",
    "\n",
    "# Note: it was found to be optimal to simply perform random search over the 'param_grid_full',\n",
    "#       rather than using log-distributions set up above"
   ]
  },
  {
   "cell_type": "code",
   "execution_count": 40,
   "id": "5d1a2e25",
   "metadata": {},
   "outputs": [],
   "source": [
    "xgb_model_random_search = RandomizedSearchCV(estimator=xgb_model,\n",
    "                                             param_distributions=param_grid_full,\n",
    "                                             #param_distributions=param_grid_distributions_list,\n",
    "                                             #n_iter=(30*2),\n",
    "                                             n_iter=100,\n",
    "                                             scoring='accuracy',\n",
    "                                             n_jobs=-1,\n",
    "                                             cv=5,\n",
    "                                             verbose=3,\n",
    "                                             random_state=42)"
   ]
  },
  {
   "cell_type": "code",
   "execution_count": 41,
   "id": "1d54d8dc",
   "metadata": {},
   "outputs": [
    {
     "name": "stdout",
     "output_type": "stream",
     "text": [
      "Fitting 5 folds for each of 100 candidates, totalling 500 fits\n"
     ]
    },
    {
     "data": {
      "text/plain": [
       "RandomizedSearchCV(cv=5,\n",
       "                   estimator=XGBClassifier(base_score=0.5, booster='gbtree',\n",
       "                                           callbacks=None, colsample_bylevel=1,\n",
       "                                           colsample_bynode=1,\n",
       "                                           colsample_bytree=1,\n",
       "                                           early_stopping_rounds=None,\n",
       "                                           enable_categorical=False,\n",
       "                                           eval_metric=None, gamma=0, gpu_id=0,\n",
       "                                           grow_policy='depthwise',\n",
       "                                           importance_type=None,\n",
       "                                           interaction_constraints='',\n",
       "                                           learning_rate=0.055, max_bin=256,\n",
       "                                           max_cat...\n",
       "                                           predictor='auto', random_state=42,\n",
       "                                           reg_alpha=0, reg_lambda=1, ...),\n",
       "                   n_iter=100, n_jobs=-1,\n",
       "                   param_distributions={'colsample_bytree': [0.5, 0.6, 0.7, 0.8,\n",
       "                                                             0.9, 1.0],\n",
       "                                        'gamma': [0, 1, 2, 3, 4, 5],\n",
       "                                        'learning_rate': [0.01, 0.02, 0.04,\n",
       "                                                          0.08, 0.1, 0.2, 0.3],\n",
       "                                        'max_depth': [3, 4, 5, 6, 7, 8, 9, 10],\n",
       "                                        'n_estimators': [50, 100, 200, 400, 800,\n",
       "                                                         1000],\n",
       "                                        'subsample': [0.5, 0.6, 0.7, 0.8, 0.9,\n",
       "                                                      1.0]},\n",
       "                   random_state=42, scoring='accuracy', verbose=3)"
      ]
     },
     "execution_count": 41,
     "metadata": {},
     "output_type": "execute_result"
    }
   ],
   "source": [
    "xgb_model_random_search.fit(X_train_std_balanced, y_train_balanced)"
   ]
  },
  {
   "cell_type": "code",
   "execution_count": 42,
   "id": "92cc0c02",
   "metadata": {},
   "outputs": [],
   "source": [
    "xgb_classifier_optimized_random = xgb_model_random_search.best_estimator_"
   ]
  },
  {
   "cell_type": "code",
   "execution_count": 43,
   "id": "d62e4a6d",
   "metadata": {},
   "outputs": [
    {
     "data": {
      "text/plain": [
       "{'subsample': 0.5,\n",
       " 'n_estimators': 400,\n",
       " 'max_depth': 7,\n",
       " 'learning_rate': 0.3,\n",
       " 'gamma': 0,\n",
       " 'colsample_bytree': 0.6}"
      ]
     },
     "execution_count": 43,
     "metadata": {},
     "output_type": "execute_result"
    }
   ],
   "source": [
    "xgb_model_random_search.best_params_"
   ]
  },
  {
   "cell_type": "code",
   "execution_count": 44,
   "id": "b07ea06f",
   "metadata": {},
   "outputs": [],
   "source": [
    "xgb_classifier_optimized_random_train_acc = accuracy_score(y_train_balanced, xgb_classifier_optimized_random.predict(X_train_std_balanced))\n",
    "xgb_classifier_optimized_random_test_acc  = accuracy_score(y_test, xgb_classifier_optimized_random.predict(X_test_std))"
   ]
  },
  {
   "cell_type": "code",
   "execution_count": 45,
   "id": "c0240500",
   "metadata": {},
   "outputs": [
    {
     "name": "stdout",
     "output_type": "stream",
     "text": [
      "XGBoost-optimized-random train accuracy: 0.90189\n",
      "XGBoost-optimized-random test accuracy:  0.86323\n"
     ]
    }
   ],
   "source": [
    "print(f'XGBoost-optimized-random train accuracy: {xgb_classifier_optimized_random_train_acc:.5f}')\n",
    "print(f'XGBoost-optimized-random test accuracy:  {xgb_classifier_optimized_random_test_acc:.5f}')"
   ]
  },
  {
   "cell_type": "code",
   "execution_count": 46,
   "id": "c5ac1815",
   "metadata": {},
   "outputs": [
    {
     "data": {
      "text/plain": [
       "<bound method XGBModel.get_params of XGBClassifier(base_score=0.5, booster='gbtree', callbacks=None,\n",
       "              colsample_bylevel=1, colsample_bynode=1, colsample_bytree=0.6,\n",
       "              early_stopping_rounds=None, enable_categorical=False,\n",
       "              eval_metric=None, gamma=0, gpu_id=0, grow_policy='depthwise',\n",
       "              importance_type=None, interaction_constraints='',\n",
       "              learning_rate=0.3, max_bin=256, max_cat_to_onehot=4,\n",
       "              max_delta_step=0, max_depth=7, max_leaves=0, min_child_weight=1,\n",
       "              missing=nan, monotone_constraints='()', n_estimators=400,\n",
       "              n_jobs=-1, num_parallel_tree=1, predictor='auto', random_state=42,\n",
       "              reg_alpha=0, reg_lambda=1, ...)>"
      ]
     },
     "execution_count": 46,
     "metadata": {},
     "output_type": "execute_result"
    }
   ],
   "source": [
    "xgb_classifier_optimized_random.get_params"
   ]
  },
  {
   "cell_type": "markdown",
   "id": "f49c4dc6",
   "metadata": {},
   "source": [
    "#### Final model verification using resampled test data set this time, to ensure model is making \"real\" predictions."
   ]
  },
  {
   "cell_type": "code",
   "execution_count": 47,
   "id": "00409a03",
   "metadata": {},
   "outputs": [
    {
     "name": "stdout",
     "output_type": "stream",
     "text": [
      "Number of class-0 test examples: 3555\n",
      "Number of class-1 test examples: 671\n"
     ]
    }
   ],
   "source": [
    "print('Number of class-0 test examples:', X_test_std[y_test == 0].shape[0])\n",
    "print('Number of class-1 test examples:', X_test_std[y_test == 1].shape[0])"
   ]
  },
  {
   "cell_type": "markdown",
   "id": "1c44c96b",
   "metadata": {},
   "source": [
    "#### Rebalance the test data to confirm that the accuracy metric of final model is indeed better than 50/50 guessing"
   ]
  },
  {
   "cell_type": "code",
   "execution_count": 48,
   "id": "7a657254",
   "metadata": {},
   "outputs": [
    {
     "name": "stdout",
     "output_type": "stream",
     "text": [
      "Number of class-1 test examples after rebalancing: 3555\n"
     ]
    }
   ],
   "source": [
    "X_test_upsampled, y_test_upsampled = resample(X_test_std[y_test == 1],\n",
    "                                     y_test[y_test == 1],\n",
    "                                     replace=True,\n",
    "                                     n_samples=X_test_std[y_test == 0].shape[0],\n",
    "                                     random_state=42)\n",
    "\n",
    "print('Number of class-1 test examples after rebalancing:', X_test_upsampled.shape[0])"
   ]
  },
  {
   "cell_type": "code",
   "execution_count": 49,
   "id": "32da37c2",
   "metadata": {},
   "outputs": [
    {
     "data": {
      "text/plain": [
       "3555"
      ]
     },
     "execution_count": 49,
     "metadata": {},
     "output_type": "execute_result"
    }
   ],
   "source": [
    "y_test_upsampled.sum()"
   ]
  },
  {
   "cell_type": "code",
   "execution_count": 50,
   "id": "426892e4",
   "metadata": {},
   "outputs": [],
   "source": [
    "X_test_std_balanced = np.vstack((X_test_std[y_test == 0], X_test_upsampled))\n",
    "y_test_balanced = np.hstack((y_test[y_test == 0], y_test_upsampled))"
   ]
  },
  {
   "cell_type": "code",
   "execution_count": 51,
   "id": "68554d66",
   "metadata": {},
   "outputs": [
    {
     "name": "stdout",
     "output_type": "stream",
     "text": [
      "Number of class-0 test-balanced examples: 3555\n",
      "Number of class-1 test-balanced examples: 3555\n"
     ]
    }
   ],
   "source": [
    "print('Number of class-0 test-balanced examples:', X_test_std_balanced[y_test_balanced == 0].shape[0])\n",
    "print('Number of class-1 test-balanced examples:', X_test_std_balanced[y_test_balanced == 1].shape[0])"
   ]
  },
  {
   "cell_type": "code",
   "execution_count": 52,
   "id": "27c49b23",
   "metadata": {},
   "outputs": [
    {
     "data": {
      "text/plain": [
       "((7110, 10), (7110,), 3555)"
      ]
     },
     "execution_count": 52,
     "metadata": {},
     "output_type": "execute_result"
    }
   ],
   "source": [
    "X_test_std_balanced.shape, y_test_balanced.shape, y_test_balanced.sum()"
   ]
  },
  {
   "cell_type": "code",
   "execution_count": 53,
   "id": "81226dc8",
   "metadata": {},
   "outputs": [],
   "source": [
    "y_test_balanced_prediction = xgb_classifier_optimized_random.predict(X_test_std_balanced)"
   ]
  },
  {
   "cell_type": "code",
   "execution_count": 54,
   "id": "f2061968",
   "metadata": {},
   "outputs": [
    {
     "name": "stdout",
     "output_type": "stream",
     "text": [
      "XGBoost-optimized-random test-balanced accuracy: 0.78284\n"
     ]
    }
   ],
   "source": [
    "xgb_classifier_optimized_random_test_balanced_acc = accuracy_score(y_test_balanced, y_test_balanced_prediction)\n",
    "print(f'XGBoost-optimized-random test-balanced accuracy: {xgb_classifier_optimized_random_test_balanced_acc:.5f}')"
   ]
  },
  {
   "cell_type": "markdown",
   "id": "bbcf01ee",
   "metadata": {},
   "source": [
    "#### Thus on a \"balanced\" test data set, our final model has accuracy: 78.3%."
   ]
  },
  {
   "cell_type": "markdown",
   "id": "2ebc5714",
   "metadata": {},
   "source": [
    "#### Using the UNbalanced test data to compute the final model metrics"
   ]
  },
  {
   "cell_type": "code",
   "execution_count": 57,
   "id": "5475378f",
   "metadata": {},
   "outputs": [],
   "source": [
    "y_test_prediction = xgb_classifier_optimized_random.predict(X_test_std)"
   ]
  },
  {
   "cell_type": "code",
   "execution_count": 58,
   "id": "d5c66f22",
   "metadata": {},
   "outputs": [
    {
     "data": {
      "text/plain": [
       "array([[3202,  353],\n",
       "       [ 225,  446]], dtype=int64)"
      ]
     },
     "execution_count": 58,
     "metadata": {},
     "output_type": "execute_result"
    }
   ],
   "source": [
    "from sklearn.metrics import confusion_matrix\n",
    "\n",
    "confusion_matrix(y_test, y_test_prediction)"
   ]
  },
  {
   "cell_type": "code",
   "execution_count": 59,
   "id": "f90f7fd4",
   "metadata": {},
   "outputs": [
    {
     "name": "stdout",
     "output_type": "stream",
     "text": [
      "XGBoost-optimized-random test accuracy: 0.86323\n",
      "XGBoost-optimized-random test precision: 0.55820\n",
      "XGBoost-optimized-random test recall: 0.66468\n",
      "XGBoost-optimized-random test f1-score: 0.60680\n"
     ]
    }
   ],
   "source": [
    "from sklearn.metrics import accuracy_score\n",
    "from sklearn.metrics import precision_score\n",
    "from sklearn.metrics import recall_score\n",
    "from sklearn.metrics import f1_score\n",
    "\n",
    "xgb_classifier_optimized_random_test_acc=accuracy_score(y_test, y_test_prediction)\n",
    "xgb_classifier_optimized_random_test_prec=precision_score(y_test, y_test_prediction)\n",
    "xgb_classifier_optimized_random_test_rec=recall_score(y_test, y_test_prediction)\n",
    "xgb_classifier_optimized_random_test_f1=f1_score(y_test, y_test_prediction)\n",
    "\n",
    "print(f'XGBoost-optimized-random test accuracy: {xgb_classifier_optimized_random_test_acc:.5f}')\n",
    "print(f'XGBoost-optimized-random test precision: {xgb_classifier_optimized_random_test_prec:.5f}')\n",
    "print(f'XGBoost-optimized-random test recall: {xgb_classifier_optimized_random_test_rec:.5f}')\n",
    "print(f'XGBoost-optimized-random test f1-score: {xgb_classifier_optimized_random_test_f1:.5f}')"
   ]
  },
  {
   "cell_type": "markdown",
   "id": "c12e21e1",
   "metadata": {},
   "source": [
    "### Finally, on the original test data set, our final F1-score: 0.60680"
   ]
  },
  {
   "cell_type": "markdown",
   "id": "1fb493dc",
   "metadata": {},
   "source": [
    "#### Save the final XGBoost model in JSON format into local drive"
   ]
  },
  {
   "cell_type": "code",
   "execution_count": 62,
   "id": "e137e58b",
   "metadata": {},
   "outputs": [],
   "source": [
    "xgb_classifier_optimized_random.save_model(\"xgb_classifier_optimized_random.json\")"
   ]
  },
  {
   "cell_type": "code",
   "execution_count": 63,
   "id": "923c4573",
   "metadata": {},
   "outputs": [],
   "source": [
    "# To reload the same model:\n",
    "\n",
    "# xgb_classifier_2 = xgb.XGBClassifier()\n",
    "# xgb_classifier_2.load_model(\"xgb_classifier_optimized_random.json\")"
   ]
  },
  {
   "cell_type": "code",
   "execution_count": null,
   "id": "5e9839bc",
   "metadata": {},
   "outputs": [],
   "source": []
  }
 ],
 "metadata": {
  "kernelspec": {
   "display_name": "Python 3 (ipykernel)",
   "language": "python",
   "name": "python3"
  },
  "language_info": {
   "codemirror_mode": {
    "name": "ipython",
    "version": 3
   },
   "file_extension": ".py",
   "mimetype": "text/x-python",
   "name": "python",
   "nbconvert_exporter": "python",
   "pygments_lexer": "ipython3",
   "version": "3.8.13"
  }
 },
 "nbformat": 4,
 "nbformat_minor": 5
}
